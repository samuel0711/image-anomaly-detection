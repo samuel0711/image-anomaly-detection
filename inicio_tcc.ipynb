{
  "nbformat": 4,
  "nbformat_minor": 0,
  "metadata": {
    "colab": {
      "name": "inicio_tcc.ipynb",
      "provenance": [],
      "collapsed_sections": [],
      "authorship_tag": "ABX9TyPzl8qXFCQr9zD3pdCFDolF",
      "include_colab_link": true
    },
    "kernelspec": {
      "name": "python3",
      "display_name": "Python 3"
    },
    "language_info": {
      "name": "python"
    }
  },
  "cells": [
    {
      "cell_type": "markdown",
      "metadata": {
        "id": "view-in-github",
        "colab_type": "text"
      },
      "source": [
        "<a href=\"https://colab.research.google.com/github/samuel0711/image-anomaly-detection/blob/main/inicio_tcc.ipynb\" target=\"_parent\"><img src=\"https://colab.research.google.com/assets/colab-badge.svg\" alt=\"Open In Colab\"/></a>"
      ]
    },
    {
      "cell_type": "code",
      "metadata": {
        "colab": {
          "base_uri": "https://localhost:8080/"
        },
        "id": "LSYuFnl5CR4n",
        "outputId": "08acee0c-7e1e-4860-ff4b-27742102a570"
      },
      "source": [
        "\n",
        "import io\n",
        "import sys\n",
        "import os\n",
        "import gc\n",
        "import shutil\n",
        "import numpy as np\n",
        "import matplotlib.pyplot as plt\n",
        "from skimage import io as skio\n",
        "from skimage.transform import resize\n",
        "import torch\n",
        "from torch import nn #neural networks\n",
        "\n",
        "\n",
        "\n",
        "if 'google.colab' in sys.modules:\n",
        "    from google.colab import drive\n",
        "    drive.mount('/content/drive')\n",
        "    os.chdir(\"/content/drive/My Drive/Colab Notebooks\")\n",
        "    sys.path.append('/content/drive/My Drive/Colab Notebooks')"
      ],
      "execution_count": 1,
      "outputs": [
        {
          "output_type": "stream",
          "name": "stdout",
          "text": [
            "Mounted at /content/drive\n"
          ]
        }
      ]
    },
    {
      "cell_type": "markdown",
      "metadata": {
        "id": "jUVwM39cC1jK"
      },
      "source": [
        "*   Peds1 tem 34 videos de treino e 36 de teste\n",
        "*   Peds2 tem 16 videos de treino e 12 de teste (associadas a eventos anômalos)\n",
        "*   Amostras de treino somente tem frames normais\n",
        "*   Cada amostra de teste contém pelo menos alguns frames anômalo.\n",
        "*   10 clips de teste de Peds1 e 12 de Peds2 são providenciados com 'Pixel Level Groundtruth Masks' com sufixo '_gt'\n"
      ]
    },
    {
      "cell_type": "code",
      "metadata": {
        "id": "Bf1_LjMYFgUD",
        "colab": {
          "base_uri": "https://localhost:8080/"
        },
        "outputId": "f3a9c727-9a97-4438-bff2-c3d920070607"
      },
      "source": [
        "path = os.path.join(os.path.abspath(os.getcwd()), \"UCSD_Anomaly_Dataset.v1p2/\") #UCSDped1/Test/Test014/\n",
        "\n",
        "tns = []\n",
        "\n",
        "\n",
        "subfolders = [os.path.join(path, subfolder) for subfolder in os.listdir(path) if os.path.isdir(os.path.join(path, subfolder))]\n",
        "\n",
        "\n",
        "#substituido arquivo que deu erro Test017/142\n",
        "def extract_datasets(subfolders):\n",
        "  tns = []\n",
        "\n",
        "  for subfolder in subfolders:\n",
        "    #print('subfolder: '+subfolder)\n",
        "    for root, idx, filenames in os.walk(subfolder):\n",
        "      #print('root: ',root, '\\nindex: ',idx,'\\nfilename: ', filenames)\n",
        "      if \"Train\" in root:\n",
        "        #print('root: ',root, '\\nindex: ',idx,'\\nfilename: ', filenames)\n",
        "        for filename in filenames: \n",
        "            if \".tif\" in filename:\n",
        "              img = skio.imread(os.path.join(root, filename))/1.0\n",
        "              tns.append(resize(img, (160,240), preserve_range = True))\n",
        "              # print('root: ',root, filename)\n",
        "              # print('\\n',img.shape)\n",
        "  \n",
        "  np.save('train_dataset', np.array(tns, dtype = np.float))\n",
        "\n",
        "  print(np.asarray(tns).shape)\n",
        "  print(np.asarray(tns[0]).shape)\n",
        "\n",
        "  tns = []\n",
        "\n",
        "  for subfolder in subfolders:\n",
        "    #print('subfolder: '+subfolder)\n",
        "    for root, idx, filenames in os.walk(subfolder):\n",
        "      #print('root: ',root, '\\nindex: ',idx,'\\nfilename: ', filenames)\n",
        "      if \"Test\" in root:\n",
        "        #print('root: ',root, '\\nindex: ',idx,'\\nfilename: ', filenames)\n",
        "        for filename in filenames: \n",
        "            if \".tif\" in filename:\n",
        "              img = skio.imread(os.path.join(root, filename))/1.0\n",
        "              tns.append(resize(img, (160,240), preserve_range = True))\n",
        "              #print(img.shape)\n",
        "  \n",
        "  np.save('test_dataset', np.array(tns, dtype = np.float))\n",
        "\n",
        "  print(np.asarray(tns).shape)\n",
        "  print(np.asarray(tns[0]).shape)\n",
        "  \n",
        "\n",
        "\n",
        "extract_datasets(subfolders)\n",
        "\n",
        "'''\n",
        "for root, idx, filenames in os.walk(path):\n",
        "  #print('root: ',root, '\\nindex: ',idx,'\\nfilename: ', filenames)\n",
        "  for filename in filenames:\n",
        "    print('root: ',root, '\\nindex: ',idx,'\\nfilename: ', filename)\n",
        "    #print(filename)\n",
        "    if '.bmp' in filename:\n",
        "      img = skio.imread(os.path.join(root, filename))\n",
        "      tns.append(img)\n",
        "      print(img.shape)\n",
        "      print(type(img))\n",
        "      plt.imshow(img)\n",
        "      #plt.figure()\n",
        "      #print(img.shape)\n",
        "'''\n",
        "print(type(tns))\n",
        "#print(tns)"
      ],
      "execution_count": 2,
      "outputs": [
        {
          "output_type": "stream",
          "name": "stderr",
          "text": [
            "/usr/local/lib/python3.7/dist-packages/ipykernel_launcher.py:26: DeprecationWarning: `np.float` is a deprecated alias for the builtin `float`. To silence this warning, use `float` by itself. Doing this will not modify any behavior and is safe. If you specifically wanted the numpy scalar type, use `np.float64` here.\n",
            "Deprecated in NumPy 1.20; for more details and guidance: https://numpy.org/devdocs/release/1.20.0-notes.html#deprecations\n"
          ]
        },
        {
          "output_type": "stream",
          "name": "stdout",
          "text": [
            "(9350, 160, 240)\n",
            "(160, 240)\n"
          ]
        },
        {
          "output_type": "stream",
          "name": "stderr",
          "text": [
            "/usr/local/lib/python3.7/dist-packages/ipykernel_launcher.py:45: DeprecationWarning: `np.float` is a deprecated alias for the builtin `float`. To silence this warning, use `float` by itself. Doing this will not modify any behavior and is safe. If you specifically wanted the numpy scalar type, use `np.float64` here.\n",
            "Deprecated in NumPy 1.20; for more details and guidance: https://numpy.org/devdocs/release/1.20.0-notes.html#deprecations\n"
          ]
        },
        {
          "output_type": "stream",
          "name": "stdout",
          "text": [
            "(9209, 160, 240)\n",
            "(160, 240)\n",
            "<class 'list'>\n"
          ]
        }
      ]
    },
    {
      "cell_type": "code",
      "metadata": {
        "id": "D3jiTA6BPUu0"
      },
      "source": [
        ""
      ],
      "execution_count": 2,
      "outputs": []
    }
  ]
}
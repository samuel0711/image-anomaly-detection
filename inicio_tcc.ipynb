{
  "cells": [
    {
      "cell_type": "markdown",
      "metadata": {
        "id": "view-in-github",
        "colab_type": "text"
      },
      "source": [
        "<a href=\"https://colab.research.google.com/github/samuel0711/image-anomaly-detection/blob/main/inicio_tcc.ipynb\" target=\"_parent\"><img src=\"https://colab.research.google.com/assets/colab-badge.svg\" alt=\"Open In Colab\"/></a>"
      ]
    },
    {
      "cell_type": "code",
      "execution_count": null,
      "metadata": {
        "colab": {
          "base_uri": "https://localhost:8080/"
        },
        "id": "LSYuFnl5CR4n",
        "outputId": "bc51da78-451f-4b6d-8bc5-c792bb8294b0"
      },
      "outputs": [
        {
          "output_type": "stream",
          "name": "stdout",
          "text": [
            "Drive already mounted at /content/drive; to attempt to forcibly remount, call drive.mount(\"/content/drive\", force_remount=True).\n"
          ]
        }
      ],
      "source": [
        "\n",
        "import io\n",
        "import sys\n",
        "import os\n",
        "import gc\n",
        "import shutil\n",
        "import numpy as np\n",
        "import matplotlib.pyplot as plt\n",
        "from skimage import io as skio\n",
        "from skimage.transform import resize\n",
        "import torch\n",
        "from torch import nn #neural networks\n",
        "\n",
        "\n",
        "\n",
        "if 'google.colab' in sys.modules:\n",
        "    from google.colab import drive\n",
        "    drive.mount('/content/drive')\n",
        "    os.chdir(\"/content/drive/My Drive/Colab Notebooks\")\n",
        "    sys.path.append('/content/drive/My Drive/Colab Notebooks')"
      ]
    },
    {
      "cell_type": "markdown",
      "metadata": {
        "id": "jUVwM39cC1jK"
      },
      "source": [
        "*   Peds1 tem 34 videos de treino e 36 de teste\n",
        "*   Peds2 tem 16 videos de treino e 12 de teste (associadas a eventos anômalos)\n",
        "*   Amostras de treino somente tem frames normais\n",
        "*   Cada amostra de teste contém pelo menos alguns frames anômalo.\n",
        "*   10 clips de teste de Peds1 e 12 de Peds2 são providenciados com 'Pixel Level Groundtruth Masks' com sufixo '_gt'\n"
      ]
    },
    {
      "cell_type": "code",
      "execution_count": null,
      "metadata": {
        "id": "Bf1_LjMYFgUD",
        "colab": {
          "base_uri": "https://localhost:8080/"
        },
        "outputId": "9308b2b8-fb3a-467d-808a-910c18110928"
      },
      "outputs": [
        {
          "output_type": "stream",
          "name": "stdout",
          "text": [
            "(5000, 160, 240)\n",
            "(160, 240)\n",
            "(1000, 160, 240)\n",
            "(160, 240)\n",
            "<class 'list'>\n"
          ]
        }
      ],
      "source": [
        "path = os.path.join(os.path.abspath(os.getcwd()), \"UCSD_Anomaly_Dataset.v1p2/\") #UCSDped1/Test/Test014/\n",
        "\n",
        "tns = []\n",
        "\n",
        "\n",
        "subfolders = [os.path.join(path, subfolder) for subfolder in os.listdir(path) if os.path.isdir(os.path.join(path, subfolder))]\n",
        "\n",
        "\n",
        "#substituido arquivo que deu erro Test017/142\n",
        "def extract_datasets(subfolders):\n",
        "  tns = []\n",
        "  limit = 5000\n",
        "  i = 0\n",
        "\n",
        "  for subfolder in subfolders:\n",
        "    #print('subfolder: '+subfolder)\n",
        "    for root, idx, filenames in os.walk(subfolder):\n",
        "      #print('root: ',root, '\\nindex: ',idx,'\\nfilename: ', filenames)\n",
        "      if \"Train\" in root:\n",
        "        #print('root: ',root, '\\nindex: ',idx,'\\nfilename: ', filenames)\n",
        "        for filename in filenames: \n",
        "            if \".tif\" in filename and i < limit:\n",
        "                img = skio.imread(os.path.join(root, filename))\n",
        "                tns.append(resize(img, (160,240), preserve_range = True))\n",
        "                # print('root: ',root, filename)\n",
        "                # print('\\n',img.shape)\n",
        "                i = i + 1\n",
        "  \n",
        "  np.save('train_dataset', np.array(tns, dtype = float))\n",
        "\n",
        "  print(np.asarray(tns).shape)\n",
        "  print(np.asarray(tns[0]).shape)\n",
        "\n",
        "  tns = []\n",
        "  limit = 1000\n",
        "  i = 0\n",
        "\n",
        "  for subfolder in subfolders:\n",
        "      #print('subfolder: '+subfolder)\n",
        "      for root, idx, filenames in os.walk(subfolder):\n",
        "        #print('root: ',root, '\\nindex: ',idx,'\\nfilename: ', filenames)\n",
        "        if \"Test\" in root:\n",
        "          #print('root: ',root, '\\nindex: ',idx,'\\nfilename: ', filenames)\n",
        "          for filename in filenames: \n",
        "              if \".tif\" in filename and i < limit:\n",
        "                img = skio.imread(os.path.join(root, filename))\n",
        "                tns.append(resize(img, (160,240), preserve_range = True))\n",
        "                # print('root: ',root, filename)\n",
        "                # print('\\n',img.shape)\n",
        "                i = i + 1\n",
        "\n",
        "  \n",
        "  np.save('test_dataset', np.array(tns, dtype = float))\n",
        "\n",
        "  print(np.asarray(tns).shape)\n",
        "  print(np.asarray(tns[0]).shape)\n",
        "  \n",
        "\n",
        "\n",
        "extract_datasets(subfolders)\n",
        "\n",
        "print(type(tns))\n",
        "#print(tns)"
      ]
    }
  ],
  "metadata": {
    "colab": {
      "collapsed_sections": [],
      "name": "inicio_tcc.ipynb",
      "provenance": [],
      "authorship_tag": "ABX9TyOelNu3Dg5WtSjUM5CoLWkv",
      "include_colab_link": true
    },
    "kernelspec": {
      "display_name": "Python 3",
      "name": "python3"
    },
    "language_info": {
      "name": "python"
    }
  },
  "nbformat": 4,
  "nbformat_minor": 0
}
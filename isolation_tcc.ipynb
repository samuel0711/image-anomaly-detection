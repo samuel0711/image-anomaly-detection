{
  "nbformat": 4,
  "nbformat_minor": 0,
  "metadata": {
    "colab": {
      "name": "isolation_tcc.ipynb",
      "provenance": [],
      "collapsed_sections": [],
      "authorship_tag": "ABX9TyPjQlcjW1yL4KTXf/+/lQEF",
      "include_colab_link": true
    },
    "kernelspec": {
      "name": "python3",
      "display_name": "Python 3"
    },
    "language_info": {
      "name": "python"
    },
    "accelerator": "GPU"
  },
  "cells": [
    {
      "cell_type": "markdown",
      "metadata": {
        "id": "view-in-github",
        "colab_type": "text"
      },
      "source": [
        "<a href=\"https://colab.research.google.com/github/samuel0711/image-anomaly-detection/blob/main/isolation_tcc.ipynb\" target=\"_parent\"><img src=\"https://colab.research.google.com/assets/colab-badge.svg\" alt=\"Open In Colab\"/></a>"
      ]
    },
    {
      "cell_type": "code",
      "metadata": {
        "colab": {
          "base_uri": "https://localhost:8080/"
        },
        "id": "LSYuFnl5CR4n",
        "outputId": "ca4d7c36-d84c-447f-b5f0-425cf0f6026f"
      },
      "source": [
        "import io\n",
        "import sys\n",
        "import os\n",
        "import gc\n",
        "import shutil\n",
        "import numpy as np\n",
        "import matplotlib.pyplot as plt\n",
        "from skimage import io as skio\n",
        "import torch\n",
        "from torch import nn #neural networks\n",
        "import torch.nn.functional as F\n",
        "from torchvision.utils import save_image\n",
        "\n",
        "\n",
        "import time\n",
        "\n",
        "#Carregamento de Dados\n",
        "from torch.utils.data import DataLoader\n",
        "from torchvision import datasets\n",
        "from torchvision import transforms\n",
        "from sklearn.ensemble import IsolationForest\n",
        "\n",
        "\n",
        "if 'google.colab' in sys.modules:\n",
        "    from google.colab import drive\n",
        "    drive.mount('/content/drive')\n",
        "    os.chdir(\"/content/drive/My Drive/Colab Notebooks\")\n",
        "    sys.path.append('/content/drive/My Drive/Colab Notebooks')"
      ],
      "execution_count": 76,
      "outputs": [
        {
          "output_type": "stream",
          "name": "stdout",
          "text": [
            "Drive already mounted at /content/drive; to attempt to forcibly remount, call drive.mount(\"/content/drive\", force_remount=True).\n"
          ]
        }
      ]
    },
    {
      "cell_type": "code",
      "metadata": {
        "id": "rYAT-KAsB42R",
        "colab": {
          "base_uri": "https://localhost:8080/"
        },
        "outputId": "90af1ee6-d0be-467a-ac6d-bf87771b1461"
      },
      "source": [
        "args = {\n",
        "    'epoch':75,          #Numero de épocas\n",
        "    'lr':5e-4,            #Taxa de aprendizado\n",
        "    'weight_decay':5e-4,  #Penalidade L2 (Regularização)\n",
        "    'batch_size': 50,     #Tamanho do batch\n",
        "    'num_workers': 2\n",
        "}\n",
        "\n",
        "if torch.cuda.is_available():\n",
        "  args['device'] = torch.device('cuda')\n",
        "else:\n",
        "  args['device'] = torch.device('cpu')\n",
        "\n",
        "print(args['device'])\n",
        "\n",
        "\n",
        "train_set = np.load('train_dataset.npy', allow_pickle = True)\n",
        "test_set = np.load('test_dataset.npy', allow_pickle = True)"
      ],
      "execution_count": 77,
      "outputs": [
        {
          "output_type": "stream",
          "name": "stdout",
          "text": [
            "cuda\n"
          ]
        }
      ]
    },
    {
      "cell_type": "code",
      "source": [
        "print('Treino\\nMédia: ',train_set.mean(),'\\t Desvio Padrão: ',train_set.std(),'\\n\\n')\n",
        "print('Teste\\nMédia: ',test_set.mean(),'\\t Desvio Padrão: ',test_set.std())"
      ],
      "metadata": {
        "colab": {
          "base_uri": "https://localhost:8080/"
        },
        "id": "nj4IxvZ5BC-8",
        "outputId": "d5019812-418d-48c5-d2ef-86f8b17b68e8"
      },
      "execution_count": 78,
      "outputs": [
        {
          "output_type": "stream",
          "name": "stdout",
          "text": [
            "Treino\n",
            "Média:  105.99875310358665 \t Desvio Padrão:  48.06406962223618 \n",
            "\n",
            "\n",
            "Teste\n",
            "Média:  112.34485052083333 \t Desvio Padrão:  45.537924097632626\n"
          ]
        }
      ]
    },
    {
      "cell_type": "code",
      "source": [
        "train_set = torch.from_numpy(train_set)\n",
        "\n",
        "test_set = torch.from_numpy(test_set)\n",
        "\n",
        "\n",
        "isolation_forest = IsolationForest()"
      ],
      "metadata": {
        "id": "iXr6tMUp0c_U"
      },
      "execution_count": 79,
      "outputs": []
    },
    {
      "cell_type": "code",
      "source": [
        "'''transform_train = transforms.Compose([\n",
        "    transforms.Normalize((train_set.mean(), ), (train_set.std(), ))\n",
        "])\n",
        "\n",
        "transform_test = transforms.Compose([\n",
        "    transforms.Normalize((test_set.mean(), ), (test_set.std(), ))\n",
        "])\n",
        "  \n",
        "# image\n",
        "train_set = transform_train(train_set)#.permute(1,2,0)\n",
        "test_set = transform_test(test_set)#.permute(1,2,0)'''"
      ],
      "metadata": {
        "id": "z1eefBaUuSuT",
        "colab": {
          "base_uri": "https://localhost:8080/",
          "height": 53
        },
        "outputId": "79f50fe9-8edb-402b-89da-61dab74e2ce4"
      },
      "execution_count": 80,
      "outputs": [
        {
          "output_type": "execute_result",
          "data": {
            "text/plain": [
              "'transform_train = transforms.Compose([\\n    transforms.Normalize((train_set.mean(), ), (train_set.std(), ))\\n])\\n\\ntransform_test = transforms.Compose([\\n    transforms.Normalize((test_set.mean(), ), (test_set.std(), ))\\n])\\n  \\n# image\\ntrain_set = transform_train(train_set)#.permute(1,2,0)\\ntest_set = transform_test(test_set)#.permute(1,2,0)'"
            ],
            "application/vnd.google.colaboratory.intrinsic+json": {
              "type": "string"
            }
          },
          "metadata": {},
          "execution_count": 80
        }
      ]
    },
    {
      "cell_type": "code",
      "metadata": {
        "id": "rJiOOTaxmimJ"
      },
      "source": [
        "train_loader = DataLoader(train_set, \n",
        "                          batch_size=args['batch_size'], \n",
        "                          shuffle=True, \n",
        "                          num_workers=args['num_workers'])\n",
        "\n",
        "test_loader = DataLoader(test_set, \n",
        "                         batch_size=args['batch_size'], \n",
        "                         shuffle=True, \n",
        "                         num_workers=args['num_workers']) "
      ],
      "execution_count": 81,
      "outputs": []
    },
    {
      "cell_type": "code",
      "source": [
        "#Define the Convolutional Autoencoder\n",
        "class ConvAutoencoder(nn.Module):\n",
        "    def __init__(self):\n",
        "        super(ConvAutoencoder, self).__init__()\n",
        "       \n",
        "        #Encoder\n",
        "        self.conv1 = nn.Conv2d(1, 32, 3, padding = 1)  #in_channel, out_channel, kernel_size\n",
        "        self.conv2 = nn.Conv2d(32, 64, 3, padding = 1)\n",
        "        self.conv3 = nn.Conv2d(64, 128, 3, padding = 1) \n",
        "        self.pool = nn.MaxPool2d(2) #kernel_size, stride\n",
        "       \n",
        "        #Decoder\n",
        "        self.t_conv1 = nn.ConvTranspose2d(128, 64, 2, stride=2)\n",
        "        self.t_conv2 = nn.ConvTranspose2d(64, 32, 2, stride=2)\n",
        "        self.t_conv3 = nn.ConvTranspose2d(32, 1, 2, stride=2)\n",
        "\n",
        "\n",
        "    def forward(self, x):\n",
        "        x = F.leaky_relu(self.conv1(x))\n",
        "        x = self.pool(x)\n",
        "        x = F.leaky_relu(self.conv2(x))\n",
        "        x = self.pool(x)\n",
        "        x = F.leaky_relu(self.conv3(x))\n",
        "        x = self.pool(x)\n",
        "        x = F.leaky_relu(self.t_conv1(x))\n",
        "        x = F.leaky_relu(self.t_conv2(x))\n",
        "        x = torch.sigmoid(self.t_conv3(x))\n",
        "              \n",
        "        return x\n",
        "\n",
        "\n",
        "#Instantiate the model\n",
        "model = ConvAutoencoder()\n"
      ],
      "metadata": {
        "id": "Es1OH4QXblsC"
      },
      "execution_count": 82,
      "outputs": []
    },
    {
      "cell_type": "markdown",
      "metadata": {
        "id": "RQhg2NBR46DB"
      },
      "source": [
        "# **Treinando**"
      ]
    },
    {
      "cell_type": "code",
      "metadata": {
        "id": "0-c6HSrSzJ1V",
        "colab": {
          "base_uri": "https://localhost:8080/"
        },
        "outputId": "a1529097-3ab1-4838-fbeb-567211b3fddf"
      },
      "source": [
        "from torch import optim\n",
        "\n",
        "criterio = nn.MSELoss().to(args['device'])\n",
        "optimizer = optim.Adam(model.parameters(), lr=args['lr'])\n",
        "model.to(args['device'])"
      ],
      "execution_count": 83,
      "outputs": [
        {
          "output_type": "execute_result",
          "data": {
            "text/plain": [
              "ConvAutoencoder(\n",
              "  (conv1): Conv2d(1, 32, kernel_size=(3, 3), stride=(1, 1), padding=(1, 1))\n",
              "  (conv2): Conv2d(32, 64, kernel_size=(3, 3), stride=(1, 1), padding=(1, 1))\n",
              "  (conv3): Conv2d(64, 128, kernel_size=(3, 3), stride=(1, 1), padding=(1, 1))\n",
              "  (pool): MaxPool2d(kernel_size=2, stride=2, padding=0, dilation=1, ceil_mode=False)\n",
              "  (t_conv1): ConvTranspose2d(128, 64, kernel_size=(2, 2), stride=(2, 2))\n",
              "  (t_conv2): ConvTranspose2d(64, 32, kernel_size=(2, 2), stride=(2, 2))\n",
              "  (t_conv3): ConvTranspose2d(32, 1, kernel_size=(2, 2), stride=(2, 2))\n",
              ")"
            ]
          },
          "metadata": {},
          "execution_count": 83
        }
      ]
    },
    {
      "cell_type": "code",
      "source": [
        "def save_decod_img(img, output, epoch, name):\n",
        "    img = img.view(img.size(0), 1, 120, 120)\n",
        "    output = output.view(output.size(0), 1, 120, 120)\n",
        "    error = output.view(output.size(0), 1, 120, 120) - img.view(img.size(0), 1, 120, 120)\n",
        "    save_image(img, './imgs_tcc/{}_imagem_image{}.png'.format(name,epoch))\n",
        "    save_image(output, './imgs_tcc/{}_output_image{}.png'.format(name,epoch))\n",
        "    save_image(error, './imgs_tcc/{}_error_image{}.png'.format(name,epoch))"
      ],
      "metadata": {
        "id": "_s9WKltZrPdU"
      },
      "execution_count": 84,
      "outputs": []
    },
    {
      "cell_type": "markdown",
      "source": [
        "## Treino ( Somente com imagens não-anomalas)"
      ],
      "metadata": {
        "id": "vMrPLQr4hvrE"
      }
    },
    {
      "cell_type": "code",
      "metadata": {
        "id": "GemLuqJp7aIL"
      },
      "source": [
        "def train(train_loader, model, epoch, name):\n",
        "  ###################\n",
        "  # treinando o modelo #\n",
        "  ###################\n",
        "  model.train()\n",
        "  \n",
        "  start = time.time()\n",
        "\n",
        "  tns = []\n",
        "\n",
        "  train_loss = 0.0\n",
        "  for data in train_loader:\n",
        "    imagem = data.unsqueeze(1).float()\n",
        "    imagem = imagem.to(args['device'])\n",
        "\n",
        "    imagem = (imagem/255.0).to(torch.float32)\n",
        "\n",
        "    # clear the gradients of all optimized variables\n",
        "    optimizer.zero_grad()\n",
        "\n",
        "    # forward pass\n",
        "    output = model(imagem)\n",
        "\n",
        "    isolation_forest.fit(torch.flatten(imagem,start_dim=1).cpu().data)\n",
        "\n",
        "    # calculando loss\n",
        "    loss = criterio(output, imagem)\n",
        "\n",
        "    # backpropagation\n",
        "    loss.backward()\n",
        "\n",
        "    # próximo passo\n",
        "    optimizer.step()\n",
        "\n",
        "    # update running training loss\n",
        "    train_loss += loss.item()\n",
        "\n",
        "    if epoch == args['epoch']:\n",
        "      for x, y in zip(imagem, output):\n",
        "          tns.append(np.array(y.squeeze().cpu().data - x.squeeze().cpu().data))\n",
        "\n",
        "  if epoch % 5 == 0:\n",
        "    save_decod_img(imagem.cpu().data, output.cpu().data, epoch, name)\n",
        "\n",
        "\n",
        "  train_loss = train_loss/len(train_loader)\n",
        "\n",
        "  end = time.time()\n",
        "\n",
        "\n",
        "  print('########## Train ##########')\n",
        "\n",
        "  print(\"Epoca: {}\\t Train Loss: {:.6f}, Time: {:.2f}\\n\".format(epoch, train_loss, end-start))\n",
        "  #print(\"Medía do Loss:\", epoch_loss_train.mean())\n",
        "\n",
        "  return train_loss"
      ],
      "execution_count": 85,
      "outputs": []
    },
    {
      "cell_type": "markdown",
      "source": [
        "## Teste ( Somente com imagens anômalas )"
      ],
      "metadata": {
        "id": "4SqIE-syh4Dm"
      }
    },
    {
      "cell_type": "code",
      "source": [
        "def validate(test_loader, model, epoch, name):\n",
        "  ###################\n",
        "  # validando o modelo #\n",
        "  ###################\n",
        "  model.eval()\n",
        "\n",
        "  tns = []\n",
        "  predicts = []\n",
        "  outliers, inliers = 0, 0\n",
        "  \n",
        "  start = time.time()\n",
        "  \n",
        "  test_loss = 0.0\n",
        "  with torch.no_grad():\n",
        "    for data in test_loader:\n",
        "      imagem = data.unsqueeze(1).float()\n",
        "      imagem = imagem.to(args['device'])\n",
        "\n",
        "      imagem = (imagem/255.0).to(torch.float32)\n",
        "      # forward pass\n",
        "      output = model(imagem)\n",
        "\n",
        "      y = isolation_forest.predict(torch.flatten(imagem,start_dim=1).cpu().data)\n",
        "      outliers += list(y).count(-1)\n",
        "      inliers += list(y).count(1)\n",
        "      predicts.append(list(y).count(-1)/y.shape[0])\n",
        "\n",
        "      # calculando loss\n",
        "      loss = criterio(output, imagem)\n",
        "\n",
        "      # update running test loss\n",
        "      test_loss += loss.item()\n",
        "\n",
        "      if epoch == args['epoch']:\n",
        "        for x, y in zip(imagem, output):\n",
        "          tns.append(y.squeeze().cpu().numpy() - x.squeeze().cpu().numpy())\n",
        "\n",
        "    test_loss = test_loss/len(test_loader)\n",
        "    end = time.time()\n",
        "\n",
        "    if epoch % 5 == 0:\n",
        "      save_decod_img(imagem.cpu().data, output.cpu().data, epoch, name)\n",
        "    print('########## Test ##########')\n",
        "\n",
        "    \n",
        "    print(\"Epoca: {}\\t Test Loss: {:.6f}, Time: {:.2f}\\nAcurácia do Isolation Forest: {:.3f}\\t {} Outliers, {} Inliers\".format(epoch, test_loss, end-start, (sum(predicts)/len(predicts)), outliers, inliers))\n",
        "\n",
        "    return test_loss, (sum(predicts)/len(predicts))"
      ],
      "metadata": {
        "id": "991BeROg8xf3"
      },
      "execution_count": 91,
      "outputs": []
    },
    {
      "cell_type": "markdown",
      "source": [
        "## Rodando Teste e Treino\n"
      ],
      "metadata": {
        "id": "6eTPY7xYolud"
      }
    },
    {
      "cell_type": "code",
      "source": [
        "train_losses, test_losses = [], []\n",
        "test_predicts = []\n",
        "\n",
        "i = 1\n",
        "for epoch in range(args['epoch']):\n",
        "  #Train\n",
        "  train_loss = train(train_loader, model, epoch, 'train')\n",
        "  train_losses.append(train_loss)\n",
        "\n",
        "  test_loss, predicts = validate(test_loader, model, epoch, 'test')\n",
        "  test_losses.append(test_loss)\n",
        "  test_predicts.append(predicts)"
      ],
      "metadata": {
        "id": "X16XessjolJa",
        "colab": {
          "base_uri": "https://localhost:8080/"
        },
        "outputId": "c563b8fb-f282-47db-f41b-c515b95a8904"
      },
      "execution_count": 92,
      "outputs": [
        {
          "output_type": "stream",
          "name": "stdout",
          "text": [
            "########## Train ##########\n",
            "Epoca: 0\t Train Loss: 0.003107, Time: 35.26\n",
            "\n",
            "########## Test ##########\n",
            "Epoca: 0\t Test Loss: 0.002579, Time: 5.73\n",
            "Acurácia do Isolation Forest: 0.390\t 390 Outliers, 610 Inliers\n",
            "########## Train ##########\n",
            "Epoca: 1\t Train Loss: 0.002710, Time: 34.90\n",
            "\n",
            "########## Test ##########\n",
            "Epoca: 1\t Test Loss: 0.002339, Time: 5.75\n",
            "Acurácia do Isolation Forest: 0.133\t 133 Outliers, 867 Inliers\n",
            "########## Train ##########\n",
            "Epoca: 2\t Train Loss: 0.002457, Time: 35.30\n",
            "\n",
            "########## Test ##########\n",
            "Epoca: 2\t Test Loss: 0.002155, Time: 5.48\n",
            "Acurácia do Isolation Forest: 0.263\t 263 Outliers, 737 Inliers\n",
            "########## Train ##########\n",
            "Epoca: 3\t Train Loss: 0.002229, Time: 34.42\n",
            "\n",
            "########## Test ##########\n",
            "Epoca: 3\t Test Loss: 0.001929, Time: 5.70\n",
            "Acurácia do Isolation Forest: 0.223\t 223 Outliers, 777 Inliers\n",
            "########## Train ##########\n",
            "Epoca: 4\t Train Loss: 0.002041, Time: 34.64\n",
            "\n",
            "########## Test ##########\n",
            "Epoca: 4\t Test Loss: 0.001788, Time: 5.48\n",
            "Acurácia do Isolation Forest: 0.211\t 211 Outliers, 789 Inliers\n",
            "########## Train ##########\n",
            "Epoca: 5\t Train Loss: 0.001890, Time: 35.95\n",
            "\n",
            "########## Test ##########\n",
            "Epoca: 5\t Test Loss: 0.001673, Time: 5.76\n",
            "Acurácia do Isolation Forest: 0.180\t 180 Outliers, 820 Inliers\n",
            "########## Train ##########\n",
            "Epoca: 6\t Train Loss: 0.001777, Time: 35.11\n",
            "\n",
            "########## Test ##########\n",
            "Epoca: 6\t Test Loss: 0.001608, Time: 5.52\n",
            "Acurácia do Isolation Forest: 0.006\t 6 Outliers, 994 Inliers\n",
            "########## Train ##########\n",
            "Epoca: 7\t Train Loss: 0.001678, Time: 35.35\n",
            "\n",
            "########## Test ##########\n",
            "Epoca: 7\t Test Loss: 0.001512, Time: 5.80\n",
            "Acurácia do Isolation Forest: 0.304\t 304 Outliers, 696 Inliers\n",
            "########## Train ##########\n",
            "Epoca: 8\t Train Loss: 0.001595, Time: 34.89\n",
            "\n",
            "########## Test ##########\n",
            "Epoca: 8\t Test Loss: 0.001450, Time: 5.50\n",
            "Acurácia do Isolation Forest: 0.381\t 381 Outliers, 619 Inliers\n",
            "########## Train ##########\n",
            "Epoca: 9\t Train Loss: 0.001526, Time: 34.74\n",
            "\n",
            "########## Test ##########\n",
            "Epoca: 9\t Test Loss: 0.001396, Time: 5.65\n",
            "Acurácia do Isolation Forest: 0.326\t 326 Outliers, 674 Inliers\n",
            "########## Train ##########\n",
            "Epoca: 10\t Train Loss: 0.001467, Time: 36.13\n",
            "\n",
            "########## Test ##########\n",
            "Epoca: 10\t Test Loss: 0.001353, Time: 5.48\n",
            "Acurácia do Isolation Forest: 0.384\t 384 Outliers, 616 Inliers\n",
            "########## Train ##########\n",
            "Epoca: 11\t Train Loss: 0.001403, Time: 34.52\n",
            "\n",
            "########## Test ##########\n",
            "Epoca: 11\t Test Loss: 0.001330, Time: 5.72\n",
            "Acurácia do Isolation Forest: 0.427\t 427 Outliers, 573 Inliers\n",
            "########## Train ##########\n",
            "Epoca: 12\t Train Loss: 0.001363, Time: 34.55\n",
            "\n",
            "########## Test ##########\n",
            "Epoca: 12\t Test Loss: 0.001292, Time: 5.47\n",
            "Acurácia do Isolation Forest: 0.371\t 371 Outliers, 629 Inliers\n",
            "########## Train ##########\n",
            "Epoca: 13\t Train Loss: 0.001312, Time: 34.45\n",
            "\n",
            "########## Test ##########\n",
            "Epoca: 13\t Test Loss: 0.001256, Time: 5.66\n",
            "Acurácia do Isolation Forest: 0.416\t 416 Outliers, 584 Inliers\n",
            "########## Train ##########\n",
            "Epoca: 14\t Train Loss: 0.001281, Time: 34.63\n",
            "\n",
            "########## Test ##########\n",
            "Epoca: 14\t Test Loss: 0.001239, Time: 5.47\n",
            "Acurácia do Isolation Forest: 0.345\t 345 Outliers, 655 Inliers\n",
            "########## Train ##########\n",
            "Epoca: 15\t Train Loss: 0.001241, Time: 35.65\n",
            "\n",
            "########## Test ##########\n",
            "Epoca: 15\t Test Loss: 0.001207, Time: 5.81\n",
            "Acurácia do Isolation Forest: 0.451\t 451 Outliers, 549 Inliers\n",
            "########## Train ##########\n",
            "Epoca: 16\t Train Loss: 0.001216, Time: 36.12\n",
            "\n",
            "########## Test ##########\n",
            "Epoca: 16\t Test Loss: 0.001239, Time: 5.74\n",
            "Acurácia do Isolation Forest: 0.031\t 31 Outliers, 969 Inliers\n",
            "########## Train ##########\n",
            "Epoca: 17\t Train Loss: 0.001185, Time: 35.29\n",
            "\n",
            "########## Test ##########\n",
            "Epoca: 17\t Test Loss: 0.001180, Time: 5.50\n",
            "Acurácia do Isolation Forest: 0.380\t 380 Outliers, 620 Inliers\n",
            "########## Train ##########\n",
            "Epoca: 18\t Train Loss: 0.001160, Time: 34.88\n",
            "\n",
            "########## Test ##########\n",
            "Epoca: 18\t Test Loss: 0.001141, Time: 5.69\n",
            "Acurácia do Isolation Forest: 0.484\t 484 Outliers, 516 Inliers\n",
            "########## Train ##########\n",
            "Epoca: 19\t Train Loss: 0.001140, Time: 34.78\n",
            "\n",
            "########## Test ##########\n",
            "Epoca: 19\t Test Loss: 0.001130, Time: 5.51\n",
            "Acurácia do Isolation Forest: 0.114\t 114 Outliers, 886 Inliers\n",
            "########## Train ##########\n",
            "Epoca: 20\t Train Loss: 0.001111, Time: 35.37\n",
            "\n",
            "########## Test ##########\n",
            "Epoca: 20\t Test Loss: 0.001123, Time: 5.76\n",
            "Acurácia do Isolation Forest: 0.313\t 313 Outliers, 687 Inliers\n",
            "########## Train ##########\n",
            "Epoca: 21\t Train Loss: 0.001086, Time: 34.94\n",
            "\n",
            "########## Test ##########\n",
            "Epoca: 21\t Test Loss: 0.001097, Time: 5.51\n",
            "Acurácia do Isolation Forest: 0.167\t 167 Outliers, 833 Inliers\n",
            "########## Train ##########\n",
            "Epoca: 22\t Train Loss: 0.001063, Time: 34.51\n",
            "\n",
            "########## Test ##########\n",
            "Epoca: 22\t Test Loss: 0.001078, Time: 5.49\n",
            "Acurácia do Isolation Forest: 0.642\t 642 Outliers, 358 Inliers\n",
            "########## Train ##########\n",
            "Epoca: 23\t Train Loss: 0.001049, Time: 34.67\n",
            "\n",
            "########## Test ##########\n",
            "Epoca: 23\t Test Loss: 0.001084, Time: 5.74\n",
            "Acurácia do Isolation Forest: 0.471\t 471 Outliers, 529 Inliers\n",
            "########## Train ##########\n",
            "Epoca: 24\t Train Loss: 0.001024, Time: 34.00\n",
            "\n",
            "########## Test ##########\n",
            "Epoca: 24\t Test Loss: 0.001065, Time: 5.53\n",
            "Acurácia do Isolation Forest: 0.287\t 287 Outliers, 713 Inliers\n",
            "########## Train ##########\n",
            "Epoca: 25\t Train Loss: 0.001008, Time: 34.81\n",
            "\n",
            "########## Test ##########\n",
            "Epoca: 25\t Test Loss: 0.001042, Time: 5.71\n",
            "Acurácia do Isolation Forest: 0.331\t 331 Outliers, 669 Inliers\n",
            "########## Train ##########\n",
            "Epoca: 26\t Train Loss: 0.000992, Time: 34.35\n",
            "\n",
            "########## Test ##########\n",
            "Epoca: 26\t Test Loss: 0.001035, Time: 5.44\n",
            "Acurácia do Isolation Forest: 0.328\t 328 Outliers, 672 Inliers\n",
            "########## Train ##########\n",
            "Epoca: 27\t Train Loss: 0.000975, Time: 34.18\n",
            "\n",
            "########## Test ##########\n",
            "Epoca: 27\t Test Loss: 0.001032, Time: 5.47\n",
            "Acurácia do Isolation Forest: 0.108\t 108 Outliers, 892 Inliers\n",
            "########## Train ##########\n",
            "Epoca: 28\t Train Loss: 0.000964, Time: 34.54\n",
            "\n",
            "########## Test ##########\n",
            "Epoca: 28\t Test Loss: 0.001008, Time: 5.66\n",
            "Acurácia do Isolation Forest: 0.408\t 408 Outliers, 592 Inliers\n",
            "########## Train ##########\n",
            "Epoca: 29\t Train Loss: 0.000944, Time: 34.25\n",
            "\n",
            "########## Test ##########\n",
            "Epoca: 29\t Test Loss: 0.001007, Time: 5.45\n",
            "Acurácia do Isolation Forest: 0.077\t 77 Outliers, 923 Inliers\n",
            "########## Train ##########\n",
            "Epoca: 30\t Train Loss: 0.000935, Time: 35.21\n",
            "\n",
            "########## Test ##########\n",
            "Epoca: 30\t Test Loss: 0.000995, Time: 5.74\n",
            "Acurácia do Isolation Forest: 0.002\t 2 Outliers, 998 Inliers\n",
            "########## Train ##########\n",
            "Epoca: 31\t Train Loss: 0.000921, Time: 34.56\n",
            "\n",
            "########## Test ##########\n",
            "Epoca: 31\t Test Loss: 0.000991, Time: 5.46\n",
            "Acurácia do Isolation Forest: 0.052\t 52 Outliers, 948 Inliers\n",
            "########## Train ##########\n",
            "Epoca: 32\t Train Loss: 0.000910, Time: 34.27\n",
            "\n",
            "########## Test ##########\n",
            "Epoca: 32\t Test Loss: 0.000994, Time: 5.40\n",
            "Acurácia do Isolation Forest: 0.573\t 573 Outliers, 427 Inliers\n",
            "########## Train ##########\n",
            "Epoca: 33\t Train Loss: 0.000899, Time: 33.99\n",
            "\n",
            "########## Test ##########\n",
            "Epoca: 33\t Test Loss: 0.000977, Time: 5.60\n",
            "Acurácia do Isolation Forest: 0.386\t 386 Outliers, 614 Inliers\n",
            "########## Train ##########\n",
            "Epoca: 34\t Train Loss: 0.000888, Time: 34.15\n",
            "\n",
            "########## Test ##########\n",
            "Epoca: 34\t Test Loss: 0.000962, Time: 5.43\n",
            "Acurácia do Isolation Forest: 0.018\t 18 Outliers, 982 Inliers\n",
            "########## Train ##########\n",
            "Epoca: 35\t Train Loss: 0.000880, Time: 35.42\n",
            "\n",
            "########## Test ##########\n",
            "Epoca: 35\t Test Loss: 0.000957, Time: 5.74\n",
            "Acurácia do Isolation Forest: 0.104\t 104 Outliers, 896 Inliers\n",
            "########## Train ##########\n",
            "Epoca: 36\t Train Loss: 0.000871, Time: 35.21\n",
            "\n",
            "########## Test ##########\n",
            "Epoca: 36\t Test Loss: 0.000951, Time: 5.54\n",
            "Acurácia do Isolation Forest: 0.331\t 331 Outliers, 669 Inliers\n",
            "########## Train ##########\n",
            "Epoca: 37\t Train Loss: 0.000861, Time: 34.58\n",
            "\n",
            "########## Test ##########\n",
            "Epoca: 37\t Test Loss: 0.000947, Time: 5.42\n",
            "Acurácia do Isolation Forest: 0.647\t 647 Outliers, 353 Inliers\n",
            "########## Train ##########\n",
            "Epoca: 38\t Train Loss: 0.000853, Time: 34.08\n",
            "\n",
            "########## Test ##########\n",
            "Epoca: 38\t Test Loss: 0.000942, Time: 5.65\n",
            "Acurácia do Isolation Forest: 0.450\t 450 Outliers, 550 Inliers\n",
            "########## Train ##########\n",
            "Epoca: 39\t Train Loss: 0.000847, Time: 34.14\n",
            "\n",
            "########## Test ##########\n",
            "Epoca: 39\t Test Loss: 0.000936, Time: 5.46\n",
            "Acurácia do Isolation Forest: 0.324\t 324 Outliers, 676 Inliers\n",
            "########## Train ##########\n",
            "Epoca: 40\t Train Loss: 0.000841, Time: 35.27\n",
            "\n",
            "########## Test ##########\n",
            "Epoca: 40\t Test Loss: 0.000939, Time: 5.72\n",
            "Acurácia do Isolation Forest: 0.279\t 279 Outliers, 721 Inliers\n",
            "########## Train ##########\n",
            "Epoca: 41\t Train Loss: 0.000837, Time: 34.21\n",
            "\n",
            "########## Test ##########\n",
            "Epoca: 41\t Test Loss: 0.000919, Time: 5.47\n",
            "Acurácia do Isolation Forest: 0.282\t 282 Outliers, 718 Inliers\n",
            "########## Train ##########\n",
            "Epoca: 42\t Train Loss: 0.000825, Time: 33.99\n",
            "\n",
            "########## Test ##########\n",
            "Epoca: 42\t Test Loss: 0.000916, Time: 5.49\n",
            "Acurácia do Isolation Forest: 0.281\t 281 Outliers, 719 Inliers\n",
            "########## Train ##########\n",
            "Epoca: 43\t Train Loss: 0.000820, Time: 34.91\n",
            "\n",
            "########## Test ##########\n",
            "Epoca: 43\t Test Loss: 0.000927, Time: 5.62\n",
            "Acurácia do Isolation Forest: 0.250\t 250 Outliers, 750 Inliers\n",
            "########## Train ##########\n",
            "Epoca: 44\t Train Loss: 0.000815, Time: 34.68\n",
            "\n",
            "########## Test ##########\n",
            "Epoca: 44\t Test Loss: 0.000924, Time: 5.46\n",
            "Acurácia do Isolation Forest: 0.556\t 556 Outliers, 444 Inliers\n",
            "########## Train ##########\n",
            "Epoca: 45\t Train Loss: 0.000809, Time: 35.59\n",
            "\n",
            "########## Test ##########\n",
            "Epoca: 45\t Test Loss: 0.000912, Time: 5.89\n",
            "Acurácia do Isolation Forest: 0.213\t 213 Outliers, 787 Inliers\n",
            "########## Train ##########\n",
            "Epoca: 46\t Train Loss: 0.000804, Time: 34.33\n",
            "\n",
            "########## Test ##########\n",
            "Epoca: 46\t Test Loss: 0.000906, Time: 5.50\n",
            "Acurácia do Isolation Forest: 0.624\t 624 Outliers, 376 Inliers\n",
            "########## Train ##########\n",
            "Epoca: 47\t Train Loss: 0.000799, Time: 34.34\n",
            "\n",
            "########## Test ##########\n",
            "Epoca: 47\t Test Loss: 0.000896, Time: 5.46\n",
            "Acurácia do Isolation Forest: 0.361\t 361 Outliers, 639 Inliers\n",
            "########## Train ##########\n",
            "Epoca: 48\t Train Loss: 0.000796, Time: 34.60\n",
            "\n",
            "########## Test ##########\n",
            "Epoca: 48\t Test Loss: 0.000896, Time: 5.60\n",
            "Acurácia do Isolation Forest: 0.372\t 372 Outliers, 628 Inliers\n",
            "########## Train ##########\n",
            "Epoca: 49\t Train Loss: 0.000788, Time: 34.51\n",
            "\n",
            "########## Test ##########\n",
            "Epoca: 49\t Test Loss: 0.000887, Time: 5.44\n",
            "Acurácia do Isolation Forest: 0.478\t 478 Outliers, 522 Inliers\n",
            "########## Train ##########\n",
            "Epoca: 50\t Train Loss: 0.000783, Time: 36.47\n",
            "\n",
            "########## Test ##########\n",
            "Epoca: 50\t Test Loss: 0.000901, Time: 5.71\n",
            "Acurácia do Isolation Forest: 0.204\t 204 Outliers, 796 Inliers\n",
            "########## Train ##########\n",
            "Epoca: 51\t Train Loss: 0.000778, Time: 34.50\n",
            "\n",
            "########## Test ##########\n",
            "Epoca: 51\t Test Loss: 0.000882, Time: 5.41\n",
            "Acurácia do Isolation Forest: 0.217\t 217 Outliers, 783 Inliers\n",
            "########## Train ##########\n",
            "Epoca: 52\t Train Loss: 0.000773, Time: 34.15\n",
            "\n",
            "########## Test ##########\n",
            "Epoca: 52\t Test Loss: 0.000888, Time: 5.62\n",
            "Acurácia do Isolation Forest: 0.460\t 460 Outliers, 540 Inliers\n",
            "########## Train ##########\n",
            "Epoca: 53\t Train Loss: 0.000771, Time: 34.70\n",
            "\n",
            "########## Test ##########\n",
            "Epoca: 53\t Test Loss: 0.000882, Time: 5.46\n",
            "Acurácia do Isolation Forest: 0.329\t 329 Outliers, 671 Inliers\n",
            "########## Train ##########\n",
            "Epoca: 54\t Train Loss: 0.000763, Time: 34.72\n",
            "\n",
            "########## Test ##########\n",
            "Epoca: 54\t Test Loss: 0.000877, Time: 5.70\n",
            "Acurácia do Isolation Forest: 0.337\t 337 Outliers, 663 Inliers\n",
            "########## Train ##########\n",
            "Epoca: 55\t Train Loss: 0.000760, Time: 36.29\n",
            "\n",
            "########## Test ##########\n",
            "Epoca: 55\t Test Loss: 0.000873, Time: 5.44\n",
            "Acurácia do Isolation Forest: 0.325\t 325 Outliers, 675 Inliers\n",
            "########## Train ##########\n",
            "Epoca: 56\t Train Loss: 0.000757, Time: 34.28\n",
            "\n",
            "########## Test ##########\n",
            "Epoca: 56\t Test Loss: 0.000868, Time: 5.41\n",
            "Acurácia do Isolation Forest: 0.001\t 1 Outliers, 999 Inliers\n",
            "########## Train ##########\n",
            "Epoca: 57\t Train Loss: 0.000752, Time: 34.00\n",
            "\n",
            "########## Test ##########\n",
            "Epoca: 57\t Test Loss: 0.000867, Time: 5.65\n",
            "Acurácia do Isolation Forest: 0.385\t 385 Outliers, 615 Inliers\n",
            "########## Train ##########\n",
            "Epoca: 58\t Train Loss: 0.000749, Time: 34.44\n",
            "\n",
            "########## Test ##########\n",
            "Epoca: 58\t Test Loss: 0.000870, Time: 5.43\n",
            "Acurácia do Isolation Forest: 0.341\t 341 Outliers, 659 Inliers\n",
            "########## Train ##########\n",
            "Epoca: 59\t Train Loss: 0.000742, Time: 34.29\n",
            "\n",
            "########## Test ##########\n",
            "Epoca: 59\t Test Loss: 0.000861, Time: 5.62\n",
            "Acurácia do Isolation Forest: 0.391\t 391 Outliers, 609 Inliers\n",
            "########## Train ##########\n",
            "Epoca: 60\t Train Loss: 0.000747, Time: 35.46\n",
            "\n",
            "########## Test ##########\n",
            "Epoca: 60\t Test Loss: 0.000859, Time: 5.45\n",
            "Acurácia do Isolation Forest: 0.592\t 592 Outliers, 408 Inliers\n",
            "########## Train ##########\n",
            "Epoca: 61\t Train Loss: 0.000734, Time: 34.33\n",
            "\n",
            "########## Test ##########\n",
            "Epoca: 61\t Test Loss: 0.000848, Time: 5.40\n",
            "Acurácia do Isolation Forest: 0.326\t 326 Outliers, 674 Inliers\n",
            "########## Train ##########\n",
            "Epoca: 62\t Train Loss: 0.000733, Time: 34.08\n",
            "\n",
            "########## Test ##########\n",
            "Epoca: 62\t Test Loss: 0.000850, Time: 5.57\n",
            "Acurácia do Isolation Forest: 0.231\t 231 Outliers, 769 Inliers\n",
            "########## Train ##########\n",
            "Epoca: 63\t Train Loss: 0.000731, Time: 34.13\n",
            "\n",
            "########## Test ##########\n",
            "Epoca: 63\t Test Loss: 0.000846, Time: 5.76\n",
            "Acurácia do Isolation Forest: 0.362\t 362 Outliers, 638 Inliers\n",
            "########## Train ##########\n",
            "Epoca: 64\t Train Loss: 0.000725, Time: 35.19\n",
            "\n",
            "########## Test ##########\n",
            "Epoca: 64\t Test Loss: 0.000845, Time: 5.69\n",
            "Acurácia do Isolation Forest: 0.298\t 298 Outliers, 702 Inliers\n",
            "########## Train ##########\n",
            "Epoca: 65\t Train Loss: 0.000724, Time: 35.72\n",
            "\n",
            "########## Test ##########\n",
            "Epoca: 65\t Test Loss: 0.000853, Time: 5.45\n",
            "Acurácia do Isolation Forest: 0.366\t 366 Outliers, 634 Inliers\n",
            "########## Train ##########\n",
            "Epoca: 66\t Train Loss: 0.000719, Time: 34.41\n",
            "\n",
            "########## Test ##########\n",
            "Epoca: 66\t Test Loss: 0.000837, Time: 5.45\n",
            "Acurácia do Isolation Forest: 0.329\t 329 Outliers, 671 Inliers\n",
            "########## Train ##########\n",
            "Epoca: 67\t Train Loss: 0.000716, Time: 34.15\n",
            "\n",
            "########## Test ##########\n",
            "Epoca: 67\t Test Loss: 0.000843, Time: 5.62\n",
            "Acurácia do Isolation Forest: 0.403\t 403 Outliers, 597 Inliers\n",
            "########## Train ##########\n",
            "Epoca: 68\t Train Loss: 0.000717, Time: 34.53\n",
            "\n",
            "########## Test ##########\n",
            "Epoca: 68\t Test Loss: 0.000831, Time: 5.42\n",
            "Acurácia do Isolation Forest: 0.373\t 373 Outliers, 627 Inliers\n",
            "########## Train ##########\n",
            "Epoca: 69\t Train Loss: 0.000711, Time: 33.97\n",
            "\n",
            "########## Test ##########\n",
            "Epoca: 69\t Test Loss: 0.000830, Time: 5.66\n",
            "Acurácia do Isolation Forest: 0.200\t 200 Outliers, 800 Inliers\n",
            "########## Train ##########\n",
            "Epoca: 70\t Train Loss: 0.000707, Time: 35.57\n",
            "\n",
            "########## Test ##########\n",
            "Epoca: 70\t Test Loss: 0.000833, Time: 5.41\n",
            "Acurácia do Isolation Forest: 0.183\t 183 Outliers, 817 Inliers\n",
            "########## Train ##########\n",
            "Epoca: 71\t Train Loss: 0.000707, Time: 34.08\n",
            "\n",
            "########## Test ##########\n",
            "Epoca: 71\t Test Loss: 0.000823, Time: 5.39\n",
            "Acurácia do Isolation Forest: 0.185\t 185 Outliers, 815 Inliers\n",
            "########## Train ##########\n",
            "Epoca: 72\t Train Loss: 0.000698, Time: 34.00\n",
            "\n",
            "########## Test ##########\n",
            "Epoca: 72\t Test Loss: 0.000826, Time: 5.60\n",
            "Acurácia do Isolation Forest: 0.160\t 160 Outliers, 840 Inliers\n",
            "########## Train ##########\n",
            "Epoca: 73\t Train Loss: 0.000704, Time: 34.05\n",
            "\n",
            "########## Test ##########\n",
            "Epoca: 73\t Test Loss: 0.000820, Time: 5.44\n",
            "Acurácia do Isolation Forest: 0.475\t 475 Outliers, 525 Inliers\n",
            "########## Train ##########\n",
            "Epoca: 74\t Train Loss: 0.000691, Time: 33.73\n",
            "\n",
            "########## Test ##########\n",
            "Epoca: 74\t Test Loss: 0.000816, Time: 5.54\n",
            "Acurácia do Isolation Forest: 0.538\t 538 Outliers, 462 Inliers\n"
          ]
        }
      ]
    },
    {
      "cell_type": "markdown",
      "source": [
        "## Plot Treino x Teste"
      ],
      "metadata": {
        "id": "0rXPlSNFijQU"
      }
    },
    {
      "cell_type": "code",
      "source": [
        " plt.plot(train_losses, label='Train')\n",
        " plt.plot(test_losses, label='Test')\n",
        " plt.legend(loc=\"upper right\")\n",
        " plt.ylabel('Loss')\n",
        " plt.xlabel('Epochs')"
      ],
      "metadata": {
        "id": "nUMrkYR5iiqC",
        "colab": {
          "base_uri": "https://localhost:8080/",
          "height": 296
        },
        "outputId": "078b4f20-e64d-4c66-96b2-23fbfa52c8d8"
      },
      "execution_count": 93,
      "outputs": [
        {
          "output_type": "execute_result",
          "data": {
            "text/plain": [
              "Text(0.5, 0, 'Epochs')"
            ]
          },
          "metadata": {},
          "execution_count": 93
        },
        {
          "output_type": "display_data",
          "data": {
            "text/plain": [
              "<Figure size 432x288 with 1 Axes>"
            ],
            "image/png": "[encoded data removed]"
          },
          "metadata": {
            "needs_background": "light"
          }
        }
      ]
    },
    {
      "cell_type": "code",
      "source": [
        " plt.plot(test_predicts, label='Test Dataset Accuracy')\n",
        " plt.legend(loc=\"upper right\")\n",
        " plt.ylabel('Average')\n",
        " plt.xlabel('Epochs')"
      ],
      "metadata": {
        "colab": {
          "base_uri": "https://localhost:8080/",
          "height": 296
        },
        "id": "HtWFdXgOA1N6",
        "outputId": "f484f27d-81fd-450d-8134-46bbcd978e65"
      },
      "execution_count": 94,
      "outputs": [
        {
          "output_type": "execute_result",
          "data": {
            "text/plain": [
              "Text(0.5, 0, 'Epochs')"
            ]
          },
          "metadata": {},
          "execution_count": 94
        },
        {
          "output_type": "display_data",
          "data": {
            "text/plain": [
              "<Figure size 432x288 with 1 Axes>"
            ],
            "image/png": "[encoded data removed]"
          },
          "metadata": {
            "needs_background": "light"
          }
        }
      ]
    },
    {
      "cell_type": "markdown",
      "source": [
        "## Plot da Imagem Original(normalizada) x Imagem Reconstruída via AutoEncoder Convolucional"
      ],
      "metadata": {
        "id": "AHoIUvBmirI9"
      }
    },
    {
      "cell_type": "code",
      "source": [
        "# obtain one batch of test images\n",
        "dataiter = iter(train_loader)\n",
        "images = dataiter.next()\n",
        "\n",
        "imagem = images.unsqueeze(1).float()\n",
        "imagem /= 255.0\n",
        "imagem = imagem.to(args['device'])\n",
        "\n",
        "# get sample outputs\n",
        "output = model(imagem)\n",
        "# prep images for display\n",
        "images = images.numpy()\n",
        "\n",
        "\n",
        "\n",
        "# output is resized into a batch of iages\n",
        "output = output.view(args['batch_size'], 1, 120, 120)\n",
        "# use detach when it's an output that requires_grad\n",
        "output = output.detach()#.numpy()\n",
        "\n",
        "\n",
        "\n",
        "# plot the first ten input images and then reconstructed images\n",
        "fig, axes = plt.subplots(nrows=2, ncols=10, sharex=True, sharey=True, figsize=(24,4))\n",
        "for idx in np.arange(20):\n",
        "    ax = fig.add_subplot(2, 20/2, idx+1, xticks=[], yticks=[])\n",
        "    loss = criterio(output[idx], imagem[idx])\n",
        "    label = 'Loss value: {:.3f}'\n",
        "    ax.set_xlabel(label.format(loss) )\n",
        "    ax.set_title(\"Reconstructed Image\")\n",
        "    plt.imshow(output[idx].squeeze().cpu(), cmap='gray')\n",
        "    \n",
        "# plot the first ten input images and then reconstructed images\n",
        "fig, axes = plt.subplots(nrows=2, ncols=10, sharex=True, sharey=True, figsize=(24,4))\n",
        "for idx in np.arange(20):\n",
        "    ax = fig.add_subplot(2, 20/2, idx+1, xticks=[], yticks=[])\n",
        "    loss = criterio(output[idx], imagem[idx])\n",
        "    label = 'Loss value: {:.3f}'\n",
        "    ax.set_xlabel(label.format(loss) )\n",
        "    ax.set_title(\"Original Image\")\n",
        "    plt.imshow(images[idx].squeeze(), cmap='gray')\n"
      ],
      "metadata": {
        "id": "CNOb9zHIiohP"
      },
      "execution_count": null,
      "outputs": []
    },
    {
      "cell_type": "code",
      "metadata": {
        "id": "ogQCkTYUE9cY"
      },
      "source": [
        "# obtain one batch of test images\n",
        "dataiter = iter(test_loader)\n",
        "images = dataiter.next()\n",
        "\n",
        "imagem = images.unsqueeze(1).float()\n",
        "imagem /= 255.0\n",
        "imagem = imagem.to(args['device'])\n",
        "\n",
        "# get sample outputs\n",
        "output = model(imagem)\n",
        "# prep images for display\n",
        "images = images.numpy()\n",
        "\n",
        "\n",
        "\n",
        "# output is resized into a batch of iages\n",
        "output = output.view(args['batch_size'], 1, 120, 120)\n",
        "# use detach when it's an output that requires_grad\n",
        "output = output.detach()#.numpy()\n",
        "\n",
        "\n",
        "\n",
        "# plot the first ten input images and then reconstructed images\n",
        "fig, axes = plt.subplots(nrows=2, ncols=10, sharex=True, sharey=True, figsize=(24,4))\n",
        "for idx in np.arange(20):\n",
        "    ax = fig.add_subplot(2, 20/2, idx+1, xticks=[], yticks=[])\n",
        "    loss = criterio(output[idx], imagem[idx])\n",
        "    label = 'Loss value: {:.3f}'\n",
        "    ax.set_xlabel(label.format(loss) )\n",
        "    ax.set_title(\"Reconstructed Image\")\n",
        "    plt.imshow(output[idx].squeeze().cpu(), cmap='gray')\n",
        "    \n",
        "# plot the first ten input images and then reconstructed images\n",
        "fig, axes = plt.subplots(nrows=2, ncols=10, sharex=True, sharey=True, figsize=(24,4))\n",
        "for idx in np.arange(20):\n",
        "    ax = fig.add_subplot(2, 20/2, idx+1, xticks=[], yticks=[])\n",
        "    loss = criterio(output[idx], imagem[idx])\n",
        "    label = 'Loss value: {:.3f}'\n",
        "    ax.set_xlabel(label.format(loss) )\n",
        "    ax.set_title(\"Original Image\")\n",
        "    plt.imshow(images[idx].squeeze(), cmap='gray')\n"
      ],
      "execution_count": null,
      "outputs": []
    },
    {
      "cell_type": "code",
      "source": [
        ""
      ],
      "metadata": {
        "id": "6Nezw53Hj-JA"
      },
      "execution_count": null,
      "outputs": []
    }
  ]
}
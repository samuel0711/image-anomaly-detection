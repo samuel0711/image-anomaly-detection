{
  "cells": [
    {
      "cell_type": "markdown",
      "metadata": {
        "id": "view-in-github",
        "colab_type": "text"
      },
      "source": [
        "<a href=\"https://colab.research.google.com/github/samuel0711/image-anomaly-detection/blob/main/isolation_tcc.ipynb\" target=\"_parent\"><img src=\"https://colab.research.google.com/assets/colab-badge.svg\" alt=\"Open In Colab\"/></a>"
      ]
    },
    {
      "cell_type": "code",
      "execution_count": 35,
      "metadata": {
        "colab": {
          "base_uri": "https://localhost:8080/"
        },
        "id": "LSYuFnl5CR4n",
        "outputId": "6dc772ef-7ae5-4479-85e9-ba8e3600d36b"
      },
      "outputs": [
        {
          "output_type": "stream",
          "name": "stdout",
          "text": [
            "Drive already mounted at /content/drive; to attempt to forcibly remount, call drive.mount(\"/content/drive\", force_remount=True).\n"
          ]
        }
      ],
      "source": [
        "import io\n",
        "import sys\n",
        "import os\n",
        "import gc\n",
        "import shutil\n",
        "import numpy as np\n",
        "import matplotlib.pyplot as plt\n",
        "from skimage import io as skio\n",
        "import torch\n",
        "from torch import nn #neural networks\n",
        "import torch.nn.functional as F\n",
        "from torchvision.utils import save_image\n",
        "\n",
        "\n",
        "import time\n",
        "\n",
        "#Carregamento de Dados\n",
        "from torch.utils.data import DataLoader\n",
        "from torchvision import datasets\n",
        "from torchvision import transforms\n",
        "from sklearn.ensemble import IsolationForest\n",
        "from sklearn.metrics import accuracy_score\n",
        "\n",
        "\n",
        "if 'google.colab' in sys.modules:\n",
        "    from google.colab import drive\n",
        "    drive.mount('/content/drive')\n",
        "    os.chdir(\"/content/drive/My Drive/Colab Notebooks\")\n",
        "    sys.path.append('/content/drive/My Drive/Colab Notebooks')"
      ]
    },
    {
      "cell_type": "code",
      "execution_count": 36,
      "metadata": {
        "colab": {
          "base_uri": "https://localhost:8080/"
        },
        "id": "rYAT-KAsB42R",
        "outputId": "d17299d5-92d5-416e-bd71-f74742947d58"
      },
      "outputs": [
        {
          "output_type": "stream",
          "name": "stdout",
          "text": [
            "cuda\n"
          ]
        }
      ],
      "source": [
        "args = {\n",
        "    'epoch':100,          #Numero de épocas\n",
        "    'lr':1e-4,            #Taxa de aprendizado\n",
        "    'weight_decay':5e-5,  #Penalidade L2 (Regularização)\n",
        "    'batch_size': 50,     #Tamanho do batch\n",
        "    'num_workers': 2\n",
        "}\n",
        "\n",
        "if torch.cuda.is_available():\n",
        "  args['device'] = torch.device('cuda')\n",
        "else:\n",
        "  args['device'] = torch.device('cpu')\n",
        "\n",
        "print(args['device'])\n",
        "\n",
        "\n",
        "train_set = np.load('train_dataset.npy', allow_pickle = True)/255.0\n",
        "test_set = np.load('test_dataset.npy', allow_pickle = True)/255.0"
      ]
    },
    {
      "cell_type": "code",
      "execution_count": 37,
      "metadata": {
        "colab": {
          "base_uri": "https://localhost:8080/"
        },
        "id": "nj4IxvZ5BC-8",
        "outputId": "7253f616-f0a6-44bc-d0da-9de2214fed1e"
      },
      "outputs": [
        {
          "output_type": "stream",
          "name": "stderr",
          "text": [
            "/usr/local/lib/python3.7/dist-packages/numpy/core/_methods.py:212: RuntimeWarning: overflow encountered in reduce\n",
            "  arrmean = umr_sum(arr, axis, dtype, keepdims=True, where=where)\n"
          ]
        },
        {
          "output_type": "stream",
          "name": "stdout",
          "text": [
            "Treino\n",
            "Média:  0.3945 \t Desvio Padrão:  inf \n",
            "\n",
            "\n",
            "Teste\n",
            "Média:  0.44 \t Desvio Padrão:  inf\n"
          ]
        }
      ],
      "source": [
        "print('Treino\\nMédia: ',train_set.mean(),'\\t Desvio Padrão: ',train_set.std(),'\\n\\n')\n",
        "print('Teste\\nMédia: ',test_set.mean(),'\\t Desvio Padrão: ',test_set.std())"
      ]
    },
    {
      "cell_type": "code",
      "execution_count": 38,
      "metadata": {
        "id": "iXr6tMUp0c_U"
      },
      "outputs": [],
      "source": [
        "train_set = torch.from_numpy(train_set)\n",
        "test_set = torch.from_numpy(test_set)"
      ]
    },
    {
      "cell_type": "code",
      "execution_count": 39,
      "metadata": {
        "id": "u3WOjrbee9wN"
      },
      "outputs": [],
      "source": [
        "#dataset = np.concatenate((train_set, test_set))\n",
        "\n",
        "#dataset = np.reshape(dataset,(dataset.shape[0], dataset.shape[1]*dataset.shape[2]))\n",
        "\n",
        "#isolation_forest.fit(dataset)"
      ]
    },
    {
      "cell_type": "code",
      "execution_count": 40,
      "metadata": {
        "colab": {
          "base_uri": "https://localhost:8080/",
          "height": 87
        },
        "id": "z1eefBaUuSuT",
        "outputId": "d95c3905-73a9-4f65-b2f0-5dff5938db0d"
      },
      "outputs": [
        {
          "output_type": "execute_result",
          "data": {
            "text/plain": [
              "'transform_train = transforms.Compose([\\n    transforms.Normalize((train_set.mean(), ), (train_set.std(), ))\\n])\\n\\ntransform_test = transforms.Compose([\\n    transforms.Normalize((test_set.mean(), ), (test_set.std(), ))\\n])\\n  \\n# image\\ntrain_set = transform_train(train_set)#.permute(1,2,0)\\ntest_set = transform_test(test_set)#.permute(1,2,0)'"
            ],
            "application/vnd.google.colaboratory.intrinsic+json": {
              "type": "string"
            }
          },
          "metadata": {},
          "execution_count": 40
        }
      ],
      "source": [
        "'''transform_train = transforms.Compose([\n",
        "    transforms.Normalize((train_set.mean(), ), (train_set.std(), ))\n",
        "])\n",
        "\n",
        "transform_test = transforms.Compose([\n",
        "    transforms.Normalize((test_set.mean(), ), (test_set.std(), ))\n",
        "])\n",
        "  \n",
        "# image\n",
        "train_set = transform_train(train_set)#.permute(1,2,0)\n",
        "test_set = transform_test(test_set)#.permute(1,2,0)'''"
      ]
    },
    {
      "cell_type": "code",
      "execution_count": 41,
      "metadata": {
        "id": "rJiOOTaxmimJ"
      },
      "outputs": [],
      "source": [
        "train_loader = DataLoader(train_set, \n",
        "                          batch_size=args['batch_size'], \n",
        "                          shuffle=True, \n",
        "                          num_workers=args['num_workers'])\n",
        "\n",
        "test_loader = DataLoader(test_set, \n",
        "                         batch_size=args['batch_size'], \n",
        "                         shuffle=True, \n",
        "                         num_workers=args['num_workers']) "
      ]
    },
    {
      "cell_type": "code",
      "execution_count": 68,
      "metadata": {
        "id": "Es1OH4QXblsC"
      },
      "outputs": [],
      "source": [
        "#Define the Convolutional Autoencoder\n",
        "class ConvAutoencoder(nn.Module):\n",
        "    def __init__(self):\n",
        "        super(ConvAutoencoder, self).__init__()\n",
        "       \n",
        "        #Encoder\n",
        "        self.conv1 = nn.Conv2d(1, 64, 3, padding = 1)  #in_channel, out_channel, kernel_size\n",
        "        self.conv2 = nn.Conv2d(64, 128, 3, padding = 1)\n",
        "        self.conv3 = nn.Conv2d(128, 128, 3, padding = 1) \n",
        "        self.conv4 = nn.Conv2d(128, 254, 3, padding = 1) \n",
        "        self.pool = nn.MaxPool2d(2) #kernel_size, stride\n",
        "       \n",
        "        #Decoder\n",
        "        self.t_conv1 = nn.ConvTranspose2d(254, 128, 2, stride=2)        \n",
        "        self.t_conv2 = nn.ConvTranspose2d(128, 128, 2, stride=2)\n",
        "        self.t_conv3 = nn.ConvTranspose2d(128, 64, 2, stride=2)\n",
        "        self.t_conv4 = nn.ConvTranspose2d(64, 1, 2, stride=2)\n",
        "\n",
        "\n",
        "    def forward(self, x):\n",
        "        x = F.relu(self.conv1(x))\n",
        "        x = self.pool(x)\n",
        "        x = F.relu(self.conv2(x))\n",
        "        x = self.pool(x)\n",
        "        x = F.relu(self.conv3(x))\n",
        "        x = self.pool(x)\n",
        "        x = F.leaky_relu(self.conv4(x))\n",
        "        x = self.pool(x)\n",
        "        x = F.relu(self.t_conv1(x))\n",
        "        x = F.relu(self.t_conv2(x))\n",
        "        x = F.relu(self.t_conv3(x))\n",
        "        x = torch.sigmoid(self.t_conv4(x))\n",
        "              \n",
        "        return x\n",
        "\n",
        "\n",
        "#Instantiate the model\n",
        "model = ConvAutoencoder()\n"
      ]
    },
    {
      "cell_type": "markdown",
      "metadata": {
        "id": "RQhg2NBR46DB"
      },
      "source": [
        "# **Treinando**"
      ]
    },
    {
      "cell_type": "code",
      "execution_count": 69,
      "metadata": {
        "colab": {
          "base_uri": "https://localhost:8080/"
        },
        "id": "0-c6HSrSzJ1V",
        "outputId": "9884c54d-77c7-44ec-a1b9-bf6c9a31df5a"
      },
      "outputs": [
        {
          "output_type": "execute_result",
          "data": {
            "text/plain": [
              "ConvAutoencoder(\n",
              "  (conv1): Conv2d(1, 64, kernel_size=(3, 3), stride=(1, 1), padding=(1, 1))\n",
              "  (conv2): Conv2d(64, 128, kernel_size=(3, 3), stride=(1, 1), padding=(1, 1))\n",
              "  (conv3): Conv2d(128, 128, kernel_size=(3, 3), stride=(1, 1), padding=(1, 1))\n",
              "  (conv4): Conv2d(128, 254, kernel_size=(3, 3), stride=(1, 1), padding=(1, 1))\n",
              "  (pool): MaxPool2d(kernel_size=2, stride=2, padding=0, dilation=1, ceil_mode=False)\n",
              "  (t_conv1): ConvTranspose2d(254, 128, kernel_size=(2, 2), stride=(2, 2))\n",
              "  (t_conv2): ConvTranspose2d(128, 128, kernel_size=(2, 2), stride=(2, 2))\n",
              "  (t_conv3): ConvTranspose2d(128, 64, kernel_size=(2, 2), stride=(2, 2))\n",
              "  (t_conv4): ConvTranspose2d(64, 1, kernel_size=(2, 2), stride=(2, 2))\n",
              ")"
            ]
          },
          "metadata": {},
          "execution_count": 69
        }
      ],
      "source": [
        "from torch import optim\n",
        "\n",
        "criterio = nn.MSELoss().to(args['device'])\n",
        "optimizer = optim.Adam(model.parameters(), lr=args['lr'])\n",
        "model.to(args['device'])"
      ]
    },
    {
      "cell_type": "code",
      "execution_count": 70,
      "metadata": {
        "id": "_s9WKltZrPdU"
      },
      "outputs": [],
      "source": [
        "def save_decod_img(img, output, epoch, name):\n",
        "    img = img.view(img.size(0), 1, img.shape[2], img.shape[3])\n",
        "    output = output.view(output.size(0), 1, output.shape[2], output.shape[3])\n",
        "    error = output.view(output.size(0), 1, output.shape[2], output.shape[3]) - img.view(img.size(0), 1, img.shape[2], img.shape[3])\n",
        "    save_image(img, './imgs_tcc/{}_imagem_image{}.png'.format(name,epoch))\n",
        "    save_image(output, './imgs_tcc/{}_output_image{}.png'.format(name,epoch))\n",
        "    save_image(error, './imgs_tcc/{}_error_image{}.png'.format(name,epoch))"
      ]
    },
    {
      "cell_type": "markdown",
      "metadata": {
        "id": "vMrPLQr4hvrE"
      },
      "source": [
        "## Treino ( Somente com imagens não-anomalas)"
      ]
    },
    {
      "cell_type": "code",
      "execution_count": 71,
      "metadata": {
        "id": "GemLuqJp7aIL"
      },
      "outputs": [],
      "source": [
        "def train(train_loader, model, epoch, name):\n",
        "  ###################\n",
        "  # treinando o modelo #\n",
        "  ###################\n",
        "  model.train()\n",
        "  \n",
        "  start = time.time()\n",
        "\n",
        "  tns = []\n",
        "\n",
        "  train_loss = 0.0\n",
        "  for data in train_loader:\n",
        "    imagem = data.unsqueeze(1).float()\n",
        "    imagem = imagem.to(args['device'])\n",
        "\n",
        "    #imagem = imagem/255.0\n",
        "\n",
        "    # clear the gradients of all optimized variables\n",
        "    optimizer.zero_grad()\n",
        "\n",
        "    # forward pass\n",
        "    output = model(imagem)\n",
        "\n",
        "    # calculando loss\n",
        "    loss = criterio(output, imagem)\n",
        "    #isolation_forest.fit(torch.flatten(output,start_dim=1).cpu().data)\n",
        "\n",
        "\n",
        "    # backpropagation\n",
        "    loss.backward()\n",
        "\n",
        "    # próximo passo\n",
        "    optimizer.step()\n",
        "\n",
        "    # update running training loss\n",
        "    train_loss += loss.item()\n",
        "\n",
        "    if epoch == args['epoch']:\n",
        "      for x, y in zip(imagem, output):\n",
        "          tns.append(np.array(y.squeeze().cpu().data - x.squeeze().cpu().data))\n",
        "\n",
        "  if epoch % 5 == 0:\n",
        "    save_decod_img(imagem.cpu().data, output.cpu().data, epoch, name)\n",
        "\n",
        "\n",
        "  train_loss = train_loss/len(train_loader)\n",
        "\n",
        "  end = time.time()\n",
        "\n",
        "\n",
        "  print('########## Train ##########')\n",
        "\n",
        "  print(\"Epoca: {}\\t Train Loss: {:.6f}, Time: {:.2f}\\n\".format(epoch, train_loss, end-start))\n",
        "  #print(\"Medía do Loss:\", epoch_loss_train.mean())\n",
        "\n",
        "  return train_loss"
      ]
    },
    {
      "cell_type": "markdown",
      "metadata": {
        "id": "4SqIE-syh4Dm"
      },
      "source": [
        "## Validação ( Somente com imagens anômalas )"
      ]
    },
    {
      "cell_type": "code",
      "execution_count": 72,
      "metadata": {
        "id": "991BeROg8xf3"
      },
      "outputs": [],
      "source": [
        "def validate(test_loader, model, epoch, name):\n",
        "  ###################\n",
        "  # validando o modelo #\n",
        "  ###################\n",
        "  model.eval()\n",
        "\n",
        "  tns = []\n",
        "  predicts = []\n",
        "  outliers, inliers = 0, 0\n",
        "  \n",
        "  start = time.time()\n",
        "  \n",
        "  test_loss = 0.0\n",
        "  with torch.no_grad():\n",
        "    for data in test_loader:\n",
        "      imagem = data.unsqueeze(1).float()\n",
        "      imagem = imagem.to(args['device'])\n",
        "\n",
        "      #imagem = imagem/255.0\n",
        "      # forward pass\n",
        "      output = model(imagem)\n",
        "\n",
        "      #y = isolation_forest.predict(torch.flatten(output,start_dim=1).cpu().data)\n",
        "      #outliers += list(y).count(-1)\n",
        "      #inliers += list(y).count(1)\n",
        "      #predicts.append(list(y).count(-1)/y.shape[0])\n",
        "\n",
        "      # calculando loss\n",
        "      loss = criterio(output, imagem)\n",
        "\n",
        "      # update running test loss\n",
        "      test_loss += loss.item()\n",
        "\n",
        "      if epoch == (args['epoch']-1):\n",
        "        for x, y in zip(imagem, output):\n",
        "          tns.append(y.squeeze().cpu().numpy() - x.squeeze().cpu().numpy())\n",
        "\n",
        "    test_loss = test_loss/len(test_loader)\n",
        "    end = time.time()\n",
        "\n",
        "    if epoch % 5 == 0:\n",
        "      save_decod_img(imagem.cpu().data, output.cpu().data, epoch, name)\n",
        "    print('########## Validate ##########')\n",
        "\n",
        "    \n",
        "    print(\"Epoca: {}\\t Val Loss: {:.6f}, Time: {:.2f}\\n\".format(epoch, test_loss, end-start)) #\\nAcurácia do Isolation Forest: {:.3f}\\t {} Outliers, {} Inliers\\n\".format(epoch, test_loss, end-start, (sum(predicts)/len(predicts)), outliers, inliers))\n",
        "\n",
        "    return test_loss#, (sum(predicts)/len(predicts))"
      ]
    },
    {
      "cell_type": "markdown",
      "metadata": {
        "id": "6eTPY7xYolud"
      },
      "source": [
        "## Rodando Validação e Treino\n"
      ]
    },
    {
      "cell_type": "code",
      "execution_count": 73,
      "metadata": {
        "colab": {
          "base_uri": "https://localhost:8080/"
        },
        "id": "X16XessjolJa",
        "outputId": "f5c58432-77a1-4849-b7a4-aa2e90d01b30"
      },
      "outputs": [
        {
          "output_type": "stream",
          "name": "stdout",
          "text": [
            "########## Train ##########\n",
            "Epoca: 0\t Train Loss: 0.027106, Time: 19.09\n",
            "\n",
            "########## Validate ##########\n",
            "Epoca: 0\t Val Loss: 0.006026, Time: 2.00\n",
            "\n",
            "########## Train ##########\n",
            "Epoca: 1\t Train Loss: 0.005342, Time: 18.02\n",
            "\n",
            "########## Validate ##########\n",
            "Epoca: 1\t Val Loss: 0.004186, Time: 1.99\n",
            "\n",
            "########## Train ##########\n",
            "Epoca: 2\t Train Loss: 0.004089, Time: 18.17\n",
            "\n",
            "########## Validate ##########\n",
            "Epoca: 2\t Val Loss: 0.003700, Time: 2.01\n",
            "\n",
            "########## Train ##########\n",
            "Epoca: 3\t Train Loss: 0.003432, Time: 18.38\n",
            "\n",
            "########## Validate ##########\n",
            "Epoca: 3\t Val Loss: 0.003358, Time: 2.01\n",
            "\n",
            "########## Train ##########\n",
            "Epoca: 4\t Train Loss: 0.003008, Time: 18.47\n",
            "\n",
            "########## Validate ##########\n",
            "Epoca: 4\t Val Loss: 0.003105, Time: 2.03\n",
            "\n",
            "########## Train ##########\n",
            "Epoca: 5\t Train Loss: 0.002688, Time: 19.77\n",
            "\n",
            "########## Validate ##########\n",
            "Epoca: 5\t Val Loss: 0.002914, Time: 2.02\n",
            "\n",
            "########## Train ##########\n",
            "Epoca: 6\t Train Loss: 0.002442, Time: 18.68\n",
            "\n",
            "########## Validate ##########\n",
            "Epoca: 6\t Val Loss: 0.002708, Time: 2.02\n",
            "\n",
            "########## Train ##########\n",
            "Epoca: 7\t Train Loss: 0.002243, Time: 18.74\n",
            "\n",
            "########## Validate ##########\n",
            "Epoca: 7\t Val Loss: 0.002578, Time: 2.02\n",
            "\n",
            "########## Train ##########\n",
            "Epoca: 8\t Train Loss: 0.002082, Time: 18.83\n",
            "\n",
            "########## Validate ##########\n",
            "Epoca: 8\t Val Loss: 0.002451, Time: 2.02\n",
            "\n",
            "########## Train ##########\n",
            "Epoca: 9\t Train Loss: 0.001944, Time: 18.87\n",
            "\n",
            "########## Validate ##########\n",
            "Epoca: 9\t Val Loss: 0.002358, Time: 2.03\n",
            "\n",
            "########## Train ##########\n",
            "Epoca: 10\t Train Loss: 0.001834, Time: 20.09\n",
            "\n",
            "########## Validate ##########\n",
            "Epoca: 10\t Val Loss: 0.002294, Time: 2.03\n",
            "\n",
            "########## Train ##########\n",
            "Epoca: 11\t Train Loss: 0.001739, Time: 18.95\n",
            "\n",
            "########## Validate ##########\n",
            "Epoca: 11\t Val Loss: 0.002208, Time: 2.04\n",
            "\n",
            "########## Train ##########\n",
            "Epoca: 12\t Train Loss: 0.001661, Time: 18.99\n",
            "\n",
            "########## Validate ##########\n",
            "Epoca: 12\t Val Loss: 0.002147, Time: 2.06\n",
            "\n",
            "########## Train ##########\n",
            "Epoca: 13\t Train Loss: 0.001593, Time: 19.02\n",
            "\n",
            "########## Validate ##########\n",
            "Epoca: 13\t Val Loss: 0.002097, Time: 2.04\n",
            "\n",
            "########## Train ##########\n",
            "Epoca: 14\t Train Loss: 0.001531, Time: 19.03\n",
            "\n",
            "########## Validate ##########\n",
            "Epoca: 14\t Val Loss: 0.002040, Time: 2.04\n",
            "\n",
            "########## Train ##########\n",
            "Epoca: 15\t Train Loss: 0.001480, Time: 20.21\n",
            "\n",
            "########## Validate ##########\n",
            "Epoca: 15\t Val Loss: 0.002019, Time: 2.04\n",
            "\n",
            "########## Train ##########\n",
            "Epoca: 16\t Train Loss: 0.001431, Time: 19.05\n",
            "\n",
            "########## Validate ##########\n",
            "Epoca: 16\t Val Loss: 0.001960, Time: 2.04\n",
            "\n",
            "########## Train ##########\n",
            "Epoca: 17\t Train Loss: 0.001392, Time: 19.08\n",
            "\n",
            "########## Validate ##########\n",
            "Epoca: 17\t Val Loss: 0.001923, Time: 2.03\n",
            "\n",
            "########## Train ##########\n",
            "Epoca: 18\t Train Loss: 0.001353, Time: 19.09\n",
            "\n",
            "########## Validate ##########\n",
            "Epoca: 18\t Val Loss: 0.001893, Time: 2.03\n",
            "\n",
            "########## Train ##########\n",
            "Epoca: 19\t Train Loss: 0.001320, Time: 19.11\n",
            "\n",
            "########## Validate ##########\n",
            "Epoca: 19\t Val Loss: 0.001869, Time: 2.03\n",
            "\n",
            "########## Train ##########\n",
            "Epoca: 20\t Train Loss: 0.001290, Time: 20.31\n",
            "\n",
            "########## Validate ##########\n",
            "Epoca: 20\t Val Loss: 0.001841, Time: 2.03\n",
            "\n",
            "########## Train ##########\n",
            "Epoca: 21\t Train Loss: 0.001262, Time: 19.08\n",
            "\n",
            "########## Validate ##########\n",
            "Epoca: 21\t Val Loss: 0.001828, Time: 2.03\n",
            "\n",
            "########## Train ##########\n",
            "Epoca: 22\t Train Loss: 0.001236, Time: 19.11\n",
            "\n",
            "########## Validate ##########\n",
            "Epoca: 22\t Val Loss: 0.001798, Time: 2.04\n",
            "\n",
            "########## Train ##########\n",
            "Epoca: 23\t Train Loss: 0.001214, Time: 19.11\n",
            "\n",
            "########## Validate ##########\n",
            "Epoca: 23\t Val Loss: 0.001763, Time: 2.04\n",
            "\n",
            "########## Train ##########\n",
            "Epoca: 24\t Train Loss: 0.001193, Time: 19.14\n",
            "\n",
            "########## Validate ##########\n",
            "Epoca: 24\t Val Loss: 0.001753, Time: 2.06\n",
            "\n",
            "########## Train ##########\n",
            "Epoca: 25\t Train Loss: 0.001171, Time: 20.32\n",
            "\n",
            "########## Validate ##########\n",
            "Epoca: 25\t Val Loss: 0.001745, Time: 2.05\n",
            "\n",
            "########## Train ##########\n",
            "Epoca: 26\t Train Loss: 0.001154, Time: 19.10\n",
            "\n",
            "########## Validate ##########\n",
            "Epoca: 26\t Val Loss: 0.001718, Time: 2.04\n",
            "\n",
            "########## Train ##########\n",
            "Epoca: 27\t Train Loss: 0.001137, Time: 19.08\n",
            "\n",
            "########## Validate ##########\n",
            "Epoca: 27\t Val Loss: 0.001697, Time: 2.03\n",
            "\n",
            "########## Train ##########\n",
            "Epoca: 28\t Train Loss: 0.001118, Time: 19.07\n",
            "\n",
            "########## Validate ##########\n",
            "Epoca: 28\t Val Loss: 0.001726, Time: 2.04\n",
            "\n",
            "########## Train ##########\n",
            "Epoca: 29\t Train Loss: 0.001105, Time: 19.08\n",
            "\n",
            "########## Validate ##########\n",
            "Epoca: 29\t Val Loss: 0.001677, Time: 2.04\n",
            "\n",
            "########## Train ##########\n",
            "Epoca: 30\t Train Loss: 0.001089, Time: 20.29\n",
            "\n",
            "########## Validate ##########\n",
            "Epoca: 30\t Val Loss: 0.001670, Time: 2.04\n",
            "\n",
            "########## Train ##########\n",
            "Epoca: 31\t Train Loss: 0.001073, Time: 19.10\n",
            "\n",
            "########## Validate ##########\n",
            "Epoca: 31\t Val Loss: 0.001637, Time: 2.03\n",
            "\n",
            "########## Train ##########\n",
            "Epoca: 32\t Train Loss: 0.001062, Time: 19.10\n",
            "\n",
            "########## Validate ##########\n",
            "Epoca: 32\t Val Loss: 0.001631, Time: 2.02\n",
            "\n",
            "########## Train ##########\n",
            "Epoca: 33\t Train Loss: 0.001050, Time: 19.10\n",
            "\n",
            "########## Validate ##########\n",
            "Epoca: 33\t Val Loss: 0.001611, Time: 2.03\n",
            "\n",
            "########## Train ##########\n",
            "Epoca: 34\t Train Loss: 0.001037, Time: 19.11\n",
            "\n",
            "########## Validate ##########\n",
            "Epoca: 34\t Val Loss: 0.001599, Time: 2.04\n",
            "\n",
            "########## Train ##########\n",
            "Epoca: 35\t Train Loss: 0.001027, Time: 20.32\n",
            "\n",
            "########## Validate ##########\n",
            "Epoca: 35\t Val Loss: 0.001593, Time: 2.03\n",
            "\n",
            "########## Train ##########\n",
            "Epoca: 36\t Train Loss: 0.001016, Time: 19.08\n",
            "\n",
            "########## Validate ##########\n",
            "Epoca: 36\t Val Loss: 0.001584, Time: 2.04\n",
            "\n",
            "########## Train ##########\n",
            "Epoca: 37\t Train Loss: 0.001006, Time: 19.19\n",
            "\n",
            "########## Validate ##########\n",
            "Epoca: 37\t Val Loss: 0.001571, Time: 2.04\n",
            "\n",
            "########## Train ##########\n",
            "Epoca: 38\t Train Loss: 0.000998, Time: 19.11\n",
            "\n",
            "########## Validate ##########\n",
            "Epoca: 38\t Val Loss: 0.001574, Time: 2.04\n",
            "\n",
            "########## Train ##########\n",
            "Epoca: 39\t Train Loss: 0.000989, Time: 19.11\n",
            "\n",
            "########## Validate ##########\n",
            "Epoca: 39\t Val Loss: 0.001549, Time: 2.03\n",
            "\n",
            "########## Train ##########\n",
            "Epoca: 40\t Train Loss: 0.000977, Time: 20.30\n",
            "\n",
            "########## Validate ##########\n",
            "Epoca: 40\t Val Loss: 0.001550, Time: 2.05\n",
            "\n",
            "########## Train ##########\n",
            "Epoca: 41\t Train Loss: 0.000970, Time: 19.10\n",
            "\n",
            "########## Validate ##########\n",
            "Epoca: 41\t Val Loss: 0.001551, Time: 2.04\n",
            "\n",
            "########## Train ##########\n",
            "Epoca: 42\t Train Loss: 0.000963, Time: 19.13\n",
            "\n",
            "########## Validate ##########\n",
            "Epoca: 42\t Val Loss: 0.001529, Time: 2.04\n",
            "\n",
            "########## Train ##########\n",
            "Epoca: 43\t Train Loss: 0.000955, Time: 19.14\n",
            "\n",
            "########## Validate ##########\n",
            "Epoca: 43\t Val Loss: 0.001532, Time: 2.04\n",
            "\n",
            "########## Train ##########\n",
            "Epoca: 44\t Train Loss: 0.000947, Time: 19.11\n",
            "\n",
            "########## Validate ##########\n",
            "Epoca: 44\t Val Loss: 0.001516, Time: 2.02\n",
            "\n",
            "########## Train ##########\n",
            "Epoca: 45\t Train Loss: 0.000940, Time: 20.30\n",
            "\n",
            "########## Validate ##########\n",
            "Epoca: 45\t Val Loss: 0.001514, Time: 2.04\n",
            "\n",
            "########## Train ##########\n",
            "Epoca: 46\t Train Loss: 0.000933, Time: 19.10\n",
            "\n",
            "########## Validate ##########\n",
            "Epoca: 46\t Val Loss: 0.001503, Time: 2.04\n",
            "\n",
            "########## Train ##########\n",
            "Epoca: 47\t Train Loss: 0.000926, Time: 19.12\n",
            "\n",
            "########## Validate ##########\n",
            "Epoca: 47\t Val Loss: 0.001488, Time: 2.03\n",
            "\n",
            "########## Train ##########\n",
            "Epoca: 48\t Train Loss: 0.000919, Time: 19.14\n",
            "\n",
            "########## Validate ##########\n",
            "Epoca: 48\t Val Loss: 0.001488, Time: 2.05\n",
            "\n",
            "########## Train ##########\n",
            "Epoca: 49\t Train Loss: 0.000912, Time: 19.24\n",
            "\n",
            "########## Validate ##########\n",
            "Epoca: 49\t Val Loss: 0.001487, Time: 2.07\n",
            "\n",
            "########## Train ##########\n",
            "Epoca: 50\t Train Loss: 0.000907, Time: 20.34\n",
            "\n",
            "########## Validate ##########\n",
            "Epoca: 50\t Val Loss: 0.001481, Time: 2.04\n",
            "\n",
            "########## Train ##########\n",
            "Epoca: 51\t Train Loss: 0.000901, Time: 19.15\n",
            "\n",
            "########## Validate ##########\n",
            "Epoca: 51\t Val Loss: 0.001466, Time: 2.04\n",
            "\n",
            "########## Train ##########\n",
            "Epoca: 52\t Train Loss: 0.000894, Time: 19.19\n",
            "\n",
            "########## Validate ##########\n",
            "Epoca: 52\t Val Loss: 0.001469, Time: 2.06\n",
            "\n",
            "########## Train ##########\n",
            "Epoca: 53\t Train Loss: 0.000890, Time: 19.19\n",
            "\n",
            "########## Validate ##########\n",
            "Epoca: 53\t Val Loss: 0.001470, Time: 2.05\n",
            "\n",
            "########## Train ##########\n",
            "Epoca: 54\t Train Loss: 0.000885, Time: 19.15\n",
            "\n",
            "########## Validate ##########\n",
            "Epoca: 54\t Val Loss: 0.001450, Time: 2.05\n",
            "\n",
            "########## Train ##########\n",
            "Epoca: 55\t Train Loss: 0.000877, Time: 20.36\n",
            "\n",
            "########## Validate ##########\n",
            "Epoca: 55\t Val Loss: 0.001446, Time: 2.06\n",
            "\n",
            "########## Train ##########\n",
            "Epoca: 56\t Train Loss: 0.000874, Time: 19.19\n",
            "\n",
            "########## Validate ##########\n",
            "Epoca: 56\t Val Loss: 0.001446, Time: 2.07\n",
            "\n",
            "########## Train ##########\n",
            "Epoca: 57\t Train Loss: 0.000868, Time: 19.19\n",
            "\n",
            "########## Validate ##########\n",
            "Epoca: 57\t Val Loss: 0.001431, Time: 2.04\n",
            "\n",
            "########## Train ##########\n",
            "Epoca: 58\t Train Loss: 0.000864, Time: 19.13\n",
            "\n",
            "########## Validate ##########\n",
            "Epoca: 58\t Val Loss: 0.001431, Time: 2.04\n",
            "\n",
            "########## Train ##########\n",
            "Epoca: 59\t Train Loss: 0.000860, Time: 19.14\n",
            "\n",
            "########## Validate ##########\n",
            "Epoca: 59\t Val Loss: 0.001427, Time: 2.04\n",
            "\n",
            "########## Train ##########\n",
            "Epoca: 60\t Train Loss: 0.000855, Time: 20.31\n",
            "\n",
            "########## Validate ##########\n",
            "Epoca: 60\t Val Loss: 0.001429, Time: 2.02\n",
            "\n",
            "########## Train ##########\n",
            "Epoca: 61\t Train Loss: 0.000849, Time: 19.13\n",
            "\n",
            "########## Validate ##########\n",
            "Epoca: 61\t Val Loss: 0.001412, Time: 2.03\n",
            "\n",
            "########## Train ##########\n",
            "Epoca: 62\t Train Loss: 0.000845, Time: 19.15\n",
            "\n",
            "########## Validate ##########\n",
            "Epoca: 62\t Val Loss: 0.001418, Time: 2.04\n",
            "\n",
            "########## Train ##########\n",
            "Epoca: 63\t Train Loss: 0.000843, Time: 19.15\n",
            "\n",
            "########## Validate ##########\n",
            "Epoca: 63\t Val Loss: 0.001410, Time: 2.04\n",
            "\n",
            "########## Train ##########\n",
            "Epoca: 64\t Train Loss: 0.000837, Time: 19.17\n",
            "\n",
            "########## Validate ##########\n",
            "Epoca: 64\t Val Loss: 0.001413, Time: 2.03\n",
            "\n",
            "########## Train ##########\n",
            "Epoca: 65\t Train Loss: 0.000833, Time: 20.30\n",
            "\n",
            "########## Validate ##########\n",
            "Epoca: 65\t Val Loss: 0.001397, Time: 2.04\n",
            "\n",
            "########## Train ##########\n",
            "Epoca: 66\t Train Loss: 0.000831, Time: 19.14\n",
            "\n",
            "########## Validate ##########\n",
            "Epoca: 66\t Val Loss: 0.001395, Time: 2.04\n",
            "\n",
            "########## Train ##########\n",
            "Epoca: 67\t Train Loss: 0.000824, Time: 19.14\n",
            "\n",
            "########## Validate ##########\n",
            "Epoca: 67\t Val Loss: 0.001392, Time: 2.04\n",
            "\n",
            "########## Train ##########\n",
            "Epoca: 68\t Train Loss: 0.000821, Time: 19.18\n",
            "\n",
            "########## Validate ##########\n",
            "Epoca: 68\t Val Loss: 0.001391, Time: 2.05\n",
            "\n",
            "########## Train ##########\n",
            "Epoca: 69\t Train Loss: 0.000818, Time: 19.16\n",
            "\n",
            "########## Validate ##########\n",
            "Epoca: 69\t Val Loss: 0.001387, Time: 2.05\n",
            "\n",
            "########## Train ##########\n",
            "Epoca: 70\t Train Loss: 0.000813, Time: 20.33\n",
            "\n",
            "########## Validate ##########\n",
            "Epoca: 70\t Val Loss: 0.001385, Time: 2.04\n",
            "\n",
            "########## Train ##########\n",
            "Epoca: 71\t Train Loss: 0.000810, Time: 19.14\n",
            "\n",
            "########## Validate ##########\n",
            "Epoca: 71\t Val Loss: 0.001371, Time: 2.03\n",
            "\n",
            "########## Train ##########\n",
            "Epoca: 72\t Train Loss: 0.000806, Time: 19.15\n",
            "\n",
            "########## Validate ##########\n",
            "Epoca: 72\t Val Loss: 0.001373, Time: 2.03\n",
            "\n",
            "########## Train ##########\n",
            "Epoca: 73\t Train Loss: 0.000805, Time: 19.15\n",
            "\n",
            "########## Validate ##########\n",
            "Epoca: 73\t Val Loss: 0.001366, Time: 2.04\n",
            "\n",
            "########## Train ##########\n",
            "Epoca: 74\t Train Loss: 0.000800, Time: 19.18\n",
            "\n",
            "########## Validate ##########\n",
            "Epoca: 74\t Val Loss: 0.001363, Time: 2.03\n",
            "\n",
            "########## Train ##########\n",
            "Epoca: 75\t Train Loss: 0.000798, Time: 20.32\n",
            "\n",
            "########## Validate ##########\n",
            "Epoca: 75\t Val Loss: 0.001358, Time: 2.04\n",
            "\n",
            "########## Train ##########\n",
            "Epoca: 76\t Train Loss: 0.000793, Time: 19.13\n",
            "\n",
            "########## Validate ##########\n",
            "Epoca: 76\t Val Loss: 0.001358, Time: 2.05\n",
            "\n",
            "########## Train ##########\n",
            "Epoca: 77\t Train Loss: 0.000789, Time: 19.14\n",
            "\n",
            "########## Validate ##########\n",
            "Epoca: 77\t Val Loss: 0.001354, Time: 2.04\n",
            "\n",
            "########## Train ##########\n",
            "Epoca: 78\t Train Loss: 0.000786, Time: 19.19\n",
            "\n",
            "########## Validate ##########\n",
            "Epoca: 78\t Val Loss: 0.001362, Time: 2.03\n",
            "\n",
            "########## Train ##########\n",
            "Epoca: 79\t Train Loss: 0.000784, Time: 19.16\n",
            "\n",
            "########## Validate ##########\n",
            "Epoca: 79\t Val Loss: 0.001353, Time: 2.05\n",
            "\n",
            "########## Train ##########\n",
            "Epoca: 80\t Train Loss: 0.000782, Time: 20.34\n",
            "\n",
            "########## Validate ##########\n",
            "Epoca: 80\t Val Loss: 0.001346, Time: 2.04\n",
            "\n",
            "########## Train ##########\n",
            "Epoca: 81\t Train Loss: 0.000777, Time: 19.14\n",
            "\n",
            "########## Validate ##########\n",
            "Epoca: 81\t Val Loss: 0.001341, Time: 2.04\n",
            "\n",
            "########## Train ##########\n",
            "Epoca: 82\t Train Loss: 0.000776, Time: 19.15\n",
            "\n",
            "########## Validate ##########\n",
            "Epoca: 82\t Val Loss: 0.001336, Time: 2.05\n",
            "\n",
            "########## Train ##########\n",
            "Epoca: 83\t Train Loss: 0.000773, Time: 19.17\n",
            "\n",
            "########## Validate ##########\n",
            "Epoca: 83\t Val Loss: 0.001343, Time: 2.06\n",
            "\n",
            "########## Train ##########\n",
            "Epoca: 84\t Train Loss: 0.000770, Time: 19.18\n",
            "\n",
            "########## Validate ##########\n",
            "Epoca: 84\t Val Loss: 0.001340, Time: 2.05\n",
            "\n",
            "########## Train ##########\n",
            "Epoca: 85\t Train Loss: 0.000766, Time: 20.34\n",
            "\n",
            "########## Validate ##########\n",
            "Epoca: 85\t Val Loss: 0.001330, Time: 2.05\n",
            "\n",
            "########## Train ##########\n",
            "Epoca: 86\t Train Loss: 0.000763, Time: 19.14\n",
            "\n",
            "########## Validate ##########\n",
            "Epoca: 86\t Val Loss: 0.001323, Time: 2.06\n",
            "\n",
            "########## Train ##########\n",
            "Epoca: 87\t Train Loss: 0.000761, Time: 19.16\n",
            "\n",
            "########## Validate ##########\n",
            "Epoca: 87\t Val Loss: 0.001321, Time: 2.04\n",
            "\n",
            "########## Train ##########\n",
            "Epoca: 88\t Train Loss: 0.000760, Time: 19.17\n",
            "\n",
            "########## Validate ##########\n",
            "Epoca: 88\t Val Loss: 0.001320, Time: 2.04\n",
            "\n",
            "########## Train ##########\n",
            "Epoca: 89\t Train Loss: 0.000757, Time: 19.20\n",
            "\n",
            "########## Validate ##########\n",
            "Epoca: 89\t Val Loss: 0.001331, Time: 2.05\n",
            "\n",
            "########## Train ##########\n",
            "Epoca: 90\t Train Loss: 0.000751, Time: 20.35\n",
            "\n",
            "########## Validate ##########\n",
            "Epoca: 90\t Val Loss: 0.001316, Time: 2.04\n",
            "\n",
            "########## Train ##########\n",
            "Epoca: 91\t Train Loss: 0.000751, Time: 19.16\n",
            "\n",
            "########## Validate ##########\n",
            "Epoca: 91\t Val Loss: 0.001312, Time: 2.04\n",
            "\n",
            "########## Train ##########\n",
            "Epoca: 92\t Train Loss: 0.000748, Time: 19.15\n",
            "\n",
            "########## Validate ##########\n",
            "Epoca: 92\t Val Loss: 0.001314, Time: 2.05\n",
            "\n",
            "########## Train ##########\n",
            "Epoca: 93\t Train Loss: 0.000747, Time: 19.19\n",
            "\n",
            "########## Validate ##########\n",
            "Epoca: 93\t Val Loss: 0.001320, Time: 2.05\n",
            "\n",
            "########## Train ##########\n",
            "Epoca: 94\t Train Loss: 0.000743, Time: 19.18\n",
            "\n",
            "########## Validate ##########\n",
            "Epoca: 94\t Val Loss: 0.001306, Time: 2.05\n",
            "\n",
            "########## Train ##########\n",
            "Epoca: 95\t Train Loss: 0.000739, Time: 20.35\n",
            "\n",
            "########## Validate ##########\n",
            "Epoca: 95\t Val Loss: 0.001318, Time: 2.04\n",
            "\n",
            "########## Train ##########\n",
            "Epoca: 96\t Train Loss: 0.000742, Time: 19.18\n",
            "\n",
            "########## Validate ##########\n",
            "Epoca: 96\t Val Loss: 0.001296, Time: 2.05\n",
            "\n",
            "########## Train ##########\n",
            "Epoca: 97\t Train Loss: 0.000734, Time: 19.19\n",
            "\n",
            "########## Validate ##########\n",
            "Epoca: 97\t Val Loss: 0.001309, Time: 2.04\n",
            "\n",
            "########## Train ##########\n",
            "Epoca: 98\t Train Loss: 0.000737, Time: 19.18\n",
            "\n",
            "########## Validate ##########\n",
            "Epoca: 98\t Val Loss: 0.001299, Time: 2.05\n",
            "\n",
            "########## Train ##########\n",
            "Epoca: 99\t Train Loss: 0.000732, Time: 19.20\n",
            "\n",
            "########## Validate ##########\n",
            "Epoca: 99\t Val Loss: 0.001292, Time: 2.42\n",
            "\n"
          ]
        }
      ],
      "source": [
        "train_losses, val_losses = [], []\n",
        "val_predicts = []\n",
        "\n",
        "i = 1\n",
        "for epoch in range(args['epoch']):\n",
        "  #Train\n",
        "  train_loss = train(train_loader, model, epoch, 'train')\n",
        "  train_losses.append(train_loss)\n",
        "\n",
        "  val_loss = validate(test_loader, model, epoch, 'test')\n",
        "  val_losses.append(val_loss)\n",
        "  #val_predicts.append(predicts)"
      ]
    },
    {
      "cell_type": "markdown",
      "metadata": {
        "id": "xSLDlucDFZ5M"
      },
      "source": [
        "## Teste"
      ]
    },
    {
      "cell_type": "code",
      "execution_count": 85,
      "metadata": {
        "id": "kvt5EhM4FfDF"
      },
      "outputs": [],
      "source": [
        "train_label = np.zeros(train_set.shape[0])\n",
        "test_label = np.ones(test_set.shape[0])\n",
        "\n",
        "labels = np.concatenate((train_label, test_label))\n",
        "dataset = np.concatenate((train_set, test_set))\n",
        "\n",
        "#data_fit = np.reshape(data, (data.shape[0],data.shape[1]*data.shape[2]))\n",
        "\n",
        "labels = torch.from_numpy(labels)\n",
        "dataset = torch.from_numpy(dataset)"
      ]
    },
    {
      "cell_type": "code",
      "execution_count": 86,
      "metadata": {
        "id": "NAvla2_1IrYQ"
      },
      "outputs": [],
      "source": [
        "dataloader = DataLoader([ [dataset[i], labels[i]] for i in range(len(dataset))],\n",
        "                        shuffle=True,\n",
        "                        batch_size=args['batch_size'],\n",
        "                        num_workers=args['num_workers'])\n",
        "\n",
        "isolation_forest = IsolationForest(n_estimators = 20, contamination = 0.2)\n"
      ]
    },
    {
      "cell_type": "code",
      "source": [
        "model.eval()\n",
        "\n",
        "tns = []\n",
        "\n",
        "for x in dataloader:\n",
        "  imagem, _ = x\n",
        "  imagem = imagem.unsqueeze(1).float()\n",
        "  imagem = imagem.to(args['device'])\n",
        "\n",
        "  # forward pass\n",
        "  output = model(imagem)\n",
        "\n",
        "  #isolation_forest.fit(torch.flatten(output,start_dim=1).cpu().data)\n",
        "\n",
        "  # calculando loss\n",
        "  loss = criterio(output, imagem)\n",
        "\n",
        "  for img in output:\n",
        "    tns.append(img.squeeze().cpu().data.numpy())\n",
        "\n",
        "\n",
        "print(\"Loss: \",loss.item())"
      ],
      "metadata": {
        "id": "69aXv3N6FpBx",
        "colab": {
          "base_uri": "https://localhost:8080/"
        },
        "outputId": "cc20ae97-939b-47b6-80e8-c2309aeb87cf"
      },
      "execution_count": 87,
      "outputs": [
        {
          "output_type": "stream",
          "name": "stdout",
          "text": [
            "Loss:  0.0008035774808377028\n"
          ]
        }
      ]
    },
    {
      "cell_type": "code",
      "source": [
        "isolation_dataset = np.array(tns)\n",
        "\n",
        "isolation_dataset = np.reshape(isolation_dataset, (isolation_dataset.shape[0],isolation_dataset.shape[1]*isolation_dataset.shape[2]))\n",
        "\n",
        "isolation_forest.fit(isolation_dataset)"
      ],
      "metadata": {
        "colab": {
          "base_uri": "https://localhost:8080/"
        },
        "id": "UqozyBhV9p68",
        "outputId": "84448b90-ed61-456b-9375-09c13301c5b9"
      },
      "execution_count": 88,
      "outputs": [
        {
          "output_type": "execute_result",
          "data": {
            "text/plain": [
              "IsolationForest(contamination=0.2, n_estimators=20)"
            ]
          },
          "metadata": {},
          "execution_count": 88
        }
      ]
    },
    {
      "cell_type": "code",
      "execution_count": 89,
      "metadata": {
        "id": "3CAobTgLFe3e",
        "colab": {
          "base_uri": "https://localhost:8080/"
        },
        "outputId": "a15364e0-7e49-47a1-bcba-c3effe09469e"
      },
      "outputs": [
        {
          "output_type": "stream",
          "name": "stdout",
          "text": [
            "########## Test ##########\n",
            "Test Loss: 0.004199\n",
            "Acurácia do Isolation Forest: 0.113\t 2000 Outliers, 8000 Inliers\n",
            "\n"
          ]
        }
      ],
      "source": [
        "model.eval()\n",
        "\n",
        "tns = []\n",
        "predicts = []\n",
        "outliers, inliers = 0, 0\n",
        "\n",
        "start = time.time()\n",
        "\n",
        "test_loss = 0.0\n",
        "with torch.no_grad():\n",
        "  for data in dataloader:\n",
        "    imagem, label = data\n",
        "    imagem = imagem.unsqueeze(1).float()\n",
        "    imagem = imagem.to(args['device'])\n",
        "\n",
        "    # forward pass\n",
        "    output = model(imagem)\n",
        "\n",
        "    y = isolation_forest.predict(torch.flatten(output,start_dim=1).cpu().data)\n",
        "    outliers += list(y).count(-1)\n",
        "    inliers += list(y).count(1)\n",
        "    predicts.append(accuracy_score(label, y))\n",
        "\n",
        "    # calculando loss\n",
        "    loss = criterio(output, imagem)\n",
        "\n",
        "    # update running test loss\n",
        "    test_loss += loss.item()\n",
        "\n",
        "\n",
        "  test_loss = test_loss/len(test_loader)\n",
        "  end = time.time()\n",
        "\n",
        "  if epoch % 5 == 0:\n",
        "    save_decod_img(imagem.cpu().data, output.cpu().data, epoch, name)\n",
        "\n",
        "  print('########## Test ##########')\n",
        "\n",
        "  \n",
        "  print(\"Test Loss: {:.6f}\\nAcurácia do Isolation Forest: {:.3f}\\t {} Outliers, {} Inliers\\n\".format(test_loss, (sum(predicts)/len(predicts)), outliers, inliers))\n"
      ]
    },
    {
      "cell_type": "markdown",
      "metadata": {
        "id": "0rXPlSNFijQU"
      },
      "source": [
        "## Plot Treino x Teste"
      ]
    },
    {
      "cell_type": "code",
      "execution_count": 53,
      "metadata": {
        "id": "nUMrkYR5iiqC",
        "colab": {
          "base_uri": "https://localhost:8080/",
          "height": 296
        },
        "outputId": "68ceb2c6-71c4-4121-cb5e-1584f9abd45b"
      },
      "outputs": [
        {
          "output_type": "execute_result",
          "data": {
            "text/plain": [
              "Text(0.5, 0, 'Epochs')"
            ]
          },
          "metadata": {},
          "execution_count": 53
        },
        {
          "output_type": "display_data",
          "data": {
            "text/plain": [
              "<Figure size 432x288 with 1 Axes>"
            ],
            "image/png": "[encoded data removed]"
          },
          "metadata": {
            "needs_background": "light"
          }
        }
      ],
      "source": [
        " plt.plot(train_losses, label='Train')\n",
        " plt.plot(val_losses, label='Test')\n",
        " plt.legend(loc=\"upper right\")\n",
        " plt.ylabel('Loss')\n",
        " plt.xlabel('Epochs')"
      ]
    },
    {
      "cell_type": "code",
      "execution_count": 54,
      "metadata": {
        "id": "HtWFdXgOA1N6",
        "colab": {
          "base_uri": "https://localhost:8080/",
          "height": 296
        },
        "outputId": "30103c2e-3d08-46de-b259-e87b3c531687"
      },
      "outputs": [
        {
          "output_type": "execute_result",
          "data": {
            "text/plain": [
              "Text(0.5, 0, 'Epochs')"
            ]
          },
          "metadata": {},
          "execution_count": 54
        },
        {
          "output_type": "display_data",
          "data": {
            "text/plain": [
              "<Figure size 432x288 with 1 Axes>"
            ],
            "image/png": "[encoded data removed]"
          },
          "metadata": {
            "needs_background": "light"
          }
        }
      ],
      "source": [
        " plt.plot(val_predicts, label='Test Dataset Accuracy')\n",
        " plt.legend(loc=\"upper right\")\n",
        " plt.ylabel('Average')\n",
        " plt.xlabel('Epochs')"
      ]
    },
    {
      "cell_type": "markdown",
      "metadata": {
        "id": "AHoIUvBmirI9"
      },
      "source": [
        "## Plot da Imagem Original(normalizada) x Imagem Reconstruída via AutoEncoder Convolucional"
      ]
    },
    {
      "cell_type": "code",
      "execution_count": 55,
      "metadata": {
        "id": "CNOb9zHIiohP",
        "colab": {
          "base_uri": "https://localhost:8080/",
          "height": 235
        },
        "outputId": "0fb00ebf-2d62-4352-eb30-8084ad8403b2"
      },
      "outputs": [
        {
          "output_type": "error",
          "ename": "RuntimeError",
          "evalue": "ignored",
          "traceback": [
            "\u001b[0;31m---------------------------------------------------------------------------\u001b[0m",
            "\u001b[0;31mRuntimeError\u001b[0m                              Traceback (most recent call last)",
            "\u001b[0;32m<ipython-input-55-76f0cd9469b7>\u001b[0m in \u001b[0;36m<module>\u001b[0;34m()\u001b[0m\n\u001b[1;32m     15\u001b[0m \u001b[0;34m\u001b[0m\u001b[0m\n\u001b[1;32m     16\u001b[0m \u001b[0;31m# output is resized into a batch of iages\u001b[0m\u001b[0;34m\u001b[0m\u001b[0;34m\u001b[0m\u001b[0;34m\u001b[0m\u001b[0m\n\u001b[0;32m---> 17\u001b[0;31m \u001b[0moutput\u001b[0m \u001b[0;34m=\u001b[0m \u001b[0moutput\u001b[0m\u001b[0;34m.\u001b[0m\u001b[0mview\u001b[0m\u001b[0;34m(\u001b[0m\u001b[0margs\u001b[0m\u001b[0;34m[\u001b[0m\u001b[0;34m'batch_size'\u001b[0m\u001b[0;34m]\u001b[0m\u001b[0;34m,\u001b[0m \u001b[0;36m1\u001b[0m\u001b[0;34m,\u001b[0m \u001b[0;36m120\u001b[0m\u001b[0;34m,\u001b[0m \u001b[0;36m120\u001b[0m\u001b[0;34m)\u001b[0m\u001b[0;34m\u001b[0m\u001b[0;34m\u001b[0m\u001b[0m\n\u001b[0m\u001b[1;32m     18\u001b[0m \u001b[0;31m# use detach when it's an output that requires_grad\u001b[0m\u001b[0;34m\u001b[0m\u001b[0;34m\u001b[0m\u001b[0;34m\u001b[0m\u001b[0m\n\u001b[1;32m     19\u001b[0m \u001b[0moutput\u001b[0m \u001b[0;34m=\u001b[0m \u001b[0moutput\u001b[0m\u001b[0;34m.\u001b[0m\u001b[0mdetach\u001b[0m\u001b[0;34m(\u001b[0m\u001b[0;34m)\u001b[0m\u001b[0;31m#.numpy()\u001b[0m\u001b[0;34m\u001b[0m\u001b[0;34m\u001b[0m\u001b[0m\n",
            "\u001b[0;31mRuntimeError\u001b[0m: shape '[50, 1, 120, 120]' is invalid for input of size 1280000"
          ]
        }
      ],
      "source": [
        "# obtain one batch of test images\n",
        "dataiter = iter(train_loader)\n",
        "images = dataiter.next()\n",
        "\n",
        "imagem = images.unsqueeze(1).float()\n",
        "imagem /= 255.0\n",
        "imagem = imagem.to(args['device'])\n",
        "\n",
        "# get sample outputs\n",
        "output = model(imagem)\n",
        "# prep images for display\n",
        "images = images.numpy()\n",
        "\n",
        "\n",
        "\n",
        "# output is resized into a batch of iages\n",
        "output = output.view(args['batch_size'], 1, 120, 120)\n",
        "# use detach when it's an output that requires_grad\n",
        "output = output.detach()#.numpy()\n",
        "\n",
        "\n",
        "\n",
        "# plot the first ten input images and then reconstructed images\n",
        "fig, axes = plt.subplots(nrows=2, ncols=10, sharex=True, sharey=True, figsize=(24,4))\n",
        "for idx in np.arange(20):\n",
        "    ax = fig.add_subplot(2, 20/2, idx+1, xticks=[], yticks=[])\n",
        "    loss = criterio(output[idx], imagem[idx])\n",
        "    label = 'Loss value: {:.3f}'\n",
        "    ax.set_xlabel(label.format(loss) )\n",
        "    ax.set_title(\"Reconstructed Image\")\n",
        "    plt.imshow(output[idx].squeeze().cpu(), cmap='gray')\n",
        "    \n",
        "# plot the first ten input images and then reconstructed images\n",
        "fig, axes = plt.subplots(nrows=2, ncols=10, sharex=True, sharey=True, figsize=(24,4))\n",
        "for idx in np.arange(20):\n",
        "    ax = fig.add_subplot(2, 20/2, idx+1, xticks=[], yticks=[])\n",
        "    loss = criterio(output[idx], imagem[idx])\n",
        "    label = 'Loss value: {:.3f}'\n",
        "    ax.set_xlabel(label.format(loss) )\n",
        "    ax.set_title(\"Original Image\")\n",
        "    plt.imshow(images[idx].squeeze(), cmap='gray')\n"
      ]
    },
    {
      "cell_type": "code",
      "execution_count": null,
      "metadata": {
        "id": "ogQCkTYUE9cY"
      },
      "outputs": [],
      "source": [
        "# obtain one batch of test images\n",
        "dataiter = iter(test_loader)\n",
        "images = dataiter.next()\n",
        "\n",
        "imagem = images.unsqueeze(1).float()\n",
        "imagem /= 255.0\n",
        "imagem = imagem.to(args['device'])\n",
        "\n",
        "# get sample outputs\n",
        "output = model(imagem)\n",
        "# prep images for display\n",
        "images = images.numpy()\n",
        "\n",
        "\n",
        "\n",
        "# output is resized into a batch of iages\n",
        "output = output.view(args['batch_size'], 1, 120, 120)\n",
        "# use detach when it's an output that requires_grad\n",
        "output = output.detach()#.numpy()\n",
        "\n",
        "\n",
        "\n",
        "# plot the first ten input images and then reconstructed images\n",
        "fig, axes = plt.subplots(nrows=2, ncols=10, sharex=True, sharey=True, figsize=(24,4))\n",
        "for idx in np.arange(20):\n",
        "    ax = fig.add_subplot(2, 20/2, idx+1, xticks=[], yticks=[])\n",
        "    loss = criterio(output[idx], imagem[idx])\n",
        "    label = 'Loss value: {:.3f}'\n",
        "    ax.set_xlabel(label.format(loss) )\n",
        "    ax.set_title(\"Reconstructed Image\")\n",
        "    plt.imshow(output[idx].squeeze().cpu(), cmap='gray')\n",
        "    \n",
        "# plot the first ten input images and then reconstructed images\n",
        "fig, axes = plt.subplots(nrows=2, ncols=10, sharex=True, sharey=True, figsize=(24,4))\n",
        "for idx in np.arange(20):\n",
        "    ax = fig.add_subplot(2, 20/2, idx+1, xticks=[], yticks=[])\n",
        "    loss = criterio(output[idx], imagem[idx])\n",
        "    label = 'Loss value: {:.3f}'\n",
        "    ax.set_xlabel(label.format(loss) )\n",
        "    ax.set_title(\"Original Image\")\n",
        "    plt.imshow(images[idx].squeeze(), cmap='gray')\n"
      ]
    },
    {
      "cell_type": "code",
      "execution_count": null,
      "metadata": {
        "id": "6Nezw53Hj-JA"
      },
      "outputs": [],
      "source": [
        ""
      ]
    }
  ],
  "metadata": {
    "accelerator": "GPU",
    "colab": {
      "collapsed_sections": [],
      "name": "isolation_tcc.ipynb",
      "provenance": [],
      "authorship_tag": "ABX9TyPnNdvbaxYqHuMR9MFPPbGs",
      "include_colab_link": true
    },
    "kernelspec": {
      "display_name": "Python 3",
      "name": "python3"
    },
    "language_info": {
      "name": "python"
    }
  },
  "nbformat": 4,
  "nbformat_minor": 0
}
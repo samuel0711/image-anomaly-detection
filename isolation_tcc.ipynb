{
  "cells": [
    {
      "cell_type": "markdown",
      "metadata": {
        "id": "view-in-github",
        "colab_type": "text"
      },
      "source": [
        "<a href=\"https://colab.research.google.com/github/samuel0711/image-anomaly-detection/blob/main/isolation_tcc.ipynb\" target=\"_parent\"><img src=\"https://colab.research.google.com/assets/colab-badge.svg\" alt=\"Open In Colab\"/></a>"
      ]
    },
    {
      "cell_type": "code",
      "execution_count": 1,
      "metadata": {
        "colab": {
          "base_uri": "https://localhost:8080/"
        },
        "id": "LSYuFnl5CR4n",
        "outputId": "bff4756c-2c74-47a5-a040-2b81055c882b"
      },
      "outputs": [
        {
          "output_type": "stream",
          "name": "stdout",
          "text": [
            "Mounted at /content/drive\n"
          ]
        }
      ],
      "source": [
        "import io\n",
        "import sys\n",
        "import os\n",
        "import gc\n",
        "import shutil\n",
        "import numpy as np\n",
        "import matplotlib.pyplot as plt\n",
        "from skimage import io as skio\n",
        "import torch\n",
        "from torch import nn #neural networks\n",
        "import torch.nn.functional as F\n",
        "from torchvision.utils import save_image\n",
        "\n",
        "\n",
        "import time\n",
        "\n",
        "#Carregamento de Dados\n",
        "from torch.utils.data import DataLoader\n",
        "from torchvision import datasets\n",
        "from torchvision import transforms\n",
        "from sklearn.ensemble import IsolationForest\n",
        "from sklearn.metrics import accuracy_score\n",
        "\n",
        "\n",
        "if 'google.colab' in sys.modules:\n",
        "    from google.colab import drive\n",
        "    drive.mount('/content/drive')\n",
        "    os.chdir(\"/content/drive/My Drive/Colab Notebooks\")\n",
        "    sys.path.append('/content/drive/My Drive/Colab Notebooks')"
      ]
    },
    {
      "cell_type": "code",
      "execution_count": 2,
      "metadata": {
        "colab": {
          "base_uri": "https://localhost:8080/"
        },
        "id": "rYAT-KAsB42R",
        "outputId": "70fdd10f-200c-4993-d29a-2993cb1b48a5"
      },
      "outputs": [
        {
          "output_type": "stream",
          "name": "stdout",
          "text": [
            "cuda\n"
          ]
        }
      ],
      "source": [
        "args = {\n",
        "    'epoch':100,          #Numero de épocas\n",
        "    'lr':5e-4,            #Taxa de aprendizado\n",
        "    'weight_decay':5e-5,  #Penalidade L2 (Regularização)\n",
        "    'batch_size': 50,     #Tamanho do batch\n",
        "    'num_workers': 2\n",
        "}\n",
        "\n",
        "if torch.cuda.is_available():\n",
        "  args['device'] = torch.device('cuda')\n",
        "else:\n",
        "  args['device'] = torch.device('cpu')\n",
        "\n",
        "print(args['device'])\n",
        "\n",
        "\n",
        "train_set = np.load('train_dataset.npy', allow_pickle = True)/255.0\n",
        "test_set = np.load('test_dataset.npy', allow_pickle = True)/255.0"
      ]
    },
    {
      "cell_type": "code",
      "execution_count": 3,
      "metadata": {
        "colab": {
          "base_uri": "https://localhost:8080/"
        },
        "id": "nj4IxvZ5BC-8",
        "outputId": "145e247a-916b-4ce1-abe1-9373ab9ac2df"
      },
      "outputs": [
        {
          "output_type": "stream",
          "name": "stderr",
          "text": [
            "/usr/local/lib/python3.7/dist-packages/numpy/core/_methods.py:212: RuntimeWarning: overflow encountered in reduce\n",
            "  arrmean = umr_sum(arr, axis, dtype, keepdims=True, where=where)\n"
          ]
        },
        {
          "output_type": "stream",
          "name": "stdout",
          "text": [
            "Treino\n",
            "Média:  0.3945 \t Desvio Padrão:  inf \n",
            "\n",
            "\n",
            "Teste\n",
            "Média:  0.44 \t Desvio Padrão:  inf\n"
          ]
        }
      ],
      "source": [
        "print('Treino\\nMédia: ',train_set.mean(),'\\t Desvio Padrão: ',train_set.std(),'\\n\\n')\n",
        "print('Teste\\nMédia: ',test_set.mean(),'\\t Desvio Padrão: ',test_set.std())"
      ]
    },
    {
      "cell_type": "code",
      "execution_count": 4,
      "metadata": {
        "id": "iXr6tMUp0c_U"
      },
      "outputs": [],
      "source": [
        "train_set = torch.from_numpy(train_set)\n",
        "test_set = torch.from_numpy(test_set)"
      ]
    },
    {
      "cell_type": "code",
      "execution_count": 5,
      "metadata": {
        "id": "u3WOjrbee9wN"
      },
      "outputs": [],
      "source": [
        "#dataset = np.concatenate((train_set, test_set))\n",
        "\n",
        "#dataset = np.reshape(dataset,(dataset.shape[0], dataset.shape[1]*dataset.shape[2]))\n",
        "\n",
        "#isolation_forest.fit(dataset)"
      ]
    },
    {
      "cell_type": "code",
      "execution_count": 6,
      "metadata": {
        "colab": {
          "base_uri": "https://localhost:8080/",
          "height": 53
        },
        "id": "z1eefBaUuSuT",
        "outputId": "c40b7d43-5850-4740-a5c8-ecee9ffbd5df"
      },
      "outputs": [
        {
          "output_type": "execute_result",
          "data": {
            "text/plain": [
              "'transform_train = transforms.Compose([\\n    transforms.Normalize((train_set.mean(), ), (train_set.std(), ))\\n])\\n\\ntransform_test = transforms.Compose([\\n    transforms.Normalize((test_set.mean(), ), (test_set.std(), ))\\n])\\n  \\n# image\\ntrain_set = transform_train(train_set)#.permute(1,2,0)\\ntest_set = transform_test(test_set)#.permute(1,2,0)'"
            ],
            "application/vnd.google.colaboratory.intrinsic+json": {
              "type": "string"
            }
          },
          "metadata": {},
          "execution_count": 6
        }
      ],
      "source": [
        "'''transform_train = transforms.Compose([\n",
        "    transforms.Normalize((train_set.mean(), ), (train_set.std(), ))\n",
        "])\n",
        "\n",
        "transform_test = transforms.Compose([\n",
        "    transforms.Normalize((test_set.mean(), ), (test_set.std(), ))\n",
        "])\n",
        "  \n",
        "# image\n",
        "train_set = transform_train(train_set)#.permute(1,2,0)\n",
        "test_set = transform_test(test_set)#.permute(1,2,0)'''"
      ]
    },
    {
      "cell_type": "code",
      "execution_count": 7,
      "metadata": {
        "id": "rJiOOTaxmimJ"
      },
      "outputs": [],
      "source": [
        "train_loader = DataLoader(train_set, \n",
        "                          batch_size=args['batch_size'], \n",
        "                          shuffle=True, \n",
        "                          num_workers=args['num_workers'])\n",
        "\n",
        "test_loader = DataLoader(test_set, \n",
        "                         batch_size=args['batch_size'], \n",
        "                         shuffle=True, \n",
        "                         num_workers=args['num_workers']) "
      ]
    },
    {
      "cell_type": "code",
      "execution_count": 8,
      "metadata": {
        "id": "Es1OH4QXblsC"
      },
      "outputs": [],
      "source": [
        "#Define the Convolutional Autoencoder\n",
        "class ConvAutoencoder(nn.Module):\n",
        "    def __init__(self):\n",
        "        super(ConvAutoencoder, self).__init__()\n",
        "       \n",
        "        #Encoder\n",
        "        self.conv1 = nn.Conv2d(1, 64, 3, padding = 1)  #in_channel, out_channel, kernel_size\n",
        "        self.conv2 = nn.Conv2d(64, 128, 3, padding = 1)\n",
        "        self.conv3 = nn.Conv2d(128, 128, 3, padding = 1) \n",
        "        self.conv4 = nn.Conv2d(128, 254, 3, padding = 1) \n",
        "        self.pool = nn.MaxPool2d(2) #kernel_size, stride\n",
        "       \n",
        "        #Decoder\n",
        "        self.t_conv1 = nn.ConvTranspose2d(254, 128, 2, stride=2)        \n",
        "        self.t_conv2 = nn.ConvTranspose2d(128, 128, 2, stride=2)\n",
        "        self.t_conv3 = nn.ConvTranspose2d(128, 64, 2, stride=2)\n",
        "        self.t_conv4 = nn.ConvTranspose2d(64, 1, 2, stride=2)\n",
        "\n",
        "\n",
        "    def forward(self, x):\n",
        "        x = F.relu(self.conv1(x))\n",
        "        x = self.pool(x)\n",
        "        x = F.relu(self.conv2(x))\n",
        "        x = self.pool(x)\n",
        "        x = F.relu(self.conv3(x))\n",
        "        x = self.pool(x)\n",
        "        x = F.leaky_relu(self.conv4(x))\n",
        "        x = self.pool(x)\n",
        "        x = F.relu(self.t_conv1(x))\n",
        "        x = F.relu(self.t_conv2(x))\n",
        "        x = F.relu(self.t_conv3(x))\n",
        "        x = torch.sigmoid(self.t_conv4(x))\n",
        "              \n",
        "        return x\n",
        "\n",
        "\n",
        "#Instantiate the model\n",
        "model = ConvAutoencoder()\n"
      ]
    },
    {
      "cell_type": "markdown",
      "metadata": {
        "id": "RQhg2NBR46DB"
      },
      "source": [
        "# **Treinando**"
      ]
    },
    {
      "cell_type": "code",
      "execution_count": 9,
      "metadata": {
        "colab": {
          "base_uri": "https://localhost:8080/"
        },
        "id": "0-c6HSrSzJ1V",
        "outputId": "5b77fd19-24ec-4616-9d1f-5d2bcd7354e8"
      },
      "outputs": [
        {
          "output_type": "execute_result",
          "data": {
            "text/plain": [
              "ConvAutoencoder(\n",
              "  (conv1): Conv2d(1, 64, kernel_size=(3, 3), stride=(1, 1), padding=(1, 1))\n",
              "  (conv2): Conv2d(64, 128, kernel_size=(3, 3), stride=(1, 1), padding=(1, 1))\n",
              "  (conv3): Conv2d(128, 128, kernel_size=(3, 3), stride=(1, 1), padding=(1, 1))\n",
              "  (conv4): Conv2d(128, 254, kernel_size=(3, 3), stride=(1, 1), padding=(1, 1))\n",
              "  (pool): MaxPool2d(kernel_size=2, stride=2, padding=0, dilation=1, ceil_mode=False)\n",
              "  (t_conv1): ConvTranspose2d(254, 128, kernel_size=(2, 2), stride=(2, 2))\n",
              "  (t_conv2): ConvTranspose2d(128, 128, kernel_size=(2, 2), stride=(2, 2))\n",
              "  (t_conv3): ConvTranspose2d(128, 64, kernel_size=(2, 2), stride=(2, 2))\n",
              "  (t_conv4): ConvTranspose2d(64, 1, kernel_size=(2, 2), stride=(2, 2))\n",
              ")"
            ]
          },
          "metadata": {},
          "execution_count": 9
        }
      ],
      "source": [
        "from torch import optim\n",
        "\n",
        "criterio = nn.MSELoss().to(args['device'])\n",
        "optimizer = optim.Adam(model.parameters(), lr=args['lr'])\n",
        "model.to(args['device'])"
      ]
    },
    {
      "cell_type": "code",
      "execution_count": 10,
      "metadata": {
        "id": "_s9WKltZrPdU"
      },
      "outputs": [],
      "source": [
        "def save_decod_img(img, output, epoch, name):\n",
        "    img = img.view(img.size(0), 1, img.shape[2], img.shape[3])\n",
        "    output = output.view(output.size(0), 1, output.shape[2], output.shape[3])\n",
        "    error = output.view(output.size(0), 1, output.shape[2], output.shape[3]) - img.view(img.size(0), 1, img.shape[2], img.shape[3])\n",
        "    save_image(img, './imgs_tcc/{}_imagem_image{}.png'.format(name,epoch))\n",
        "    save_image(output, './imgs_tcc/{}_output_image{}.png'.format(name,epoch))\n",
        "    save_image(error, './imgs_tcc/{}_error_image{}.png'.format(name,epoch))"
      ]
    },
    {
      "cell_type": "markdown",
      "metadata": {
        "id": "vMrPLQr4hvrE"
      },
      "source": [
        "## Treino ( Somente com imagens não-anomalas)"
      ]
    },
    {
      "cell_type": "code",
      "execution_count": 11,
      "metadata": {
        "id": "GemLuqJp7aIL"
      },
      "outputs": [],
      "source": [
        "def train(train_loader, model, epoch, name):\n",
        "  ###################\n",
        "  # treinando o modelo #\n",
        "  ###################\n",
        "  model.train()\n",
        "  \n",
        "  start = time.time()\n",
        "\n",
        "  tns = []\n",
        "\n",
        "  train_loss = 0.0\n",
        "  for data in train_loader:\n",
        "    imagem = data.unsqueeze(1).float()\n",
        "    imagem = imagem.to(args['device'])\n",
        "\n",
        "    #imagem = imagem/255.0\n",
        "\n",
        "    # clear the gradients of all optimized variables\n",
        "    optimizer.zero_grad()\n",
        "\n",
        "    # forward pass\n",
        "    output = model(imagem)\n",
        "\n",
        "    # calculando loss\n",
        "    loss = criterio(output, imagem)\n",
        "    #isolation_forest.fit(torch.flatten(output,start_dim=1).cpu().data)\n",
        "\n",
        "\n",
        "    # backpropagation\n",
        "    loss.backward()\n",
        "\n",
        "    # próximo passo\n",
        "    optimizer.step()\n",
        "\n",
        "    # update running training loss\n",
        "    train_loss += loss.item()\n",
        "\n",
        "    if epoch == args['epoch']:\n",
        "      for x, y in zip(imagem, output):\n",
        "          tns.append(np.array(y.squeeze().cpu().data - x.squeeze().cpu().data))\n",
        "\n",
        "  if epoch % 5 == 0:\n",
        "    save_decod_img(imagem.cpu().data, output.cpu().data, epoch, name)\n",
        "\n",
        "\n",
        "  train_loss = train_loss/len(train_loader)\n",
        "\n",
        "  end = time.time()\n",
        "\n",
        "\n",
        "  print('########## Train ##########')\n",
        "\n",
        "  print(\"Epoca: {}\\t Train Loss: {:.6f}, Time: {:.2f}\\n\".format(epoch, train_loss, end-start))\n",
        "  #print(\"Medía do Loss:\", epoch_loss_train.mean())\n",
        "\n",
        "  return train_loss"
      ]
    },
    {
      "cell_type": "markdown",
      "metadata": {
        "id": "4SqIE-syh4Dm"
      },
      "source": [
        "## Validação ( Somente com imagens anômalas )"
      ]
    },
    {
      "cell_type": "code",
      "execution_count": 12,
      "metadata": {
        "id": "991BeROg8xf3"
      },
      "outputs": [],
      "source": [
        "def validate(test_loader, model, epoch, name):\n",
        "  ###################\n",
        "  # validando o modelo #\n",
        "  ###################\n",
        "  model.eval()\n",
        "\n",
        "  tns = []\n",
        "  predicts = []\n",
        "  outliers, inliers = 0, 0\n",
        "  \n",
        "  start = time.time()\n",
        "  \n",
        "  test_loss = 0.0\n",
        "  with torch.no_grad():\n",
        "    for data in test_loader:\n",
        "      imagem = data.unsqueeze(1).float()\n",
        "      imagem = imagem.to(args['device'])\n",
        "\n",
        "      #imagem = imagem/255.0\n",
        "      # forward pass\n",
        "      output = model(imagem)\n",
        "\n",
        "      #y = isolation_forest.predict(torch.flatten(output,start_dim=1).cpu().data)\n",
        "      #outliers += list(y).count(-1)\n",
        "      #inliers += list(y).count(1)\n",
        "      #predicts.append(list(y).count(-1)/y.shape[0])\n",
        "\n",
        "      # calculando loss\n",
        "      loss = criterio(output, imagem)\n",
        "\n",
        "      # update running test loss\n",
        "      test_loss += loss.item()\n",
        "\n",
        "      if epoch == (args['epoch']-1):\n",
        "        for x, y in zip(imagem, output):\n",
        "          tns.append(y.squeeze().cpu().numpy() - x.squeeze().cpu().numpy())\n",
        "\n",
        "    test_loss = test_loss/len(test_loader)\n",
        "    end = time.time()\n",
        "\n",
        "    if epoch % 5 == 0:\n",
        "      save_decod_img(imagem.cpu().data, output.cpu().data, epoch, name)\n",
        "    print('########## Validate ##########')\n",
        "\n",
        "    \n",
        "    print(\"Epoca: {}\\t Val Loss: {:.6f}, Time: {:.2f}\\n\".format(epoch, test_loss, end-start)) #\\nAcurácia do Isolation Forest: {:.3f}\\t {} Outliers, {} Inliers\\n\".format(epoch, test_loss, end-start, (sum(predicts)/len(predicts)), outliers, inliers))\n",
        "\n",
        "    return test_loss#, (sum(predicts)/len(predicts))"
      ]
    },
    {
      "cell_type": "markdown",
      "metadata": {
        "id": "6eTPY7xYolud"
      },
      "source": [
        "## Rodando Validação e Treino\n"
      ]
    },
    {
      "cell_type": "code",
      "execution_count": 13,
      "metadata": {
        "colab": {
          "base_uri": "https://localhost:8080/"
        },
        "id": "X16XessjolJa",
        "outputId": "b5902174-6803-4f4a-8d4b-9e037723e61f"
      },
      "outputs": [
        {
          "output_type": "stream",
          "name": "stdout",
          "text": [
            "########## Train ##########\n",
            "Epoca: 0\t Train Loss: 0.010083, Time: 20.83\n",
            "\n",
            "########## Validate ##########\n",
            "Epoca: 0\t Val Loss: 0.004112, Time: 1.88\n",
            "\n",
            "########## Train ##########\n",
            "Epoca: 1\t Train Loss: 0.003493, Time: 17.87\n",
            "\n",
            "########## Validate ##########\n",
            "Epoca: 1\t Val Loss: 0.003102, Time: 1.85\n",
            "\n",
            "########## Train ##########\n",
            "Epoca: 2\t Train Loss: 0.002490, Time: 18.10\n",
            "\n",
            "########## Validate ##########\n",
            "Epoca: 2\t Val Loss: 0.002541, Time: 1.87\n",
            "\n",
            "########## Train ##########\n",
            "Epoca: 3\t Train Loss: 0.001990, Time: 18.35\n",
            "\n",
            "########## Validate ##########\n",
            "Epoca: 3\t Val Loss: 0.002546, Time: 1.90\n",
            "\n",
            "########## Train ##########\n",
            "Epoca: 4\t Train Loss: 0.001682, Time: 18.49\n",
            "\n",
            "########## Validate ##########\n",
            "Epoca: 4\t Val Loss: 0.002071, Time: 1.87\n",
            "\n",
            "########## Train ##########\n",
            "Epoca: 5\t Train Loss: 0.001467, Time: 21.80\n",
            "\n",
            "########## Validate ##########\n",
            "Epoca: 5\t Val Loss: 0.002001, Time: 1.93\n",
            "\n",
            "########## Train ##########\n",
            "Epoca: 6\t Train Loss: 0.001329, Time: 18.87\n",
            "\n",
            "########## Validate ##########\n",
            "Epoca: 6\t Val Loss: 0.001823, Time: 1.89\n",
            "\n",
            "########## Train ##########\n",
            "Epoca: 7\t Train Loss: 0.001247, Time: 19.03\n",
            "\n",
            "########## Validate ##########\n",
            "Epoca: 7\t Val Loss: 0.001780, Time: 1.90\n",
            "\n",
            "########## Train ##########\n",
            "Epoca: 8\t Train Loss: 0.001139, Time: 19.27\n",
            "\n",
            "########## Validate ##########\n",
            "Epoca: 8\t Val Loss: 0.001732, Time: 1.93\n",
            "\n",
            "########## Train ##########\n",
            "Epoca: 9\t Train Loss: 0.001095, Time: 19.41\n",
            "\n",
            "########## Validate ##########\n",
            "Epoca: 9\t Val Loss: 0.001627, Time: 1.92\n",
            "\n",
            "########## Train ##########\n",
            "Epoca: 10\t Train Loss: 0.001046, Time: 22.61\n",
            "\n",
            "########## Validate ##########\n",
            "Epoca: 10\t Val Loss: 0.001583, Time: 1.93\n",
            "\n",
            "########## Train ##########\n",
            "Epoca: 11\t Train Loss: 0.001013, Time: 19.37\n",
            "\n",
            "########## Validate ##########\n",
            "Epoca: 11\t Val Loss: 0.001669, Time: 1.92\n",
            "\n",
            "########## Train ##########\n",
            "Epoca: 12\t Train Loss: 0.000976, Time: 19.50\n",
            "\n",
            "########## Validate ##########\n",
            "Epoca: 12\t Val Loss: 0.001519, Time: 1.93\n",
            "\n",
            "########## Train ##########\n",
            "Epoca: 13\t Train Loss: 0.000946, Time: 19.37\n",
            "\n",
            "########## Validate ##########\n",
            "Epoca: 13\t Val Loss: 0.001550, Time: 1.91\n",
            "\n",
            "########## Train ##########\n",
            "Epoca: 14\t Train Loss: 0.000911, Time: 19.33\n",
            "\n",
            "########## Validate ##########\n",
            "Epoca: 14\t Val Loss: 0.001480, Time: 1.92\n",
            "\n",
            "########## Train ##########\n",
            "Epoca: 15\t Train Loss: 0.000899, Time: 22.28\n",
            "\n",
            "########## Validate ##########\n",
            "Epoca: 15\t Val Loss: 0.001450, Time: 1.96\n",
            "\n",
            "########## Train ##########\n",
            "Epoca: 16\t Train Loss: 0.000879, Time: 19.45\n",
            "\n",
            "########## Validate ##########\n",
            "Epoca: 16\t Val Loss: 0.001451, Time: 1.92\n",
            "\n",
            "########## Train ##########\n",
            "Epoca: 17\t Train Loss: 0.000854, Time: 19.49\n",
            "\n",
            "########## Validate ##########\n",
            "Epoca: 17\t Val Loss: 0.001465, Time: 1.91\n",
            "\n",
            "########## Train ##########\n",
            "Epoca: 18\t Train Loss: 0.000840, Time: 19.34\n",
            "\n",
            "########## Validate ##########\n",
            "Epoca: 18\t Val Loss: 0.001443, Time: 1.90\n",
            "\n",
            "########## Train ##########\n",
            "Epoca: 19\t Train Loss: 0.000832, Time: 19.33\n",
            "\n",
            "########## Validate ##########\n",
            "Epoca: 19\t Val Loss: 0.001397, Time: 1.91\n",
            "\n",
            "########## Train ##########\n",
            "Epoca: 20\t Train Loss: 0.000810, Time: 22.48\n",
            "\n",
            "########## Validate ##########\n",
            "Epoca: 20\t Val Loss: 0.001372, Time: 1.94\n",
            "\n",
            "########## Train ##########\n",
            "Epoca: 21\t Train Loss: 0.000798, Time: 19.42\n",
            "\n",
            "########## Validate ##########\n",
            "Epoca: 21\t Val Loss: 0.001356, Time: 1.92\n",
            "\n",
            "########## Train ##########\n",
            "Epoca: 22\t Train Loss: 0.000778, Time: 19.48\n",
            "\n",
            "########## Validate ##########\n",
            "Epoca: 22\t Val Loss: 0.001381, Time: 1.90\n",
            "\n",
            "########## Train ##########\n",
            "Epoca: 23\t Train Loss: 0.000770, Time: 19.31\n",
            "\n",
            "########## Validate ##########\n",
            "Epoca: 23\t Val Loss: 0.001333, Time: 1.90\n",
            "\n",
            "########## Train ##########\n",
            "Epoca: 24\t Train Loss: 0.000763, Time: 19.33\n",
            "\n",
            "########## Validate ##########\n",
            "Epoca: 24\t Val Loss: 0.001342, Time: 1.90\n",
            "\n",
            "########## Train ##########\n",
            "Epoca: 25\t Train Loss: 0.000755, Time: 22.60\n",
            "\n",
            "########## Validate ##########\n",
            "Epoca: 25\t Val Loss: 0.001338, Time: 1.95\n",
            "\n",
            "########## Train ##########\n",
            "Epoca: 26\t Train Loss: 0.000747, Time: 19.44\n",
            "\n",
            "########## Validate ##########\n",
            "Epoca: 26\t Val Loss: 0.001305, Time: 1.92\n",
            "\n",
            "########## Train ##########\n",
            "Epoca: 27\t Train Loss: 0.000730, Time: 19.50\n",
            "\n",
            "########## Validate ##########\n",
            "Epoca: 27\t Val Loss: 0.001296, Time: 1.91\n",
            "\n",
            "########## Train ##########\n",
            "Epoca: 28\t Train Loss: 0.000724, Time: 19.33\n",
            "\n",
            "########## Validate ##########\n",
            "Epoca: 28\t Val Loss: 0.001291, Time: 1.90\n",
            "\n",
            "########## Train ##########\n",
            "Epoca: 29\t Train Loss: 0.000719, Time: 19.34\n",
            "\n",
            "########## Validate ##########\n",
            "Epoca: 29\t Val Loss: 0.001287, Time: 1.91\n",
            "\n",
            "########## Train ##########\n",
            "Epoca: 30\t Train Loss: 0.000709, Time: 22.15\n",
            "\n",
            "########## Validate ##########\n",
            "Epoca: 30\t Val Loss: 0.001306, Time: 1.95\n",
            "\n",
            "########## Train ##########\n",
            "Epoca: 31\t Train Loss: 0.000703, Time: 19.42\n",
            "\n",
            "########## Validate ##########\n",
            "Epoca: 31\t Val Loss: 0.001268, Time: 1.92\n",
            "\n",
            "########## Train ##########\n",
            "Epoca: 32\t Train Loss: 0.000692, Time: 19.45\n",
            "\n",
            "########## Validate ##########\n",
            "Epoca: 32\t Val Loss: 0.001285, Time: 1.92\n",
            "\n",
            "########## Train ##########\n",
            "Epoca: 33\t Train Loss: 0.000692, Time: 19.36\n",
            "\n",
            "########## Validate ##########\n",
            "Epoca: 33\t Val Loss: 0.001279, Time: 1.90\n",
            "\n",
            "########## Train ##########\n",
            "Epoca: 34\t Train Loss: 0.000681, Time: 19.33\n",
            "\n",
            "########## Validate ##########\n",
            "Epoca: 34\t Val Loss: 0.001303, Time: 1.92\n",
            "\n",
            "########## Train ##########\n",
            "Epoca: 35\t Train Loss: 0.000676, Time: 22.80\n",
            "\n",
            "########## Validate ##########\n",
            "Epoca: 35\t Val Loss: 0.001246, Time: 1.94\n",
            "\n",
            "########## Train ##########\n",
            "Epoca: 36\t Train Loss: 0.000681, Time: 19.47\n",
            "\n",
            "########## Validate ##########\n",
            "Epoca: 36\t Val Loss: 0.001350, Time: 1.92\n",
            "\n",
            "########## Train ##########\n",
            "Epoca: 37\t Train Loss: 0.000656, Time: 19.51\n",
            "\n",
            "########## Validate ##########\n",
            "Epoca: 37\t Val Loss: 0.001227, Time: 1.92\n",
            "\n",
            "########## Train ##########\n",
            "Epoca: 38\t Train Loss: 0.000657, Time: 19.36\n",
            "\n",
            "########## Validate ##########\n",
            "Epoca: 38\t Val Loss: 0.001233, Time: 1.91\n",
            "\n",
            "########## Train ##########\n",
            "Epoca: 39\t Train Loss: 0.000652, Time: 19.34\n",
            "\n",
            "########## Validate ##########\n",
            "Epoca: 39\t Val Loss: 0.001234, Time: 1.90\n",
            "\n",
            "########## Train ##########\n",
            "Epoca: 40\t Train Loss: 0.000645, Time: 24.17\n",
            "\n",
            "########## Validate ##########\n",
            "Epoca: 40\t Val Loss: 0.001223, Time: 1.95\n",
            "\n",
            "########## Train ##########\n",
            "Epoca: 41\t Train Loss: 0.000642, Time: 19.46\n",
            "\n",
            "########## Validate ##########\n",
            "Epoca: 41\t Val Loss: 0.001208, Time: 1.92\n",
            "\n",
            "########## Train ##########\n",
            "Epoca: 42\t Train Loss: 0.000641, Time: 19.54\n",
            "\n",
            "########## Validate ##########\n",
            "Epoca: 42\t Val Loss: 0.001201, Time: 1.90\n",
            "\n",
            "########## Train ##########\n",
            "Epoca: 43\t Train Loss: 0.000624, Time: 19.31\n",
            "\n",
            "########## Validate ##########\n",
            "Epoca: 43\t Val Loss: 0.001207, Time: 1.91\n",
            "\n",
            "########## Train ##########\n",
            "Epoca: 44\t Train Loss: 0.000626, Time: 19.34\n",
            "\n",
            "########## Validate ##########\n",
            "Epoca: 44\t Val Loss: 0.001209, Time: 1.92\n",
            "\n",
            "########## Train ##########\n",
            "Epoca: 45\t Train Loss: 0.000622, Time: 22.41\n",
            "\n",
            "########## Validate ##########\n",
            "Epoca: 45\t Val Loss: 0.001220, Time: 1.95\n",
            "\n",
            "########## Train ##########\n",
            "Epoca: 46\t Train Loss: 0.000614, Time: 19.41\n",
            "\n",
            "########## Validate ##########\n",
            "Epoca: 46\t Val Loss: 0.001190, Time: 1.92\n",
            "\n",
            "########## Train ##########\n",
            "Epoca: 47\t Train Loss: 0.000608, Time: 19.43\n",
            "\n",
            "########## Validate ##########\n",
            "Epoca: 47\t Val Loss: 0.001192, Time: 1.91\n",
            "\n",
            "########## Train ##########\n",
            "Epoca: 48\t Train Loss: 0.000609, Time: 19.34\n",
            "\n",
            "########## Validate ##########\n",
            "Epoca: 48\t Val Loss: 0.001172, Time: 1.90\n",
            "\n",
            "########## Train ##########\n",
            "Epoca: 49\t Train Loss: 0.000603, Time: 19.30\n",
            "\n",
            "########## Validate ##########\n",
            "Epoca: 49\t Val Loss: 0.001177, Time: 1.90\n",
            "\n",
            "########## Train ##########\n",
            "Epoca: 50\t Train Loss: 0.000597, Time: 22.52\n",
            "\n",
            "########## Validate ##########\n",
            "Epoca: 50\t Val Loss: 0.001170, Time: 1.97\n",
            "\n",
            "########## Train ##########\n",
            "Epoca: 51\t Train Loss: 0.000597, Time: 19.49\n",
            "\n",
            "########## Validate ##########\n",
            "Epoca: 51\t Val Loss: 0.001152, Time: 1.92\n",
            "\n",
            "########## Train ##########\n",
            "Epoca: 52\t Train Loss: 0.000592, Time: 19.46\n",
            "\n",
            "########## Validate ##########\n",
            "Epoca: 52\t Val Loss: 0.001159, Time: 1.92\n",
            "\n",
            "########## Train ##########\n",
            "Epoca: 53\t Train Loss: 0.000583, Time: 19.32\n",
            "\n",
            "########## Validate ##########\n",
            "Epoca: 53\t Val Loss: 0.001156, Time: 1.92\n",
            "\n",
            "########## Train ##########\n",
            "Epoca: 54\t Train Loss: 0.000582, Time: 19.34\n",
            "\n",
            "########## Validate ##########\n",
            "Epoca: 54\t Val Loss: 0.001159, Time: 1.92\n",
            "\n",
            "########## Train ##########\n",
            "Epoca: 55\t Train Loss: 0.000577, Time: 23.30\n",
            "\n",
            "########## Validate ##########\n",
            "Epoca: 55\t Val Loss: 0.001138, Time: 1.95\n",
            "\n",
            "########## Train ##########\n",
            "Epoca: 56\t Train Loss: 0.000578, Time: 19.45\n",
            "\n",
            "########## Validate ##########\n",
            "Epoca: 56\t Val Loss: 0.001155, Time: 1.92\n",
            "\n",
            "########## Train ##########\n",
            "Epoca: 57\t Train Loss: 0.000568, Time: 19.54\n",
            "\n",
            "########## Validate ##########\n",
            "Epoca: 57\t Val Loss: 0.001141, Time: 1.91\n",
            "\n",
            "########## Train ##########\n",
            "Epoca: 58\t Train Loss: 0.000567, Time: 19.35\n",
            "\n",
            "########## Validate ##########\n",
            "Epoca: 58\t Val Loss: 0.001148, Time: 1.90\n",
            "\n",
            "########## Train ##########\n",
            "Epoca: 59\t Train Loss: 0.000567, Time: 19.32\n",
            "\n",
            "########## Validate ##########\n",
            "Epoca: 59\t Val Loss: 0.001134, Time: 1.92\n",
            "\n",
            "########## Train ##########\n",
            "Epoca: 60\t Train Loss: 0.000559, Time: 22.31\n",
            "\n",
            "########## Validate ##########\n",
            "Epoca: 60\t Val Loss: 0.001123, Time: 1.93\n",
            "\n",
            "########## Train ##########\n",
            "Epoca: 61\t Train Loss: 0.000555, Time: 19.44\n",
            "\n",
            "########## Validate ##########\n",
            "Epoca: 61\t Val Loss: 0.001138, Time: 1.92\n",
            "\n",
            "########## Train ##########\n",
            "Epoca: 62\t Train Loss: 0.000557, Time: 19.50\n",
            "\n",
            "########## Validate ##########\n",
            "Epoca: 62\t Val Loss: 0.001138, Time: 1.91\n",
            "\n",
            "########## Train ##########\n",
            "Epoca: 63\t Train Loss: 0.000553, Time: 19.34\n",
            "\n",
            "########## Validate ##########\n",
            "Epoca: 63\t Val Loss: 0.001117, Time: 1.91\n",
            "\n",
            "########## Train ##########\n",
            "Epoca: 64\t Train Loss: 0.000547, Time: 19.33\n",
            "\n",
            "########## Validate ##########\n",
            "Epoca: 64\t Val Loss: 0.001121, Time: 1.91\n",
            "\n",
            "########## Train ##########\n",
            "Epoca: 65\t Train Loss: 0.000546, Time: 22.17\n",
            "\n",
            "########## Validate ##########\n",
            "Epoca: 65\t Val Loss: 0.001106, Time: 1.97\n",
            "\n",
            "########## Train ##########\n",
            "Epoca: 66\t Train Loss: 0.000540, Time: 19.44\n",
            "\n",
            "########## Validate ##########\n",
            "Epoca: 66\t Val Loss: 0.001111, Time: 1.92\n",
            "\n",
            "########## Train ##########\n",
            "Epoca: 67\t Train Loss: 0.000541, Time: 19.46\n",
            "\n",
            "########## Validate ##########\n",
            "Epoca: 67\t Val Loss: 0.001130, Time: 1.91\n",
            "\n",
            "########## Train ##########\n",
            "Epoca: 68\t Train Loss: 0.000536, Time: 19.33\n",
            "\n",
            "########## Validate ##########\n",
            "Epoca: 68\t Val Loss: 0.001098, Time: 1.90\n",
            "\n",
            "########## Train ##########\n",
            "Epoca: 69\t Train Loss: 0.000532, Time: 19.32\n",
            "\n",
            "########## Validate ##########\n",
            "Epoca: 69\t Val Loss: 0.001156, Time: 1.92\n",
            "\n",
            "########## Train ##########\n",
            "Epoca: 70\t Train Loss: 0.000527, Time: 22.15\n",
            "\n",
            "########## Validate ##########\n",
            "Epoca: 70\t Val Loss: 0.001107, Time: 1.96\n",
            "\n",
            "########## Train ##########\n",
            "Epoca: 71\t Train Loss: 0.000529, Time: 19.45\n",
            "\n",
            "########## Validate ##########\n",
            "Epoca: 71\t Val Loss: 0.001105, Time: 1.92\n",
            "\n",
            "########## Train ##########\n",
            "Epoca: 72\t Train Loss: 0.000532, Time: 19.49\n",
            "\n",
            "########## Validate ##########\n",
            "Epoca: 72\t Val Loss: 0.001082, Time: 1.91\n",
            "\n",
            "########## Train ##########\n",
            "Epoca: 73\t Train Loss: 0.000520, Time: 19.34\n",
            "\n",
            "########## Validate ##########\n",
            "Epoca: 73\t Val Loss: 0.001125, Time: 1.91\n",
            "\n",
            "########## Train ##########\n",
            "Epoca: 74\t Train Loss: 0.000518, Time: 19.36\n",
            "\n",
            "########## Validate ##########\n",
            "Epoca: 74\t Val Loss: 0.001082, Time: 1.92\n",
            "\n",
            "########## Train ##########\n",
            "Epoca: 75\t Train Loss: 0.000519, Time: 24.15\n",
            "\n",
            "########## Validate ##########\n",
            "Epoca: 75\t Val Loss: 0.001084, Time: 1.95\n",
            "\n",
            "########## Train ##########\n",
            "Epoca: 76\t Train Loss: 0.000514, Time: 19.46\n",
            "\n",
            "########## Validate ##########\n",
            "Epoca: 76\t Val Loss: 0.001082, Time: 1.92\n",
            "\n",
            "########## Train ##########\n",
            "Epoca: 77\t Train Loss: 0.000509, Time: 19.52\n",
            "\n",
            "########## Validate ##########\n",
            "Epoca: 77\t Val Loss: 0.001072, Time: 1.92\n",
            "\n",
            "########## Train ##########\n",
            "Epoca: 78\t Train Loss: 0.000510, Time: 19.32\n",
            "\n",
            "########## Validate ##########\n",
            "Epoca: 78\t Val Loss: 0.001077, Time: 1.91\n",
            "\n",
            "########## Train ##########\n",
            "Epoca: 79\t Train Loss: 0.000509, Time: 19.29\n",
            "\n",
            "########## Validate ##########\n",
            "Epoca: 79\t Val Loss: 0.001081, Time: 1.91\n",
            "\n",
            "########## Train ##########\n",
            "Epoca: 80\t Train Loss: 0.000505, Time: 22.33\n",
            "\n",
            "########## Validate ##########\n",
            "Epoca: 80\t Val Loss: 0.001135, Time: 1.95\n",
            "\n",
            "########## Train ##########\n",
            "Epoca: 81\t Train Loss: 0.000502, Time: 19.38\n",
            "\n",
            "########## Validate ##########\n",
            "Epoca: 81\t Val Loss: 0.001071, Time: 1.92\n",
            "\n",
            "########## Train ##########\n",
            "Epoca: 82\t Train Loss: 0.000512, Time: 19.46\n",
            "\n",
            "########## Validate ##########\n",
            "Epoca: 82\t Val Loss: 0.001074, Time: 1.91\n",
            "\n",
            "########## Train ##########\n",
            "Epoca: 83\t Train Loss: 0.000495, Time: 19.33\n",
            "\n",
            "########## Validate ##########\n",
            "Epoca: 83\t Val Loss: 0.001059, Time: 1.90\n",
            "\n",
            "########## Train ##########\n",
            "Epoca: 84\t Train Loss: 0.000493, Time: 19.34\n",
            "\n",
            "########## Validate ##########\n",
            "Epoca: 84\t Val Loss: 0.001074, Time: 1.91\n",
            "\n",
            "########## Train ##########\n",
            "Epoca: 85\t Train Loss: 0.000493, Time: 22.34\n",
            "\n",
            "########## Validate ##########\n",
            "Epoca: 85\t Val Loss: 0.001079, Time: 1.94\n",
            "\n",
            "########## Train ##########\n",
            "Epoca: 86\t Train Loss: 0.000490, Time: 19.42\n",
            "\n",
            "########## Validate ##########\n",
            "Epoca: 86\t Val Loss: 0.001087, Time: 1.92\n",
            "\n",
            "########## Train ##########\n",
            "Epoca: 87\t Train Loss: 0.000490, Time: 19.47\n",
            "\n",
            "########## Validate ##########\n",
            "Epoca: 87\t Val Loss: 0.001058, Time: 1.91\n",
            "\n",
            "########## Train ##########\n",
            "Epoca: 88\t Train Loss: 0.000485, Time: 19.30\n",
            "\n",
            "########## Validate ##########\n",
            "Epoca: 88\t Val Loss: 0.001093, Time: 1.92\n",
            "\n",
            "########## Train ##########\n",
            "Epoca: 89\t Train Loss: 0.000485, Time: 19.30\n",
            "\n",
            "########## Validate ##########\n",
            "Epoca: 89\t Val Loss: 0.001050, Time: 1.91\n",
            "\n",
            "########## Train ##########\n",
            "Epoca: 90\t Train Loss: 0.000483, Time: 22.66\n",
            "\n",
            "########## Validate ##########\n",
            "Epoca: 90\t Val Loss: 0.001072, Time: 1.93\n",
            "\n",
            "########## Train ##########\n",
            "Epoca: 91\t Train Loss: 0.000482, Time: 19.49\n",
            "\n",
            "########## Validate ##########\n",
            "Epoca: 91\t Val Loss: 0.001058, Time: 1.93\n",
            "\n",
            "########## Train ##########\n",
            "Epoca: 92\t Train Loss: 0.000477, Time: 19.47\n",
            "\n",
            "########## Validate ##########\n",
            "Epoca: 92\t Val Loss: 0.001063, Time: 1.92\n",
            "\n",
            "########## Train ##########\n",
            "Epoca: 93\t Train Loss: 0.000476, Time: 19.32\n",
            "\n",
            "########## Validate ##########\n",
            "Epoca: 93\t Val Loss: 0.001046, Time: 1.90\n",
            "\n",
            "########## Train ##########\n",
            "Epoca: 94\t Train Loss: 0.000473, Time: 19.32\n",
            "\n",
            "########## Validate ##########\n",
            "Epoca: 94\t Val Loss: 0.001076, Time: 1.91\n",
            "\n",
            "########## Train ##########\n",
            "Epoca: 95\t Train Loss: 0.000474, Time: 22.33\n",
            "\n",
            "########## Validate ##########\n",
            "Epoca: 95\t Val Loss: 0.001038, Time: 1.97\n",
            "\n",
            "########## Train ##########\n",
            "Epoca: 96\t Train Loss: 0.000471, Time: 19.43\n",
            "\n",
            "########## Validate ##########\n",
            "Epoca: 96\t Val Loss: 0.001126, Time: 1.92\n",
            "\n",
            "########## Train ##########\n",
            "Epoca: 97\t Train Loss: 0.000469, Time: 19.46\n",
            "\n",
            "########## Validate ##########\n",
            "Epoca: 97\t Val Loss: 0.001036, Time: 1.91\n",
            "\n",
            "########## Train ##########\n",
            "Epoca: 98\t Train Loss: 0.000474, Time: 19.34\n",
            "\n",
            "########## Validate ##########\n",
            "Epoca: 98\t Val Loss: 0.001023, Time: 1.91\n",
            "\n",
            "########## Train ##########\n",
            "Epoca: 99\t Train Loss: 0.000460, Time: 19.34\n",
            "\n",
            "########## Validate ##########\n",
            "Epoca: 99\t Val Loss: 0.001042, Time: 2.22\n",
            "\n"
          ]
        }
      ],
      "source": [
        "train_losses, val_losses = [], []\n",
        "val_predicts = []\n",
        "\n",
        "i = 1\n",
        "for epoch in range(args['epoch']):\n",
        "  #Train\n",
        "  train_loss = train(train_loader, model, epoch, 'train')\n",
        "  train_losses.append(train_loss)\n",
        "\n",
        "  val_loss = validate(test_loader, model, epoch, 'test')\n",
        "  val_losses.append(val_loss)\n",
        "  #val_predicts.append(predicts)"
      ]
    },
    {
      "cell_type": "markdown",
      "metadata": {
        "id": "xSLDlucDFZ5M"
      },
      "source": [
        "## Teste"
      ]
    },
    {
      "cell_type": "code",
      "source": [
        "train_set = None\n",
        "test_set = None"
      ],
      "metadata": {
        "id": "xitvNSirDKDN"
      },
      "execution_count": 14,
      "outputs": []
    },
    {
      "cell_type": "code",
      "source": [
        "'''isolation_forest = IsolationForest()\n",
        "\n",
        "isolation_forest.fit( np.reshape(train_set, (train_set.shape[0],train_set.shape[1]*train_set.shape[2])) )\n",
        "\n",
        "inlier_pred_test = isolation_forest.predict(np.reshape(train_set, (train_set.shape[0],train_set.shape[1]*train_set.shape[2])))\n",
        "outlier_pred = isolation_forest.predict(np.reshape(test_set, (test_set.shape[0],test_set.shape[1]*test_set.shape[2])))\n",
        "\n",
        "print(\"Accuracy in Detecting Legit Cases:\", list(inlier_pred_test).count(1)/inlier_pred_test.shape[0])\n",
        "print(\"Accuracy in Detecting Fraud Cases:\", list(outlier_pred).count(-1)/outlier_pred.shape[0])'''"
      ],
      "metadata": {
        "colab": {
          "base_uri": "https://localhost:8080/",
          "height": 70
        },
        "id": "UlaNLGUv-mJi",
        "outputId": "56f15ae0-2ba4-4d75-8133-11ae389f0699"
      },
      "execution_count": 15,
      "outputs": [
        {
          "output_type": "execute_result",
          "data": {
            "text/plain": [
              "'isolation_forest = IsolationForest()\\n\\nisolation_forest.fit( np.reshape(train_set, (train_set.shape[0],train_set.shape[1]*train_set.shape[2])) )\\n\\ninlier_pred_test = isolation_forest.predict(np.reshape(train_set, (train_set.shape[0],train_set.shape[1]*train_set.shape[2])))\\noutlier_pred = isolation_forest.predict(np.reshape(test_set, (test_set.shape[0],test_set.shape[1]*test_set.shape[2])))\\n\\nprint(\"Accuracy in Detecting Legit Cases:\", list(inlier_pred_test).count(1)/inlier_pred_test.shape[0])\\nprint(\"Accuracy in Detecting Fraud Cases:\", list(outlier_pred).count(-1)/outlier_pred.shape[0])'"
            ],
            "application/vnd.google.colaboratory.intrinsic+json": {
              "type": "string"
            }
          },
          "metadata": {},
          "execution_count": 15
        }
      ]
    },
    {
      "cell_type": "code",
      "source": [
        "model.eval()\n",
        "\n",
        "tns = []\n",
        "\n",
        "for imagem in train_loader:\n",
        "  imagem = imagem.unsqueeze(1).float()\n",
        "  imagem = imagem.to(args['device'])\n",
        "\n",
        "  # forward pass\n",
        "  output = model(imagem)\n",
        "\n",
        "  # calculando loss\n",
        "  loss = criterio(output, imagem)\n",
        "\n",
        "  for img in output:\n",
        "    tns.append(img.squeeze().cpu().data.numpy())\n",
        "\n",
        "\n",
        "print(\"Loss: \",loss.item())"
      ],
      "metadata": {
        "id": "69aXv3N6FpBx",
        "colab": {
          "base_uri": "https://localhost:8080/"
        },
        "outputId": "74bd6c12-dd71-403a-d010-e2d4678fbbf6"
      },
      "execution_count": 25,
      "outputs": [
        {
          "output_type": "stream",
          "name": "stdout",
          "text": [
            "Loss:  0.0004189846513327211\n"
          ]
        }
      ]
    },
    {
      "cell_type": "code",
      "source": [
        "isolation_forest = IsolationForest()\n",
        "\n",
        "inlier_dataset = np.array(tns)\n",
        "\n",
        "inlier_dataset = np.reshape(inlier_dataset, (inlier_dataset.shape[0],inlier_dataset.shape[1]*inlier_dataset.shape[2]))\n",
        "\n",
        "isolation_forest.fit(inlier_dataset)"
      ],
      "metadata": {
        "colab": {
          "base_uri": "https://localhost:8080/"
        },
        "id": "UqozyBhV9p68",
        "outputId": "6cc9d0b0-a756-45cf-90ed-fc9235cc168e"
      },
      "execution_count": 26,
      "outputs": [
        {
          "output_type": "execute_result",
          "data": {
            "text/plain": [
              "IsolationForest()"
            ]
          },
          "metadata": {},
          "execution_count": 26
        }
      ]
    },
    {
      "cell_type": "code",
      "execution_count": 27,
      "metadata": {
        "id": "3CAobTgLFe3e"
      },
      "outputs": [],
      "source": [
        "model.eval()\n",
        "\n",
        "tns = []\n",
        "\n",
        "test_loss = 0.0\n",
        "with torch.no_grad():\n",
        "  for imagem in test_loader:\n",
        "    imagem = imagem.unsqueeze(1).float()\n",
        "    imagem = imagem.to(args['device'])\n",
        "\n",
        "    # forward pass\n",
        "    output = model(imagem)\n",
        "\n",
        "    for img in output:\n",
        "      tns.append(img.squeeze().cpu().data.numpy())\n"
      ]
    },
    {
      "cell_type": "code",
      "source": [
        "inlier_dataset.shape"
      ],
      "metadata": {
        "colab": {
          "base_uri": "https://localhost:8080/"
        },
        "id": "u2Lg65-ZrvrR",
        "outputId": "0791b881-aaad-45c2-d6d7-94cea3ddcccc"
      },
      "execution_count": 28,
      "outputs": [
        {
          "output_type": "execute_result",
          "data": {
            "text/plain": [
              "(8000, 25600)"
            ]
          },
          "metadata": {},
          "execution_count": 28
        }
      ]
    },
    {
      "cell_type": "code",
      "source": [
        "outlier_dataset = np.array(tns)\n",
        "\n",
        "inlier_pred_test = isolation_forest.predict(inlier_dataset)\n",
        "outlier_pred = isolation_forest.predict(np.reshape(outlier_dataset, (outlier_dataset.shape[0],outlier_dataset.shape[1]*outlier_dataset.shape[2])))\n",
        "\n",
        "print(\"Accuracy in Detecting Legit Cases:\", list(inlier_pred_test).count(1)/inlier_pred_test.shape[0])\n",
        "print(\"Accuracy in Detecting Fraud Cases:\", list(outlier_pred).count(-1)/outlier_pred.shape[0])"
      ],
      "metadata": {
        "id": "Asro62YLD0QB",
        "colab": {
          "base_uri": "https://localhost:8080/"
        },
        "outputId": "87e78745-74bd-4ae5-c9a0-e06c2aca663e"
      },
      "execution_count": 29,
      "outputs": [
        {
          "output_type": "stream",
          "name": "stdout",
          "text": [
            "Accuracy in Detecting Legit Cases: 0.907625\n",
            "Accuracy in Detecting Fraud Cases: 0.8705\n"
          ]
        }
      ]
    },
    {
      "cell_type": "markdown",
      "metadata": {
        "id": "0rXPlSNFijQU"
      },
      "source": [
        "## Plot Treino x Teste"
      ]
    },
    {
      "cell_type": "code",
      "execution_count": 30,
      "metadata": {
        "id": "nUMrkYR5iiqC",
        "colab": {
          "base_uri": "https://localhost:8080/",
          "height": 296
        },
        "outputId": "9f77d72a-f9cd-42ce-eabe-695a5f04adda"
      },
      "outputs": [
        {
          "output_type": "execute_result",
          "data": {
            "text/plain": [
              "Text(0.5, 0, 'Epochs')"
            ]
          },
          "metadata": {},
          "execution_count": 30
        },
        {
          "output_type": "display_data",
          "data": {
            "text/plain": [
              "<Figure size 432x288 with 1 Axes>"
            ],
            "image/png": "[encoded data removed]"
          },
          "metadata": {
            "needs_background": "light"
          }
        }
      ],
      "source": [
        " plt.plot(train_losses, label='Train')\n",
        " plt.plot(val_losses, label='Test')\n",
        " plt.legend(loc=\"upper right\")\n",
        " plt.ylabel('Loss')\n",
        " plt.xlabel('Epochs')"
      ]
    },
    {
      "cell_type": "markdown",
      "metadata": {
        "id": "AHoIUvBmirI9"
      },
      "source": [
        "## Plot da Imagem Original(normalizada) x Imagem Reconstruída via AutoEncoder Convolucional"
      ]
    },
    {
      "cell_type": "code",
      "execution_count": 34,
      "metadata": {
        "id": "CNOb9zHIiohP",
        "colab": {
          "base_uri": "https://localhost:8080/",
          "height": 1000
        },
        "outputId": "b669576b-f334-4f44-dcbb-b602492195ab"
      },
      "outputs": [
        {
          "output_type": "stream",
          "name": "stdout",
          "text": [
            "Error in callback <function install_repl_displayhook.<locals>.post_execute at 0x7f503cc8f8c0> (for post_execute):\n"
          ]
        },
        {
          "output_type": "error",
          "ename": "ValueError",
          "evalue": "ignored",
          "traceback": [
            "\u001b[0;31m---------------------------------------------------------------------------\u001b[0m",
            "\u001b[0;31mValueError\u001b[0m                                Traceback (most recent call last)",
            "\u001b[0;32m/usr/local/lib/python3.7/dist-packages/matplotlib/pyplot.py\u001b[0m in \u001b[0;36mpost_execute\u001b[0;34m()\u001b[0m\n\u001b[1;32m    107\u001b[0m             \u001b[0;32mdef\u001b[0m \u001b[0mpost_execute\u001b[0m\u001b[0;34m(\u001b[0m\u001b[0;34m)\u001b[0m\u001b[0;34m:\u001b[0m\u001b[0;34m\u001b[0m\u001b[0;34m\u001b[0m\u001b[0m\n\u001b[1;32m    108\u001b[0m                 \u001b[0;32mif\u001b[0m \u001b[0mmatplotlib\u001b[0m\u001b[0;34m.\u001b[0m\u001b[0mis_interactive\u001b[0m\u001b[0;34m(\u001b[0m\u001b[0;34m)\u001b[0m\u001b[0;34m:\u001b[0m\u001b[0;34m\u001b[0m\u001b[0;34m\u001b[0m\u001b[0m\n\u001b[0;32m--> 109\u001b[0;31m                     \u001b[0mdraw_all\u001b[0m\u001b[0;34m(\u001b[0m\u001b[0;34m)\u001b[0m\u001b[0;34m\u001b[0m\u001b[0;34m\u001b[0m\u001b[0m\n\u001b[0m\u001b[1;32m    110\u001b[0m \u001b[0;34m\u001b[0m\u001b[0m\n\u001b[1;32m    111\u001b[0m             \u001b[0;31m# IPython >= 2\u001b[0m\u001b[0;34m\u001b[0m\u001b[0;34m\u001b[0m\u001b[0;34m\u001b[0m\u001b[0m\n",
            "\u001b[0;32m/usr/local/lib/python3.7/dist-packages/matplotlib/_pylab_helpers.py\u001b[0m in \u001b[0;36mdraw_all\u001b[0;34m(cls, force)\u001b[0m\n\u001b[1;32m    125\u001b[0m         \u001b[0;32mfor\u001b[0m \u001b[0mf_mgr\u001b[0m \u001b[0;32min\u001b[0m \u001b[0mcls\u001b[0m\u001b[0;34m.\u001b[0m\u001b[0mget_all_fig_managers\u001b[0m\u001b[0;34m(\u001b[0m\u001b[0;34m)\u001b[0m\u001b[0;34m:\u001b[0m\u001b[0;34m\u001b[0m\u001b[0;34m\u001b[0m\u001b[0m\n\u001b[1;32m    126\u001b[0m             \u001b[0;32mif\u001b[0m \u001b[0mforce\u001b[0m \u001b[0;32mor\u001b[0m \u001b[0mf_mgr\u001b[0m\u001b[0;34m.\u001b[0m\u001b[0mcanvas\u001b[0m\u001b[0;34m.\u001b[0m\u001b[0mfigure\u001b[0m\u001b[0;34m.\u001b[0m\u001b[0mstale\u001b[0m\u001b[0;34m:\u001b[0m\u001b[0;34m\u001b[0m\u001b[0;34m\u001b[0m\u001b[0m\n\u001b[0;32m--> 127\u001b[0;31m                 \u001b[0mf_mgr\u001b[0m\u001b[0;34m.\u001b[0m\u001b[0mcanvas\u001b[0m\u001b[0;34m.\u001b[0m\u001b[0mdraw_idle\u001b[0m\u001b[0;34m(\u001b[0m\u001b[0;34m)\u001b[0m\u001b[0;34m\u001b[0m\u001b[0;34m\u001b[0m\u001b[0m\n\u001b[0m\u001b[1;32m    128\u001b[0m \u001b[0;34m\u001b[0m\u001b[0m\n\u001b[1;32m    129\u001b[0m \u001b[0matexit\u001b[0m\u001b[0;34m.\u001b[0m\u001b[0mregister\u001b[0m\u001b[0;34m(\u001b[0m\u001b[0mGcf\u001b[0m\u001b[0;34m.\u001b[0m\u001b[0mdestroy_all\u001b[0m\u001b[0;34m)\u001b[0m\u001b[0;34m\u001b[0m\u001b[0;34m\u001b[0m\u001b[0m\n",
            "\u001b[0;32m/usr/local/lib/python3.7/dist-packages/matplotlib/backend_bases.py\u001b[0m in \u001b[0;36mdraw_idle\u001b[0;34m(self, *args, **kwargs)\u001b[0m\n\u001b[1;32m   1945\u001b[0m         \u001b[0;32mif\u001b[0m \u001b[0;32mnot\u001b[0m \u001b[0mself\u001b[0m\u001b[0;34m.\u001b[0m\u001b[0m_is_idle_drawing\u001b[0m\u001b[0;34m:\u001b[0m\u001b[0;34m\u001b[0m\u001b[0;34m\u001b[0m\u001b[0m\n\u001b[1;32m   1946\u001b[0m             \u001b[0;32mwith\u001b[0m \u001b[0mself\u001b[0m\u001b[0;34m.\u001b[0m\u001b[0m_idle_draw_cntx\u001b[0m\u001b[0;34m(\u001b[0m\u001b[0;34m)\u001b[0m\u001b[0;34m:\u001b[0m\u001b[0;34m\u001b[0m\u001b[0;34m\u001b[0m\u001b[0m\n\u001b[0;32m-> 1947\u001b[0;31m                 \u001b[0mself\u001b[0m\u001b[0;34m.\u001b[0m\u001b[0mdraw\u001b[0m\u001b[0;34m(\u001b[0m\u001b[0;34m*\u001b[0m\u001b[0margs\u001b[0m\u001b[0;34m,\u001b[0m \u001b[0;34m**\u001b[0m\u001b[0mkwargs\u001b[0m\u001b[0;34m)\u001b[0m\u001b[0;34m\u001b[0m\u001b[0;34m\u001b[0m\u001b[0m\n\u001b[0m\u001b[1;32m   1948\u001b[0m \u001b[0;34m\u001b[0m\u001b[0m\n\u001b[1;32m   1949\u001b[0m     \u001b[0;34m@\u001b[0m\u001b[0mcbook\u001b[0m\u001b[0;34m.\u001b[0m\u001b[0mdeprecated\u001b[0m\u001b[0;34m(\u001b[0m\u001b[0;34m\"3.2\"\u001b[0m\u001b[0;34m)\u001b[0m\u001b[0;34m\u001b[0m\u001b[0;34m\u001b[0m\u001b[0m\n",
            "\u001b[0;32m/usr/local/lib/python3.7/dist-packages/matplotlib/backends/backend_agg.py\u001b[0m in \u001b[0;36mdraw\u001b[0;34m(self)\u001b[0m\n\u001b[1;32m    391\u001b[0m              (self.toolbar._wait_cursor_for_draw_cm() if self.toolbar\n\u001b[1;32m    392\u001b[0m               else nullcontext()):\n\u001b[0;32m--> 393\u001b[0;31m             \u001b[0mself\u001b[0m\u001b[0;34m.\u001b[0m\u001b[0mfigure\u001b[0m\u001b[0;34m.\u001b[0m\u001b[0mdraw\u001b[0m\u001b[0;34m(\u001b[0m\u001b[0mself\u001b[0m\u001b[0;34m.\u001b[0m\u001b[0mrenderer\u001b[0m\u001b[0;34m)\u001b[0m\u001b[0;34m\u001b[0m\u001b[0;34m\u001b[0m\u001b[0m\n\u001b[0m\u001b[1;32m    394\u001b[0m             \u001b[0;31m# A GUI class may be need to update a window using this draw, so\u001b[0m\u001b[0;34m\u001b[0m\u001b[0;34m\u001b[0m\u001b[0;34m\u001b[0m\u001b[0m\n\u001b[1;32m    395\u001b[0m             \u001b[0;31m# don't forget to call the superclass.\u001b[0m\u001b[0;34m\u001b[0m\u001b[0;34m\u001b[0m\u001b[0;34m\u001b[0m\u001b[0m\n",
            "\u001b[0;32m/usr/local/lib/python3.7/dist-packages/matplotlib/artist.py\u001b[0m in \u001b[0;36mdraw_wrapper\u001b[0;34m(artist, renderer, *args, **kwargs)\u001b[0m\n\u001b[1;32m     36\u001b[0m                 \u001b[0mrenderer\u001b[0m\u001b[0;34m.\u001b[0m\u001b[0mstart_filter\u001b[0m\u001b[0;34m(\u001b[0m\u001b[0;34m)\u001b[0m\u001b[0;34m\u001b[0m\u001b[0;34m\u001b[0m\u001b[0m\n\u001b[1;32m     37\u001b[0m \u001b[0;34m\u001b[0m\u001b[0m\n\u001b[0;32m---> 38\u001b[0;31m             \u001b[0;32mreturn\u001b[0m \u001b[0mdraw\u001b[0m\u001b[0;34m(\u001b[0m\u001b[0martist\u001b[0m\u001b[0;34m,\u001b[0m \u001b[0mrenderer\u001b[0m\u001b[0;34m,\u001b[0m \u001b[0;34m*\u001b[0m\u001b[0margs\u001b[0m\u001b[0;34m,\u001b[0m \u001b[0;34m**\u001b[0m\u001b[0mkwargs\u001b[0m\u001b[0;34m)\u001b[0m\u001b[0;34m\u001b[0m\u001b[0;34m\u001b[0m\u001b[0m\n\u001b[0m\u001b[1;32m     39\u001b[0m         \u001b[0;32mfinally\u001b[0m\u001b[0;34m:\u001b[0m\u001b[0;34m\u001b[0m\u001b[0;34m\u001b[0m\u001b[0m\n\u001b[1;32m     40\u001b[0m             \u001b[0;32mif\u001b[0m \u001b[0martist\u001b[0m\u001b[0;34m.\u001b[0m\u001b[0mget_agg_filter\u001b[0m\u001b[0;34m(\u001b[0m\u001b[0;34m)\u001b[0m \u001b[0;32mis\u001b[0m \u001b[0;32mnot\u001b[0m \u001b[0;32mNone\u001b[0m\u001b[0;34m:\u001b[0m\u001b[0;34m\u001b[0m\u001b[0;34m\u001b[0m\u001b[0m\n",
            "\u001b[0;32m/usr/local/lib/python3.7/dist-packages/matplotlib/figure.py\u001b[0m in \u001b[0;36mdraw\u001b[0;34m(self, renderer)\u001b[0m\n\u001b[1;32m   1734\u001b[0m             \u001b[0mself\u001b[0m\u001b[0;34m.\u001b[0m\u001b[0mpatch\u001b[0m\u001b[0;34m.\u001b[0m\u001b[0mdraw\u001b[0m\u001b[0;34m(\u001b[0m\u001b[0mrenderer\u001b[0m\u001b[0;34m)\u001b[0m\u001b[0;34m\u001b[0m\u001b[0;34m\u001b[0m\u001b[0m\n\u001b[1;32m   1735\u001b[0m             mimage._draw_list_compositing_images(\n\u001b[0;32m-> 1736\u001b[0;31m                 renderer, self, artists, self.suppressComposite)\n\u001b[0m\u001b[1;32m   1737\u001b[0m \u001b[0;34m\u001b[0m\u001b[0m\n\u001b[1;32m   1738\u001b[0m             \u001b[0mrenderer\u001b[0m\u001b[0;34m.\u001b[0m\u001b[0mclose_group\u001b[0m\u001b[0;34m(\u001b[0m\u001b[0;34m'figure'\u001b[0m\u001b[0;34m)\u001b[0m\u001b[0;34m\u001b[0m\u001b[0;34m\u001b[0m\u001b[0m\n",
            "\u001b[0;32m/usr/local/lib/python3.7/dist-packages/matplotlib/image.py\u001b[0m in \u001b[0;36m_draw_list_compositing_images\u001b[0;34m(renderer, parent, artists, suppress_composite)\u001b[0m\n\u001b[1;32m    135\u001b[0m     \u001b[0;32mif\u001b[0m \u001b[0mnot_composite\u001b[0m \u001b[0;32mor\u001b[0m \u001b[0;32mnot\u001b[0m \u001b[0mhas_images\u001b[0m\u001b[0;34m:\u001b[0m\u001b[0;34m\u001b[0m\u001b[0;34m\u001b[0m\u001b[0m\n\u001b[1;32m    136\u001b[0m         \u001b[0;32mfor\u001b[0m \u001b[0ma\u001b[0m \u001b[0;32min\u001b[0m \u001b[0martists\u001b[0m\u001b[0;34m:\u001b[0m\u001b[0;34m\u001b[0m\u001b[0;34m\u001b[0m\u001b[0m\n\u001b[0;32m--> 137\u001b[0;31m             \u001b[0ma\u001b[0m\u001b[0;34m.\u001b[0m\u001b[0mdraw\u001b[0m\u001b[0;34m(\u001b[0m\u001b[0mrenderer\u001b[0m\u001b[0;34m)\u001b[0m\u001b[0;34m\u001b[0m\u001b[0;34m\u001b[0m\u001b[0m\n\u001b[0m\u001b[1;32m    138\u001b[0m     \u001b[0;32melse\u001b[0m\u001b[0;34m:\u001b[0m\u001b[0;34m\u001b[0m\u001b[0;34m\u001b[0m\u001b[0m\n\u001b[1;32m    139\u001b[0m         \u001b[0;31m# Composite any adjacent images together\u001b[0m\u001b[0;34m\u001b[0m\u001b[0;34m\u001b[0m\u001b[0;34m\u001b[0m\u001b[0m\n",
            "\u001b[0;32m/usr/local/lib/python3.7/dist-packages/matplotlib/artist.py\u001b[0m in \u001b[0;36mdraw_wrapper\u001b[0;34m(artist, renderer, *args, **kwargs)\u001b[0m\n\u001b[1;32m     36\u001b[0m                 \u001b[0mrenderer\u001b[0m\u001b[0;34m.\u001b[0m\u001b[0mstart_filter\u001b[0m\u001b[0;34m(\u001b[0m\u001b[0;34m)\u001b[0m\u001b[0;34m\u001b[0m\u001b[0;34m\u001b[0m\u001b[0m\n\u001b[1;32m     37\u001b[0m \u001b[0;34m\u001b[0m\u001b[0m\n\u001b[0;32m---> 38\u001b[0;31m             \u001b[0;32mreturn\u001b[0m \u001b[0mdraw\u001b[0m\u001b[0;34m(\u001b[0m\u001b[0martist\u001b[0m\u001b[0;34m,\u001b[0m \u001b[0mrenderer\u001b[0m\u001b[0;34m,\u001b[0m \u001b[0;34m*\u001b[0m\u001b[0margs\u001b[0m\u001b[0;34m,\u001b[0m \u001b[0;34m**\u001b[0m\u001b[0mkwargs\u001b[0m\u001b[0;34m)\u001b[0m\u001b[0;34m\u001b[0m\u001b[0;34m\u001b[0m\u001b[0m\n\u001b[0m\u001b[1;32m     39\u001b[0m         \u001b[0;32mfinally\u001b[0m\u001b[0;34m:\u001b[0m\u001b[0;34m\u001b[0m\u001b[0;34m\u001b[0m\u001b[0m\n\u001b[1;32m     40\u001b[0m             \u001b[0;32mif\u001b[0m \u001b[0martist\u001b[0m\u001b[0;34m.\u001b[0m\u001b[0mget_agg_filter\u001b[0m\u001b[0;34m(\u001b[0m\u001b[0;34m)\u001b[0m \u001b[0;32mis\u001b[0m \u001b[0;32mnot\u001b[0m \u001b[0;32mNone\u001b[0m\u001b[0;34m:\u001b[0m\u001b[0;34m\u001b[0m\u001b[0;34m\u001b[0m\u001b[0m\n",
            "\u001b[0;32m/usr/local/lib/python3.7/dist-packages/matplotlib/axes/_base.py\u001b[0m in \u001b[0;36mdraw\u001b[0;34m(self, renderer, inframe)\u001b[0m\n\u001b[1;32m   2628\u001b[0m             \u001b[0mrenderer\u001b[0m\u001b[0;34m.\u001b[0m\u001b[0mstop_rasterizing\u001b[0m\u001b[0;34m(\u001b[0m\u001b[0;34m)\u001b[0m\u001b[0;34m\u001b[0m\u001b[0;34m\u001b[0m\u001b[0m\n\u001b[1;32m   2629\u001b[0m \u001b[0;34m\u001b[0m\u001b[0m\n\u001b[0;32m-> 2630\u001b[0;31m         \u001b[0mmimage\u001b[0m\u001b[0;34m.\u001b[0m\u001b[0m_draw_list_compositing_images\u001b[0m\u001b[0;34m(\u001b[0m\u001b[0mrenderer\u001b[0m\u001b[0;34m,\u001b[0m \u001b[0mself\u001b[0m\u001b[0;34m,\u001b[0m \u001b[0martists\u001b[0m\u001b[0;34m)\u001b[0m\u001b[0;34m\u001b[0m\u001b[0;34m\u001b[0m\u001b[0m\n\u001b[0m\u001b[1;32m   2631\u001b[0m \u001b[0;34m\u001b[0m\u001b[0m\n\u001b[1;32m   2632\u001b[0m         \u001b[0mrenderer\u001b[0m\u001b[0;34m.\u001b[0m\u001b[0mclose_group\u001b[0m\u001b[0;34m(\u001b[0m\u001b[0;34m'axes'\u001b[0m\u001b[0;34m)\u001b[0m\u001b[0;34m\u001b[0m\u001b[0;34m\u001b[0m\u001b[0m\n",
            "\u001b[0;32m/usr/local/lib/python3.7/dist-packages/matplotlib/image.py\u001b[0m in \u001b[0;36m_draw_list_compositing_images\u001b[0;34m(renderer, parent, artists, suppress_composite)\u001b[0m\n\u001b[1;32m    135\u001b[0m     \u001b[0;32mif\u001b[0m \u001b[0mnot_composite\u001b[0m \u001b[0;32mor\u001b[0m \u001b[0;32mnot\u001b[0m \u001b[0mhas_images\u001b[0m\u001b[0;34m:\u001b[0m\u001b[0;34m\u001b[0m\u001b[0;34m\u001b[0m\u001b[0m\n\u001b[1;32m    136\u001b[0m         \u001b[0;32mfor\u001b[0m \u001b[0ma\u001b[0m \u001b[0;32min\u001b[0m \u001b[0martists\u001b[0m\u001b[0;34m:\u001b[0m\u001b[0;34m\u001b[0m\u001b[0;34m\u001b[0m\u001b[0m\n\u001b[0;32m--> 137\u001b[0;31m             \u001b[0ma\u001b[0m\u001b[0;34m.\u001b[0m\u001b[0mdraw\u001b[0m\u001b[0;34m(\u001b[0m\u001b[0mrenderer\u001b[0m\u001b[0;34m)\u001b[0m\u001b[0;34m\u001b[0m\u001b[0;34m\u001b[0m\u001b[0m\n\u001b[0m\u001b[1;32m    138\u001b[0m     \u001b[0;32melse\u001b[0m\u001b[0;34m:\u001b[0m\u001b[0;34m\u001b[0m\u001b[0;34m\u001b[0m\u001b[0m\n\u001b[1;32m    139\u001b[0m         \u001b[0;31m# Composite any adjacent images together\u001b[0m\u001b[0;34m\u001b[0m\u001b[0;34m\u001b[0m\u001b[0;34m\u001b[0m\u001b[0m\n",
            "\u001b[0;32m/usr/local/lib/python3.7/dist-packages/matplotlib/artist.py\u001b[0m in \u001b[0;36mdraw_wrapper\u001b[0;34m(artist, renderer, *args, **kwargs)\u001b[0m\n\u001b[1;32m     36\u001b[0m                 \u001b[0mrenderer\u001b[0m\u001b[0;34m.\u001b[0m\u001b[0mstart_filter\u001b[0m\u001b[0;34m(\u001b[0m\u001b[0;34m)\u001b[0m\u001b[0;34m\u001b[0m\u001b[0;34m\u001b[0m\u001b[0m\n\u001b[1;32m     37\u001b[0m \u001b[0;34m\u001b[0m\u001b[0m\n\u001b[0;32m---> 38\u001b[0;31m             \u001b[0;32mreturn\u001b[0m \u001b[0mdraw\u001b[0m\u001b[0;34m(\u001b[0m\u001b[0martist\u001b[0m\u001b[0;34m,\u001b[0m \u001b[0mrenderer\u001b[0m\u001b[0;34m,\u001b[0m \u001b[0;34m*\u001b[0m\u001b[0margs\u001b[0m\u001b[0;34m,\u001b[0m \u001b[0;34m**\u001b[0m\u001b[0mkwargs\u001b[0m\u001b[0;34m)\u001b[0m\u001b[0;34m\u001b[0m\u001b[0;34m\u001b[0m\u001b[0m\n\u001b[0m\u001b[1;32m     39\u001b[0m         \u001b[0;32mfinally\u001b[0m\u001b[0;34m:\u001b[0m\u001b[0;34m\u001b[0m\u001b[0;34m\u001b[0m\u001b[0m\n\u001b[1;32m     40\u001b[0m             \u001b[0;32mif\u001b[0m \u001b[0martist\u001b[0m\u001b[0;34m.\u001b[0m\u001b[0mget_agg_filter\u001b[0m\u001b[0;34m(\u001b[0m\u001b[0;34m)\u001b[0m \u001b[0;32mis\u001b[0m \u001b[0;32mnot\u001b[0m \u001b[0;32mNone\u001b[0m\u001b[0;34m:\u001b[0m\u001b[0;34m\u001b[0m\u001b[0;34m\u001b[0m\u001b[0m\n",
            "\u001b[0;32m/usr/local/lib/python3.7/dist-packages/matplotlib/image.py\u001b[0m in \u001b[0;36mdraw\u001b[0;34m(self, renderer, *args, **kwargs)\u001b[0m\n\u001b[1;32m    624\u001b[0m         \u001b[0;32melse\u001b[0m\u001b[0;34m:\u001b[0m\u001b[0;34m\u001b[0m\u001b[0;34m\u001b[0m\u001b[0m\n\u001b[1;32m    625\u001b[0m             im, l, b, trans = self.make_image(\n\u001b[0;32m--> 626\u001b[0;31m                 renderer, renderer.get_image_magnification())\n\u001b[0m\u001b[1;32m    627\u001b[0m             \u001b[0;32mif\u001b[0m \u001b[0mim\u001b[0m \u001b[0;32mis\u001b[0m \u001b[0;32mnot\u001b[0m \u001b[0;32mNone\u001b[0m\u001b[0;34m:\u001b[0m\u001b[0;34m\u001b[0m\u001b[0;34m\u001b[0m\u001b[0m\n\u001b[1;32m    628\u001b[0m                 \u001b[0mrenderer\u001b[0m\u001b[0;34m.\u001b[0m\u001b[0mdraw_image\u001b[0m\u001b[0;34m(\u001b[0m\u001b[0mgc\u001b[0m\u001b[0;34m,\u001b[0m \u001b[0ml\u001b[0m\u001b[0;34m,\u001b[0m \u001b[0mb\u001b[0m\u001b[0;34m,\u001b[0m \u001b[0mim\u001b[0m\u001b[0;34m)\u001b[0m\u001b[0;34m\u001b[0m\u001b[0;34m\u001b[0m\u001b[0m\n",
            "\u001b[0;32m/usr/local/lib/python3.7/dist-packages/matplotlib/image.py\u001b[0m in \u001b[0;36mmake_image\u001b[0;34m(self, renderer, magnification, unsampled)\u001b[0m\n\u001b[1;32m    915\u001b[0m             \u001b[0mself\u001b[0m\u001b[0;34m.\u001b[0m\u001b[0m_A\u001b[0m\u001b[0;34m,\u001b[0m \u001b[0mbbox\u001b[0m\u001b[0;34m,\u001b[0m \u001b[0mtransformed_bbox\u001b[0m\u001b[0;34m,\u001b[0m\u001b[0;34m\u001b[0m\u001b[0;34m\u001b[0m\u001b[0m\n\u001b[1;32m    916\u001b[0m             \u001b[0mself\u001b[0m\u001b[0;34m.\u001b[0m\u001b[0mget_clip_box\u001b[0m\u001b[0;34m(\u001b[0m\u001b[0;34m)\u001b[0m \u001b[0;32mor\u001b[0m \u001b[0mself\u001b[0m\u001b[0;34m.\u001b[0m\u001b[0maxes\u001b[0m\u001b[0;34m.\u001b[0m\u001b[0mbbox\u001b[0m\u001b[0;34m,\u001b[0m\u001b[0;34m\u001b[0m\u001b[0;34m\u001b[0m\u001b[0m\n\u001b[0;32m--> 917\u001b[0;31m             magnification, unsampled=unsampled)\n\u001b[0m\u001b[1;32m    918\u001b[0m \u001b[0;34m\u001b[0m\u001b[0m\n\u001b[1;32m    919\u001b[0m     \u001b[0;32mdef\u001b[0m \u001b[0m_check_unsampled_image\u001b[0m\u001b[0;34m(\u001b[0m\u001b[0mself\u001b[0m\u001b[0;34m,\u001b[0m \u001b[0mrenderer\u001b[0m\u001b[0;34m)\u001b[0m\u001b[0;34m:\u001b[0m\u001b[0;34m\u001b[0m\u001b[0;34m\u001b[0m\u001b[0m\n",
            "\u001b[0;32m/usr/local/lib/python3.7/dist-packages/matplotlib/image.py\u001b[0m in \u001b[0;36m_make_image\u001b[0;34m(self, A, in_bbox, out_bbox, clip_bbox, magnification, unsampled, round_to_pixel_border)\u001b[0m\n\u001b[1;32m    476\u001b[0m                 \u001b[0mA_scaled\u001b[0m \u001b[0;34m+=\u001b[0m \u001b[0;36m0.1\u001b[0m\u001b[0;34m\u001b[0m\u001b[0;34m\u001b[0m\u001b[0m\n\u001b[1;32m    477\u001b[0m                 \u001b[0;31m# resample the input data to the correct resolution and shape\u001b[0m\u001b[0;34m\u001b[0m\u001b[0;34m\u001b[0m\u001b[0;34m\u001b[0m\u001b[0m\n\u001b[0;32m--> 478\u001b[0;31m                 \u001b[0mA_resampled\u001b[0m \u001b[0;34m=\u001b[0m \u001b[0m_resample\u001b[0m\u001b[0;34m(\u001b[0m\u001b[0mself\u001b[0m\u001b[0;34m,\u001b[0m \u001b[0mA_scaled\u001b[0m\u001b[0;34m,\u001b[0m \u001b[0mout_shape\u001b[0m\u001b[0;34m,\u001b[0m \u001b[0mt\u001b[0m\u001b[0;34m)\u001b[0m\u001b[0;34m\u001b[0m\u001b[0;34m\u001b[0m\u001b[0m\n\u001b[0m\u001b[1;32m    479\u001b[0m                 \u001b[0;31m# done with A_scaled now, remove from namespace to be sure!\u001b[0m\u001b[0;34m\u001b[0m\u001b[0;34m\u001b[0m\u001b[0;34m\u001b[0m\u001b[0m\n\u001b[1;32m    480\u001b[0m                 \u001b[0;32mdel\u001b[0m \u001b[0mA_scaled\u001b[0m\u001b[0;34m\u001b[0m\u001b[0;34m\u001b[0m\u001b[0m\n",
            "\u001b[0;32m/usr/local/lib/python3.7/dist-packages/matplotlib/image.py\u001b[0m in \u001b[0;36m_resample\u001b[0;34m(image_obj, data, out_shape, transform, resample, alpha)\u001b[0m\n\u001b[1;32m    200\u001b[0m                     \u001b[0malpha\u001b[0m\u001b[0;34m,\u001b[0m\u001b[0;34m\u001b[0m\u001b[0;34m\u001b[0m\u001b[0m\n\u001b[1;32m    201\u001b[0m                     \u001b[0mimage_obj\u001b[0m\u001b[0;34m.\u001b[0m\u001b[0mget_filternorm\u001b[0m\u001b[0;34m(\u001b[0m\u001b[0;34m)\u001b[0m\u001b[0;34m,\u001b[0m\u001b[0;34m\u001b[0m\u001b[0;34m\u001b[0m\u001b[0m\n\u001b[0;32m--> 202\u001b[0;31m                     image_obj.get_filterrad())\n\u001b[0m\u001b[1;32m    203\u001b[0m     \u001b[0;32mreturn\u001b[0m \u001b[0mout\u001b[0m\u001b[0;34m\u001b[0m\u001b[0;34m\u001b[0m\u001b[0m\n\u001b[1;32m    204\u001b[0m \u001b[0;34m\u001b[0m\u001b[0m\n",
            "\u001b[0;31mValueError\u001b[0m: Unsupported dtype"
          ]
        },
        {
          "output_type": "display_data",
          "data": {
            "text/plain": [
              "<Figure size 1728x288 with 40 Axes>"
            ],
            "image/png": "[encoded data removed]"
          },
          "metadata": {
            "needs_background": "light"
          }
        },
        {
          "output_type": "error",
          "ename": "ValueError",
          "evalue": "ignored",
          "traceback": [
            "\u001b[0;31m---------------------------------------------------------------------------\u001b[0m",
            "\u001b[0;31mValueError\u001b[0m                                Traceback (most recent call last)",
            "\u001b[0;32m/usr/local/lib/python3.7/dist-packages/IPython/core/formatters.py\u001b[0m in \u001b[0;36m__call__\u001b[0;34m(self, obj)\u001b[0m\n\u001b[1;32m    332\u001b[0m                 \u001b[0;32mpass\u001b[0m\u001b[0;34m\u001b[0m\u001b[0;34m\u001b[0m\u001b[0m\n\u001b[1;32m    333\u001b[0m             \u001b[0;32melse\u001b[0m\u001b[0;34m:\u001b[0m\u001b[0;34m\u001b[0m\u001b[0;34m\u001b[0m\u001b[0m\n\u001b[0;32m--> 334\u001b[0;31m                 \u001b[0;32mreturn\u001b[0m \u001b[0mprinter\u001b[0m\u001b[0;34m(\u001b[0m\u001b[0mobj\u001b[0m\u001b[0;34m)\u001b[0m\u001b[0;34m\u001b[0m\u001b[0;34m\u001b[0m\u001b[0m\n\u001b[0m\u001b[1;32m    335\u001b[0m             \u001b[0;31m# Finally look for special method names\u001b[0m\u001b[0;34m\u001b[0m\u001b[0;34m\u001b[0m\u001b[0;34m\u001b[0m\u001b[0m\n\u001b[1;32m    336\u001b[0m             \u001b[0mmethod\u001b[0m \u001b[0;34m=\u001b[0m \u001b[0mget_real_method\u001b[0m\u001b[0;34m(\u001b[0m\u001b[0mobj\u001b[0m\u001b[0;34m,\u001b[0m \u001b[0mself\u001b[0m\u001b[0;34m.\u001b[0m\u001b[0mprint_method\u001b[0m\u001b[0;34m)\u001b[0m\u001b[0;34m\u001b[0m\u001b[0;34m\u001b[0m\u001b[0m\n",
            "\u001b[0;32m/usr/local/lib/python3.7/dist-packages/IPython/core/pylabtools.py\u001b[0m in \u001b[0;36m<lambda>\u001b[0;34m(fig)\u001b[0m\n\u001b[1;32m    239\u001b[0m \u001b[0;34m\u001b[0m\u001b[0m\n\u001b[1;32m    240\u001b[0m     \u001b[0;32mif\u001b[0m \u001b[0;34m'png'\u001b[0m \u001b[0;32min\u001b[0m \u001b[0mformats\u001b[0m\u001b[0;34m:\u001b[0m\u001b[0;34m\u001b[0m\u001b[0;34m\u001b[0m\u001b[0m\n\u001b[0;32m--> 241\u001b[0;31m         \u001b[0mpng_formatter\u001b[0m\u001b[0;34m.\u001b[0m\u001b[0mfor_type\u001b[0m\u001b[0;34m(\u001b[0m\u001b[0mFigure\u001b[0m\u001b[0;34m,\u001b[0m \u001b[0;32mlambda\u001b[0m \u001b[0mfig\u001b[0m\u001b[0;34m:\u001b[0m \u001b[0mprint_figure\u001b[0m\u001b[0;34m(\u001b[0m\u001b[0mfig\u001b[0m\u001b[0;34m,\u001b[0m \u001b[0;34m'png'\u001b[0m\u001b[0;34m,\u001b[0m \u001b[0;34m**\u001b[0m\u001b[0mkwargs\u001b[0m\u001b[0;34m)\u001b[0m\u001b[0;34m)\u001b[0m\u001b[0;34m\u001b[0m\u001b[0;34m\u001b[0m\u001b[0m\n\u001b[0m\u001b[1;32m    242\u001b[0m     \u001b[0;32mif\u001b[0m \u001b[0;34m'retina'\u001b[0m \u001b[0;32min\u001b[0m \u001b[0mformats\u001b[0m \u001b[0;32mor\u001b[0m \u001b[0;34m'png2x'\u001b[0m \u001b[0;32min\u001b[0m \u001b[0mformats\u001b[0m\u001b[0;34m:\u001b[0m\u001b[0;34m\u001b[0m\u001b[0;34m\u001b[0m\u001b[0m\n\u001b[1;32m    243\u001b[0m         \u001b[0mpng_formatter\u001b[0m\u001b[0;34m.\u001b[0m\u001b[0mfor_type\u001b[0m\u001b[0;34m(\u001b[0m\u001b[0mFigure\u001b[0m\u001b[0;34m,\u001b[0m \u001b[0;32mlambda\u001b[0m \u001b[0mfig\u001b[0m\u001b[0;34m:\u001b[0m \u001b[0mretina_figure\u001b[0m\u001b[0;34m(\u001b[0m\u001b[0mfig\u001b[0m\u001b[0;34m,\u001b[0m \u001b[0;34m**\u001b[0m\u001b[0mkwargs\u001b[0m\u001b[0;34m)\u001b[0m\u001b[0;34m)\u001b[0m\u001b[0;34m\u001b[0m\u001b[0;34m\u001b[0m\u001b[0m\n",
            "\u001b[0;32m/usr/local/lib/python3.7/dist-packages/IPython/core/pylabtools.py\u001b[0m in \u001b[0;36mprint_figure\u001b[0;34m(fig, fmt, bbox_inches, **kwargs)\u001b[0m\n\u001b[1;32m    123\u001b[0m \u001b[0;34m\u001b[0m\u001b[0m\n\u001b[1;32m    124\u001b[0m     \u001b[0mbytes_io\u001b[0m \u001b[0;34m=\u001b[0m \u001b[0mBytesIO\u001b[0m\u001b[0;34m(\u001b[0m\u001b[0;34m)\u001b[0m\u001b[0;34m\u001b[0m\u001b[0;34m\u001b[0m\u001b[0m\n\u001b[0;32m--> 125\u001b[0;31m     \u001b[0mfig\u001b[0m\u001b[0;34m.\u001b[0m\u001b[0mcanvas\u001b[0m\u001b[0;34m.\u001b[0m\u001b[0mprint_figure\u001b[0m\u001b[0;34m(\u001b[0m\u001b[0mbytes_io\u001b[0m\u001b[0;34m,\u001b[0m \u001b[0;34m**\u001b[0m\u001b[0mkw\u001b[0m\u001b[0;34m)\u001b[0m\u001b[0;34m\u001b[0m\u001b[0;34m\u001b[0m\u001b[0m\n\u001b[0m\u001b[1;32m    126\u001b[0m     \u001b[0mdata\u001b[0m \u001b[0;34m=\u001b[0m \u001b[0mbytes_io\u001b[0m\u001b[0;34m.\u001b[0m\u001b[0mgetvalue\u001b[0m\u001b[0;34m(\u001b[0m\u001b[0;34m)\u001b[0m\u001b[0;34m\u001b[0m\u001b[0;34m\u001b[0m\u001b[0m\n\u001b[1;32m    127\u001b[0m     \u001b[0;32mif\u001b[0m \u001b[0mfmt\u001b[0m \u001b[0;34m==\u001b[0m \u001b[0;34m'svg'\u001b[0m\u001b[0;34m:\u001b[0m\u001b[0;34m\u001b[0m\u001b[0;34m\u001b[0m\u001b[0m\n",
            "\u001b[0;32m/usr/local/lib/python3.7/dist-packages/matplotlib/backend_bases.py\u001b[0m in \u001b[0;36mprint_figure\u001b[0;34m(self, filename, dpi, facecolor, edgecolor, orientation, format, bbox_inches, **kwargs)\u001b[0m\n\u001b[1;32m   2098\u001b[0m                            else suppress())\n\u001b[1;32m   2099\u001b[0m                     \u001b[0;32mwith\u001b[0m \u001b[0mctx\u001b[0m\u001b[0;34m:\u001b[0m\u001b[0;34m\u001b[0m\u001b[0;34m\u001b[0m\u001b[0m\n\u001b[0;32m-> 2100\u001b[0;31m                         \u001b[0mself\u001b[0m\u001b[0;34m.\u001b[0m\u001b[0mfigure\u001b[0m\u001b[0;34m.\u001b[0m\u001b[0mdraw\u001b[0m\u001b[0;34m(\u001b[0m\u001b[0mrenderer\u001b[0m\u001b[0;34m)\u001b[0m\u001b[0;34m\u001b[0m\u001b[0;34m\u001b[0m\u001b[0m\n\u001b[0m\u001b[1;32m   2101\u001b[0m                     \u001b[0mbbox_artists\u001b[0m \u001b[0;34m=\u001b[0m \u001b[0mkwargs\u001b[0m\u001b[0;34m.\u001b[0m\u001b[0mpop\u001b[0m\u001b[0;34m(\u001b[0m\u001b[0;34m\"bbox_extra_artists\"\u001b[0m\u001b[0;34m,\u001b[0m \u001b[0;32mNone\u001b[0m\u001b[0;34m)\u001b[0m\u001b[0;34m\u001b[0m\u001b[0;34m\u001b[0m\u001b[0m\n\u001b[1;32m   2102\u001b[0m                     bbox_inches = self.figure.get_tightbbox(renderer,\n",
            "\u001b[0;32m/usr/local/lib/python3.7/dist-packages/matplotlib/artist.py\u001b[0m in \u001b[0;36mdraw_wrapper\u001b[0;34m(artist, renderer, *args, **kwargs)\u001b[0m\n\u001b[1;32m     36\u001b[0m                 \u001b[0mrenderer\u001b[0m\u001b[0;34m.\u001b[0m\u001b[0mstart_filter\u001b[0m\u001b[0;34m(\u001b[0m\u001b[0;34m)\u001b[0m\u001b[0;34m\u001b[0m\u001b[0;34m\u001b[0m\u001b[0m\n\u001b[1;32m     37\u001b[0m \u001b[0;34m\u001b[0m\u001b[0m\n\u001b[0;32m---> 38\u001b[0;31m             \u001b[0;32mreturn\u001b[0m \u001b[0mdraw\u001b[0m\u001b[0;34m(\u001b[0m\u001b[0martist\u001b[0m\u001b[0;34m,\u001b[0m \u001b[0mrenderer\u001b[0m\u001b[0;34m,\u001b[0m \u001b[0;34m*\u001b[0m\u001b[0margs\u001b[0m\u001b[0;34m,\u001b[0m \u001b[0;34m**\u001b[0m\u001b[0mkwargs\u001b[0m\u001b[0;34m)\u001b[0m\u001b[0;34m\u001b[0m\u001b[0;34m\u001b[0m\u001b[0m\n\u001b[0m\u001b[1;32m     39\u001b[0m         \u001b[0;32mfinally\u001b[0m\u001b[0;34m:\u001b[0m\u001b[0;34m\u001b[0m\u001b[0;34m\u001b[0m\u001b[0m\n\u001b[1;32m     40\u001b[0m             \u001b[0;32mif\u001b[0m \u001b[0martist\u001b[0m\u001b[0;34m.\u001b[0m\u001b[0mget_agg_filter\u001b[0m\u001b[0;34m(\u001b[0m\u001b[0;34m)\u001b[0m \u001b[0;32mis\u001b[0m \u001b[0;32mnot\u001b[0m \u001b[0;32mNone\u001b[0m\u001b[0;34m:\u001b[0m\u001b[0;34m\u001b[0m\u001b[0;34m\u001b[0m\u001b[0m\n",
            "\u001b[0;32m/usr/local/lib/python3.7/dist-packages/matplotlib/figure.py\u001b[0m in \u001b[0;36mdraw\u001b[0;34m(self, renderer)\u001b[0m\n\u001b[1;32m   1734\u001b[0m             \u001b[0mself\u001b[0m\u001b[0;34m.\u001b[0m\u001b[0mpatch\u001b[0m\u001b[0;34m.\u001b[0m\u001b[0mdraw\u001b[0m\u001b[0;34m(\u001b[0m\u001b[0mrenderer\u001b[0m\u001b[0;34m)\u001b[0m\u001b[0;34m\u001b[0m\u001b[0;34m\u001b[0m\u001b[0m\n\u001b[1;32m   1735\u001b[0m             mimage._draw_list_compositing_images(\n\u001b[0;32m-> 1736\u001b[0;31m                 renderer, self, artists, self.suppressComposite)\n\u001b[0m\u001b[1;32m   1737\u001b[0m \u001b[0;34m\u001b[0m\u001b[0m\n\u001b[1;32m   1738\u001b[0m             \u001b[0mrenderer\u001b[0m\u001b[0;34m.\u001b[0m\u001b[0mclose_group\u001b[0m\u001b[0;34m(\u001b[0m\u001b[0;34m'figure'\u001b[0m\u001b[0;34m)\u001b[0m\u001b[0;34m\u001b[0m\u001b[0;34m\u001b[0m\u001b[0m\n",
            "\u001b[0;32m/usr/local/lib/python3.7/dist-packages/matplotlib/image.py\u001b[0m in \u001b[0;36m_draw_list_compositing_images\u001b[0;34m(renderer, parent, artists, suppress_composite)\u001b[0m\n\u001b[1;32m    135\u001b[0m     \u001b[0;32mif\u001b[0m \u001b[0mnot_composite\u001b[0m \u001b[0;32mor\u001b[0m \u001b[0;32mnot\u001b[0m \u001b[0mhas_images\u001b[0m\u001b[0;34m:\u001b[0m\u001b[0;34m\u001b[0m\u001b[0;34m\u001b[0m\u001b[0m\n\u001b[1;32m    136\u001b[0m         \u001b[0;32mfor\u001b[0m \u001b[0ma\u001b[0m \u001b[0;32min\u001b[0m \u001b[0martists\u001b[0m\u001b[0;34m:\u001b[0m\u001b[0;34m\u001b[0m\u001b[0;34m\u001b[0m\u001b[0m\n\u001b[0;32m--> 137\u001b[0;31m             \u001b[0ma\u001b[0m\u001b[0;34m.\u001b[0m\u001b[0mdraw\u001b[0m\u001b[0;34m(\u001b[0m\u001b[0mrenderer\u001b[0m\u001b[0;34m)\u001b[0m\u001b[0;34m\u001b[0m\u001b[0;34m\u001b[0m\u001b[0m\n\u001b[0m\u001b[1;32m    138\u001b[0m     \u001b[0;32melse\u001b[0m\u001b[0;34m:\u001b[0m\u001b[0;34m\u001b[0m\u001b[0;34m\u001b[0m\u001b[0m\n\u001b[1;32m    139\u001b[0m         \u001b[0;31m# Composite any adjacent images together\u001b[0m\u001b[0;34m\u001b[0m\u001b[0;34m\u001b[0m\u001b[0;34m\u001b[0m\u001b[0m\n",
            "\u001b[0;32m/usr/local/lib/python3.7/dist-packages/matplotlib/artist.py\u001b[0m in \u001b[0;36mdraw_wrapper\u001b[0;34m(artist, renderer, *args, **kwargs)\u001b[0m\n\u001b[1;32m     36\u001b[0m                 \u001b[0mrenderer\u001b[0m\u001b[0;34m.\u001b[0m\u001b[0mstart_filter\u001b[0m\u001b[0;34m(\u001b[0m\u001b[0;34m)\u001b[0m\u001b[0;34m\u001b[0m\u001b[0;34m\u001b[0m\u001b[0m\n\u001b[1;32m     37\u001b[0m \u001b[0;34m\u001b[0m\u001b[0m\n\u001b[0;32m---> 38\u001b[0;31m             \u001b[0;32mreturn\u001b[0m \u001b[0mdraw\u001b[0m\u001b[0;34m(\u001b[0m\u001b[0martist\u001b[0m\u001b[0;34m,\u001b[0m \u001b[0mrenderer\u001b[0m\u001b[0;34m,\u001b[0m \u001b[0;34m*\u001b[0m\u001b[0margs\u001b[0m\u001b[0;34m,\u001b[0m \u001b[0;34m**\u001b[0m\u001b[0mkwargs\u001b[0m\u001b[0;34m)\u001b[0m\u001b[0;34m\u001b[0m\u001b[0;34m\u001b[0m\u001b[0m\n\u001b[0m\u001b[1;32m     39\u001b[0m         \u001b[0;32mfinally\u001b[0m\u001b[0;34m:\u001b[0m\u001b[0;34m\u001b[0m\u001b[0;34m\u001b[0m\u001b[0m\n\u001b[1;32m     40\u001b[0m             \u001b[0;32mif\u001b[0m \u001b[0martist\u001b[0m\u001b[0;34m.\u001b[0m\u001b[0mget_agg_filter\u001b[0m\u001b[0;34m(\u001b[0m\u001b[0;34m)\u001b[0m \u001b[0;32mis\u001b[0m \u001b[0;32mnot\u001b[0m \u001b[0;32mNone\u001b[0m\u001b[0;34m:\u001b[0m\u001b[0;34m\u001b[0m\u001b[0;34m\u001b[0m\u001b[0m\n",
            "\u001b[0;32m/usr/local/lib/python3.7/dist-packages/matplotlib/axes/_base.py\u001b[0m in \u001b[0;36mdraw\u001b[0;34m(self, renderer, inframe)\u001b[0m\n\u001b[1;32m   2628\u001b[0m             \u001b[0mrenderer\u001b[0m\u001b[0;34m.\u001b[0m\u001b[0mstop_rasterizing\u001b[0m\u001b[0;34m(\u001b[0m\u001b[0;34m)\u001b[0m\u001b[0;34m\u001b[0m\u001b[0;34m\u001b[0m\u001b[0m\n\u001b[1;32m   2629\u001b[0m \u001b[0;34m\u001b[0m\u001b[0m\n\u001b[0;32m-> 2630\u001b[0;31m         \u001b[0mmimage\u001b[0m\u001b[0;34m.\u001b[0m\u001b[0m_draw_list_compositing_images\u001b[0m\u001b[0;34m(\u001b[0m\u001b[0mrenderer\u001b[0m\u001b[0;34m,\u001b[0m \u001b[0mself\u001b[0m\u001b[0;34m,\u001b[0m \u001b[0martists\u001b[0m\u001b[0;34m)\u001b[0m\u001b[0;34m\u001b[0m\u001b[0;34m\u001b[0m\u001b[0m\n\u001b[0m\u001b[1;32m   2631\u001b[0m \u001b[0;34m\u001b[0m\u001b[0m\n\u001b[1;32m   2632\u001b[0m         \u001b[0mrenderer\u001b[0m\u001b[0;34m.\u001b[0m\u001b[0mclose_group\u001b[0m\u001b[0;34m(\u001b[0m\u001b[0;34m'axes'\u001b[0m\u001b[0;34m)\u001b[0m\u001b[0;34m\u001b[0m\u001b[0;34m\u001b[0m\u001b[0m\n",
            "\u001b[0;32m/usr/local/lib/python3.7/dist-packages/matplotlib/image.py\u001b[0m in \u001b[0;36m_draw_list_compositing_images\u001b[0;34m(renderer, parent, artists, suppress_composite)\u001b[0m\n\u001b[1;32m    135\u001b[0m     \u001b[0;32mif\u001b[0m \u001b[0mnot_composite\u001b[0m \u001b[0;32mor\u001b[0m \u001b[0;32mnot\u001b[0m \u001b[0mhas_images\u001b[0m\u001b[0;34m:\u001b[0m\u001b[0;34m\u001b[0m\u001b[0;34m\u001b[0m\u001b[0m\n\u001b[1;32m    136\u001b[0m         \u001b[0;32mfor\u001b[0m \u001b[0ma\u001b[0m \u001b[0;32min\u001b[0m \u001b[0martists\u001b[0m\u001b[0;34m:\u001b[0m\u001b[0;34m\u001b[0m\u001b[0;34m\u001b[0m\u001b[0m\n\u001b[0;32m--> 137\u001b[0;31m             \u001b[0ma\u001b[0m\u001b[0;34m.\u001b[0m\u001b[0mdraw\u001b[0m\u001b[0;34m(\u001b[0m\u001b[0mrenderer\u001b[0m\u001b[0;34m)\u001b[0m\u001b[0;34m\u001b[0m\u001b[0;34m\u001b[0m\u001b[0m\n\u001b[0m\u001b[1;32m    138\u001b[0m     \u001b[0;32melse\u001b[0m\u001b[0;34m:\u001b[0m\u001b[0;34m\u001b[0m\u001b[0;34m\u001b[0m\u001b[0m\n\u001b[1;32m    139\u001b[0m         \u001b[0;31m# Composite any adjacent images together\u001b[0m\u001b[0;34m\u001b[0m\u001b[0;34m\u001b[0m\u001b[0;34m\u001b[0m\u001b[0m\n",
            "\u001b[0;32m/usr/local/lib/python3.7/dist-packages/matplotlib/artist.py\u001b[0m in \u001b[0;36mdraw_wrapper\u001b[0;34m(artist, renderer, *args, **kwargs)\u001b[0m\n\u001b[1;32m     36\u001b[0m                 \u001b[0mrenderer\u001b[0m\u001b[0;34m.\u001b[0m\u001b[0mstart_filter\u001b[0m\u001b[0;34m(\u001b[0m\u001b[0;34m)\u001b[0m\u001b[0;34m\u001b[0m\u001b[0;34m\u001b[0m\u001b[0m\n\u001b[1;32m     37\u001b[0m \u001b[0;34m\u001b[0m\u001b[0m\n\u001b[0;32m---> 38\u001b[0;31m             \u001b[0;32mreturn\u001b[0m \u001b[0mdraw\u001b[0m\u001b[0;34m(\u001b[0m\u001b[0martist\u001b[0m\u001b[0;34m,\u001b[0m \u001b[0mrenderer\u001b[0m\u001b[0;34m,\u001b[0m \u001b[0;34m*\u001b[0m\u001b[0margs\u001b[0m\u001b[0;34m,\u001b[0m \u001b[0;34m**\u001b[0m\u001b[0mkwargs\u001b[0m\u001b[0;34m)\u001b[0m\u001b[0;34m\u001b[0m\u001b[0;34m\u001b[0m\u001b[0m\n\u001b[0m\u001b[1;32m     39\u001b[0m         \u001b[0;32mfinally\u001b[0m\u001b[0;34m:\u001b[0m\u001b[0;34m\u001b[0m\u001b[0;34m\u001b[0m\u001b[0m\n\u001b[1;32m     40\u001b[0m             \u001b[0;32mif\u001b[0m \u001b[0martist\u001b[0m\u001b[0;34m.\u001b[0m\u001b[0mget_agg_filter\u001b[0m\u001b[0;34m(\u001b[0m\u001b[0;34m)\u001b[0m \u001b[0;32mis\u001b[0m \u001b[0;32mnot\u001b[0m \u001b[0;32mNone\u001b[0m\u001b[0;34m:\u001b[0m\u001b[0;34m\u001b[0m\u001b[0;34m\u001b[0m\u001b[0m\n",
            "\u001b[0;32m/usr/local/lib/python3.7/dist-packages/matplotlib/image.py\u001b[0m in \u001b[0;36mdraw\u001b[0;34m(self, renderer, *args, **kwargs)\u001b[0m\n\u001b[1;32m    624\u001b[0m         \u001b[0;32melse\u001b[0m\u001b[0;34m:\u001b[0m\u001b[0;34m\u001b[0m\u001b[0;34m\u001b[0m\u001b[0m\n\u001b[1;32m    625\u001b[0m             im, l, b, trans = self.make_image(\n\u001b[0;32m--> 626\u001b[0;31m                 renderer, renderer.get_image_magnification())\n\u001b[0m\u001b[1;32m    627\u001b[0m             \u001b[0;32mif\u001b[0m \u001b[0mim\u001b[0m \u001b[0;32mis\u001b[0m \u001b[0;32mnot\u001b[0m \u001b[0;32mNone\u001b[0m\u001b[0;34m:\u001b[0m\u001b[0;34m\u001b[0m\u001b[0;34m\u001b[0m\u001b[0m\n\u001b[1;32m    628\u001b[0m                 \u001b[0mrenderer\u001b[0m\u001b[0;34m.\u001b[0m\u001b[0mdraw_image\u001b[0m\u001b[0;34m(\u001b[0m\u001b[0mgc\u001b[0m\u001b[0;34m,\u001b[0m \u001b[0ml\u001b[0m\u001b[0;34m,\u001b[0m \u001b[0mb\u001b[0m\u001b[0;34m,\u001b[0m \u001b[0mim\u001b[0m\u001b[0;34m)\u001b[0m\u001b[0;34m\u001b[0m\u001b[0;34m\u001b[0m\u001b[0m\n",
            "\u001b[0;32m/usr/local/lib/python3.7/dist-packages/matplotlib/image.py\u001b[0m in \u001b[0;36mmake_image\u001b[0;34m(self, renderer, magnification, unsampled)\u001b[0m\n\u001b[1;32m    915\u001b[0m             \u001b[0mself\u001b[0m\u001b[0;34m.\u001b[0m\u001b[0m_A\u001b[0m\u001b[0;34m,\u001b[0m \u001b[0mbbox\u001b[0m\u001b[0;34m,\u001b[0m \u001b[0mtransformed_bbox\u001b[0m\u001b[0;34m,\u001b[0m\u001b[0;34m\u001b[0m\u001b[0;34m\u001b[0m\u001b[0m\n\u001b[1;32m    916\u001b[0m             \u001b[0mself\u001b[0m\u001b[0;34m.\u001b[0m\u001b[0mget_clip_box\u001b[0m\u001b[0;34m(\u001b[0m\u001b[0;34m)\u001b[0m \u001b[0;32mor\u001b[0m \u001b[0mself\u001b[0m\u001b[0;34m.\u001b[0m\u001b[0maxes\u001b[0m\u001b[0;34m.\u001b[0m\u001b[0mbbox\u001b[0m\u001b[0;34m,\u001b[0m\u001b[0;34m\u001b[0m\u001b[0;34m\u001b[0m\u001b[0m\n\u001b[0;32m--> 917\u001b[0;31m             magnification, unsampled=unsampled)\n\u001b[0m\u001b[1;32m    918\u001b[0m \u001b[0;34m\u001b[0m\u001b[0m\n\u001b[1;32m    919\u001b[0m     \u001b[0;32mdef\u001b[0m \u001b[0m_check_unsampled_image\u001b[0m\u001b[0;34m(\u001b[0m\u001b[0mself\u001b[0m\u001b[0;34m,\u001b[0m \u001b[0mrenderer\u001b[0m\u001b[0;34m)\u001b[0m\u001b[0;34m:\u001b[0m\u001b[0;34m\u001b[0m\u001b[0;34m\u001b[0m\u001b[0m\n",
            "\u001b[0;32m/usr/local/lib/python3.7/dist-packages/matplotlib/image.py\u001b[0m in \u001b[0;36m_make_image\u001b[0;34m(self, A, in_bbox, out_bbox, clip_bbox, magnification, unsampled, round_to_pixel_border)\u001b[0m\n\u001b[1;32m    476\u001b[0m                 \u001b[0mA_scaled\u001b[0m \u001b[0;34m+=\u001b[0m \u001b[0;36m0.1\u001b[0m\u001b[0;34m\u001b[0m\u001b[0;34m\u001b[0m\u001b[0m\n\u001b[1;32m    477\u001b[0m                 \u001b[0;31m# resample the input data to the correct resolution and shape\u001b[0m\u001b[0;34m\u001b[0m\u001b[0;34m\u001b[0m\u001b[0;34m\u001b[0m\u001b[0m\n\u001b[0;32m--> 478\u001b[0;31m                 \u001b[0mA_resampled\u001b[0m \u001b[0;34m=\u001b[0m \u001b[0m_resample\u001b[0m\u001b[0;34m(\u001b[0m\u001b[0mself\u001b[0m\u001b[0;34m,\u001b[0m \u001b[0mA_scaled\u001b[0m\u001b[0;34m,\u001b[0m \u001b[0mout_shape\u001b[0m\u001b[0;34m,\u001b[0m \u001b[0mt\u001b[0m\u001b[0;34m)\u001b[0m\u001b[0;34m\u001b[0m\u001b[0;34m\u001b[0m\u001b[0m\n\u001b[0m\u001b[1;32m    479\u001b[0m                 \u001b[0;31m# done with A_scaled now, remove from namespace to be sure!\u001b[0m\u001b[0;34m\u001b[0m\u001b[0;34m\u001b[0m\u001b[0;34m\u001b[0m\u001b[0m\n\u001b[1;32m    480\u001b[0m                 \u001b[0;32mdel\u001b[0m \u001b[0mA_scaled\u001b[0m\u001b[0;34m\u001b[0m\u001b[0;34m\u001b[0m\u001b[0m\n",
            "\u001b[0;32m/usr/local/lib/python3.7/dist-packages/matplotlib/image.py\u001b[0m in \u001b[0;36m_resample\u001b[0;34m(image_obj, data, out_shape, transform, resample, alpha)\u001b[0m\n\u001b[1;32m    200\u001b[0m                     \u001b[0malpha\u001b[0m\u001b[0;34m,\u001b[0m\u001b[0;34m\u001b[0m\u001b[0;34m\u001b[0m\u001b[0m\n\u001b[1;32m    201\u001b[0m                     \u001b[0mimage_obj\u001b[0m\u001b[0;34m.\u001b[0m\u001b[0mget_filternorm\u001b[0m\u001b[0;34m(\u001b[0m\u001b[0;34m)\u001b[0m\u001b[0;34m,\u001b[0m\u001b[0;34m\u001b[0m\u001b[0;34m\u001b[0m\u001b[0m\n\u001b[0;32m--> 202\u001b[0;31m                     image_obj.get_filterrad())\n\u001b[0m\u001b[1;32m    203\u001b[0m     \u001b[0;32mreturn\u001b[0m \u001b[0mout\u001b[0m\u001b[0;34m\u001b[0m\u001b[0;34m\u001b[0m\u001b[0m\n\u001b[1;32m    204\u001b[0m \u001b[0;34m\u001b[0m\u001b[0m\n",
            "\u001b[0;31mValueError\u001b[0m: Unsupported dtype"
          ]
        },
        {
          "output_type": "display_data",
          "data": {
            "text/plain": [
              "<Figure size 1728x288 with 40 Axes>"
            ]
          },
          "metadata": {
            "needs_background": "light"
          }
        }
      ],
      "source": [
        "# obtain one batch of test images\n",
        "dataiter = iter(train_loader)\n",
        "images = dataiter.next()\n",
        "\n",
        "imagem = images.unsqueeze(1).float()\n",
        "imagem /= 255.0\n",
        "imagem = imagem.to(args['device'])\n",
        "\n",
        "# get sample outputs\n",
        "output = model(imagem)\n",
        "# prep images for display\n",
        "images = images.numpy()\n",
        "\n",
        "\n",
        "\n",
        "# output is resized into a batch of iages\n",
        "output = output.view(args['batch_size'], 1, 160, 160)\n",
        "# use detach when it's an output that requires_grad\n",
        "output = output.detach()#.numpy()\n",
        "\n",
        "\n",
        "\n",
        "# plot the first ten input images and then reconstructed images\n",
        "fig, axes = plt.subplots(nrows=2, ncols=10, sharex=True, sharey=True, figsize=(24,4))\n",
        "for idx in np.arange(20):\n",
        "    ax = fig.add_subplot(2, 20/2, idx+1, xticks=[], yticks=[])\n",
        "    loss = criterio(output[idx], imagem[idx])\n",
        "    label = 'Loss value: {:.3f}'\n",
        "    ax.set_xlabel(label.format(loss) )\n",
        "    ax.set_title(\"Reconstructed Image\")\n",
        "    plt.imshow(output[idx].squeeze().cpu(), cmap='gray')\n",
        "    \n",
        "# plot the first ten input images and then reconstructed images\n",
        "fig, axes = plt.subplots(nrows=2, ncols=10, sharex=True, sharey=True, figsize=(24,4))\n",
        "for idx in np.arange(20):\n",
        "    ax = fig.add_subplot(2, 20/2, idx+1, xticks=[], yticks=[])\n",
        "    loss = criterio(output[idx], imagem[idx])\n",
        "    label = 'Loss value: {:.3f}'\n",
        "    ax.set_xlabel(label.format(loss) )\n",
        "    ax.set_title(\"Original Image\")\n",
        "    plt.imshow(images[idx].squeeze(), cmap='gray')\n"
      ]
    }
  ],
  "metadata": {
    "accelerator": "GPU",
    "colab": {
      "collapsed_sections": [],
      "name": "isolation_tcc.ipynb",
      "provenance": [],
      "authorship_tag": "ABX9TyNzvfDTKfqTmgzBV5NW9DZn",
      "include_colab_link": true
    },
    "kernelspec": {
      "display_name": "Python 3",
      "name": "python3"
    },
    "language_info": {
      "name": "python"
    }
  },
  "nbformat": 4,
  "nbformat_minor": 0
}
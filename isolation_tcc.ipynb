{
  "nbformat": 4,
  "nbformat_minor": 0,
  "metadata": {
    "colab": {
      "name": "isolation_tcc.ipynb",
      "provenance": [],
      "collapsed_sections": [],
      "authorship_tag": "ABX9TyMK1ddS0Y1CpR1XJl5uTuyQ",
      "include_colab_link": true
    },
    "kernelspec": {
      "name": "python3",
      "display_name": "Python 3"
    },
    "language_info": {
      "name": "python"
    },
    "accelerator": "GPU"
  },
  "cells": [
    {
      "cell_type": "markdown",
      "metadata": {
        "id": "view-in-github",
        "colab_type": "text"
      },
      "source": [
        "<a href=\"https://colab.research.google.com/github/samuel0711/image-anomaly-detection/blob/main/isolation_tcc.ipynb\" target=\"_parent\"><img src=\"https://colab.research.google.com/assets/colab-badge.svg\" alt=\"Open In Colab\"/></a>"
      ]
    },
    {
      "cell_type": "code",
      "metadata": {
        "colab": {
          "base_uri": "https://localhost:8080/"
        },
        "id": "LSYuFnl5CR4n",
        "outputId": "16026e9c-c384-40cd-f4b8-3541ea0f3dce"
      },
      "source": [
        "import io\n",
        "import sys\n",
        "import os\n",
        "import gc\n",
        "import shutil\n",
        "import numpy as np\n",
        "import matplotlib.pyplot as plt\n",
        "from skimage import io as skio\n",
        "import torch\n",
        "from torch import nn #neural networks\n",
        "import torch.nn.functional as F\n",
        "from torchvision.utils import save_image\n",
        "\n",
        "\n",
        "import time\n",
        "\n",
        "#Carregamento de Dados\n",
        "from torch.utils.data import DataLoader\n",
        "from torchvision import datasets\n",
        "from torchvision import transforms\n",
        "from sklearn.ensemble import IsolationForest\n",
        "from sklearn.metrics import accuracy_score\n",
        "\n",
        "\n",
        "if 'google.colab' in sys.modules:\n",
        "    from google.colab import drive\n",
        "    drive.mount('/content/drive')\n",
        "    os.chdir(\"/content/drive/My Drive/Colab Notebooks\")\n",
        "    sys.path.append('/content/drive/My Drive/Colab Notebooks')"
      ],
      "execution_count": 110,
      "outputs": [
        {
          "output_type": "stream",
          "name": "stdout",
          "text": [
            "Drive already mounted at /content/drive; to attempt to forcibly remount, call drive.mount(\"/content/drive\", force_remount=True).\n"
          ]
        }
      ]
    },
    {
      "cell_type": "code",
      "metadata": {
        "id": "rYAT-KAsB42R",
        "colab": {
          "base_uri": "https://localhost:8080/"
        },
        "outputId": "864570be-d08d-4094-ff1b-1aa9e68c4583"
      },
      "source": [
        "args = {\n",
        "    'epoch':75,          #Numero de épocas\n",
        "    'lr':5e-4,            #Taxa de aprendizado\n",
        "    'weight_decay':5e-4,  #Penalidade L2 (Regularização)\n",
        "    'batch_size': 50,     #Tamanho do batch\n",
        "    'num_workers': 2\n",
        "}\n",
        "\n",
        "if torch.cuda.is_available():\n",
        "  args['device'] = torch.device('cuda')\n",
        "else:\n",
        "  args['device'] = torch.device('cpu')\n",
        "\n",
        "print(args['device'])\n",
        "\n",
        "\n",
        "train_set = np.load('train_dataset.npy', allow_pickle = True)/255.0\n",
        "test_set = np.load('test_dataset.npy', allow_pickle = True)/255.0"
      ],
      "execution_count": 111,
      "outputs": [
        {
          "output_type": "stream",
          "name": "stdout",
          "text": [
            "cuda\n"
          ]
        }
      ]
    },
    {
      "cell_type": "code",
      "source": [
        "print('Treino\\nMédia: ',train_set.mean(),'\\t Desvio Padrão: ',train_set.std(),'\\n\\n')\n",
        "print('Teste\\nMédia: ',test_set.mean(),'\\t Desvio Padrão: ',test_set.std())"
      ],
      "metadata": {
        "colab": {
          "base_uri": "https://localhost:8080/"
        },
        "id": "nj4IxvZ5BC-8",
        "outputId": "dcf7cb3d-990a-4adf-8090-51cf7d7a9de8"
      },
      "execution_count": 112,
      "outputs": [
        {
          "output_type": "stream",
          "name": "stderr",
          "text": [
            "/usr/local/lib/python3.7/dist-packages/numpy/core/_methods.py:212: RuntimeWarning: overflow encountered in reduce\n",
            "  arrmean = umr_sum(arr, axis, dtype, keepdims=True, where=where)\n"
          ]
        },
        {
          "output_type": "stream",
          "name": "stdout",
          "text": [
            "Treino\n",
            "Média:  0.4165 \t Desvio Padrão:  inf \n",
            "\n",
            "\n",
            "Teste\n",
            "Média:  0.441 \t Desvio Padrão:  inf\n"
          ]
        }
      ]
    },
    {
      "cell_type": "code",
      "source": [
        "train_set = torch.from_numpy(train_set)\n",
        "test_set = torch.from_numpy(test_set)\n",
        "\n",
        "isolation_forest = IsolationForest(n_estimators = 50, contamination=float(0.2))"
      ],
      "metadata": {
        "id": "iXr6tMUp0c_U"
      },
      "execution_count": 113,
      "outputs": []
    },
    {
      "cell_type": "code",
      "source": [
        "dataset = np.concatenate((train_set, test_set))\n",
        "\n",
        "dataset = np.reshape(dataset,(dataset.shape[0], dataset.shape[1]*dataset.shape[2]))\n",
        "\n",
        "isolation_forest.fit(dataset)"
      ],
      "metadata": {
        "colab": {
          "base_uri": "https://localhost:8080/"
        },
        "id": "u3WOjrbee9wN",
        "outputId": "f53d2130-a9d3-4bdd-83b2-0f8474e2fc19"
      },
      "execution_count": 114,
      "outputs": [
        {
          "output_type": "execute_result",
          "data": {
            "text/plain": [
              "IsolationForest(contamination=0.2)"
            ]
          },
          "metadata": {},
          "execution_count": 114
        }
      ]
    },
    {
      "cell_type": "code",
      "source": [
        "'''transform_train = transforms.Compose([\n",
        "    transforms.Normalize((train_set.mean(), ), (train_set.std(), ))\n",
        "])\n",
        "\n",
        "transform_test = transforms.Compose([\n",
        "    transforms.Normalize((test_set.mean(), ), (test_set.std(), ))\n",
        "])\n",
        "  \n",
        "# image\n",
        "train_set = transform_train(train_set)#.permute(1,2,0)\n",
        "test_set = transform_test(test_set)#.permute(1,2,0)'''"
      ],
      "metadata": {
        "id": "z1eefBaUuSuT",
        "colab": {
          "base_uri": "https://localhost:8080/",
          "height": 53
        },
        "outputId": "da862668-a135-4507-e228-0010ddd2b881"
      },
      "execution_count": 115,
      "outputs": [
        {
          "output_type": "execute_result",
          "data": {
            "text/plain": [
              "'transform_train = transforms.Compose([\\n    transforms.Normalize((train_set.mean(), ), (train_set.std(), ))\\n])\\n\\ntransform_test = transforms.Compose([\\n    transforms.Normalize((test_set.mean(), ), (test_set.std(), ))\\n])\\n  \\n# image\\ntrain_set = transform_train(train_set)#.permute(1,2,0)\\ntest_set = transform_test(test_set)#.permute(1,2,0)'"
            ],
            "application/vnd.google.colaboratory.intrinsic+json": {
              "type": "string"
            }
          },
          "metadata": {},
          "execution_count": 115
        }
      ]
    },
    {
      "cell_type": "code",
      "metadata": {
        "id": "rJiOOTaxmimJ"
      },
      "source": [
        "train_loader = DataLoader(train_set, \n",
        "                          batch_size=args['batch_size'], \n",
        "                          shuffle=True, \n",
        "                          num_workers=args['num_workers'])\n",
        "\n",
        "test_loader = DataLoader(test_set, \n",
        "                         batch_size=args['batch_size'], \n",
        "                         shuffle=True, \n",
        "                         num_workers=args['num_workers']) "
      ],
      "execution_count": 116,
      "outputs": []
    },
    {
      "cell_type": "code",
      "source": [
        "#Define the Convolutional Autoencoder\n",
        "class ConvAutoencoder(nn.Module):\n",
        "    def __init__(self):\n",
        "        super(ConvAutoencoder, self).__init__()\n",
        "       \n",
        "        #Encoder\n",
        "        self.conv1 = nn.Conv2d(1, 32, 3, padding = 1)  #in_channel, out_channel, kernel_size\n",
        "        self.conv2 = nn.Conv2d(32, 64, 3, padding = 1)\n",
        "        self.conv3 = nn.Conv2d(64, 128, 3, padding = 1) \n",
        "        self.pool = nn.MaxPool2d(2) #kernel_size, stride\n",
        "       \n",
        "        #Decoder\n",
        "        self.t_conv1 = nn.ConvTranspose2d(128, 64, 2, stride=2)\n",
        "        self.t_conv2 = nn.ConvTranspose2d(64, 32, 2, stride=2)\n",
        "        self.t_conv3 = nn.ConvTranspose2d(32, 1, 2, stride=2)\n",
        "\n",
        "\n",
        "    def forward(self, x):\n",
        "        x = F.leaky_relu(self.conv1(x))\n",
        "        x = self.pool(x)\n",
        "        x = F.leaky_relu(self.conv2(x))\n",
        "        x = self.pool(x)\n",
        "        x = F.leaky_relu(self.conv3(x))\n",
        "        x = self.pool(x)\n",
        "        x = F.leaky_relu(self.t_conv1(x))\n",
        "        x = F.leaky_relu(self.t_conv2(x))\n",
        "        x = torch.sigmoid(self.t_conv3(x))\n",
        "              \n",
        "        return x\n",
        "\n",
        "\n",
        "#Instantiate the model\n",
        "model = ConvAutoencoder()\n"
      ],
      "metadata": {
        "id": "Es1OH4QXblsC"
      },
      "execution_count": 117,
      "outputs": []
    },
    {
      "cell_type": "markdown",
      "metadata": {
        "id": "RQhg2NBR46DB"
      },
      "source": [
        "# **Treinando**"
      ]
    },
    {
      "cell_type": "code",
      "metadata": {
        "id": "0-c6HSrSzJ1V",
        "colab": {
          "base_uri": "https://localhost:8080/"
        },
        "outputId": "6c6fb3ed-f321-4cb9-e270-ca52798721ab"
      },
      "source": [
        "from torch import optim\n",
        "\n",
        "criterio = nn.MSELoss().to(args['device'])\n",
        "optimizer = optim.Adam(model.parameters(), lr=args['lr'])\n",
        "model.to(args['device'])"
      ],
      "execution_count": 118,
      "outputs": [
        {
          "output_type": "execute_result",
          "data": {
            "text/plain": [
              "ConvAutoencoder(\n",
              "  (conv1): Conv2d(1, 32, kernel_size=(3, 3), stride=(1, 1), padding=(1, 1))\n",
              "  (conv2): Conv2d(32, 64, kernel_size=(3, 3), stride=(1, 1), padding=(1, 1))\n",
              "  (conv3): Conv2d(64, 128, kernel_size=(3, 3), stride=(1, 1), padding=(1, 1))\n",
              "  (pool): MaxPool2d(kernel_size=2, stride=2, padding=0, dilation=1, ceil_mode=False)\n",
              "  (t_conv1): ConvTranspose2d(128, 64, kernel_size=(2, 2), stride=(2, 2))\n",
              "  (t_conv2): ConvTranspose2d(64, 32, kernel_size=(2, 2), stride=(2, 2))\n",
              "  (t_conv3): ConvTranspose2d(32, 1, kernel_size=(2, 2), stride=(2, 2))\n",
              ")"
            ]
          },
          "metadata": {},
          "execution_count": 118
        }
      ]
    },
    {
      "cell_type": "code",
      "source": [
        "def save_decod_img(img, output, epoch, name):\n",
        "    img = img.view(img.size(0), 1, img.shape[2], img.shape[3])\n",
        "    output = output.view(output.size(0), 1, output.shape[2], output.shape[3])\n",
        "    error = output.view(output.size(0), 1, output.shape[2], output.shape[3]) - img.view(img.size(0), 1, img.shape[2], img.shape[3])\n",
        "    save_image(img, './imgs_tcc/{}_imagem_image{}.png'.format(name,epoch))\n",
        "    save_image(output, './imgs_tcc/{}_output_image{}.png'.format(name,epoch))\n",
        "    save_image(error, './imgs_tcc/{}_error_image{}.png'.format(name,epoch))"
      ],
      "metadata": {
        "id": "_s9WKltZrPdU"
      },
      "execution_count": 119,
      "outputs": []
    },
    {
      "cell_type": "markdown",
      "source": [
        "## Treino ( Somente com imagens não-anomalas)"
      ],
      "metadata": {
        "id": "vMrPLQr4hvrE"
      }
    },
    {
      "cell_type": "code",
      "metadata": {
        "id": "GemLuqJp7aIL"
      },
      "source": [
        "def train(train_loader, model, epoch, name):\n",
        "  ###################\n",
        "  # treinando o modelo #\n",
        "  ###################\n",
        "  model.train()\n",
        "  \n",
        "  start = time.time()\n",
        "\n",
        "  tns = []\n",
        "\n",
        "  train_loss = 0.0\n",
        "  for data in train_loader:\n",
        "    imagem = data.unsqueeze(1).float()\n",
        "    imagem = imagem.to(args['device'])\n",
        "\n",
        "    #imagem = imagem/255.0\n",
        "\n",
        "    # clear the gradients of all optimized variables\n",
        "    optimizer.zero_grad()\n",
        "\n",
        "    # forward pass\n",
        "    output = model(imagem)\n",
        "\n",
        "    # calculando loss\n",
        "    loss = criterio(output, imagem)\n",
        "\n",
        "    # backpropagation\n",
        "    loss.backward()\n",
        "\n",
        "    # próximo passo\n",
        "    optimizer.step()\n",
        "\n",
        "    # update running training loss\n",
        "    train_loss += loss.item()\n",
        "\n",
        "    if epoch == args['epoch']:\n",
        "      for x, y in zip(imagem, output):\n",
        "          tns.append(np.array(y.squeeze().cpu().data - x.squeeze().cpu().data))\n",
        "\n",
        "  if epoch % 5 == 0:\n",
        "    save_decod_img(imagem.cpu().data, output.cpu().data, epoch, name)\n",
        "\n",
        "\n",
        "  train_loss = train_loss/len(train_loader)\n",
        "\n",
        "  end = time.time()\n",
        "\n",
        "\n",
        "  print('########## Train ##########')\n",
        "\n",
        "  print(\"Epoca: {}\\t Train Loss: {:.6f}, Time: {:.2f}\\n\".format(epoch, train_loss, end-start))\n",
        "  #print(\"Medía do Loss:\", epoch_loss_train.mean())\n",
        "\n",
        "  return train_loss"
      ],
      "execution_count": 120,
      "outputs": []
    },
    {
      "cell_type": "markdown",
      "source": [
        "## Validação ( Somente com imagens anômalas )"
      ],
      "metadata": {
        "id": "4SqIE-syh4Dm"
      }
    },
    {
      "cell_type": "code",
      "source": [
        "def validate(test_loader, model, epoch, name):\n",
        "  ###################\n",
        "  # validando o modelo #\n",
        "  ###################\n",
        "  model.eval()\n",
        "\n",
        "  tns = []\n",
        "  predicts = []\n",
        "  outliers, inliers = 0, 0\n",
        "  \n",
        "  start = time.time()\n",
        "  \n",
        "  test_loss = 0.0\n",
        "  with torch.no_grad():\n",
        "    for data in test_loader:\n",
        "      imagem = data.unsqueeze(1).float()\n",
        "      imagem = imagem.to(args['device'])\n",
        "\n",
        "      #imagem = imagem/255.0\n",
        "      # forward pass\n",
        "      output = model(imagem)\n",
        "\n",
        "      y = isolation_forest.predict(torch.flatten(output,start_dim=1).cpu().data)\n",
        "      outliers += list(y).count(-1)\n",
        "      inliers += list(y).count(1)\n",
        "      predicts.append(list(y).count(-1)/y.shape[0])\n",
        "\n",
        "      # calculando loss\n",
        "      loss = criterio(output, imagem)\n",
        "\n",
        "      # update running test loss\n",
        "      test_loss += loss.item()\n",
        "\n",
        "      if epoch == args['epoch']:\n",
        "        for x, y in zip(imagem, output):\n",
        "          tns.append(y.squeeze().cpu().numpy() - x.squeeze().cpu().numpy())\n",
        "\n",
        "    test_loss = test_loss/len(test_loader)\n",
        "    end = time.time()\n",
        "\n",
        "    if epoch % 5 == 0:\n",
        "      save_decod_img(imagem.cpu().data, output.cpu().data, epoch, name)\n",
        "    print('########## Validate ##########')\n",
        "\n",
        "    \n",
        "    print(\"Epoca: {}\\t Val Loss: {:.6f}, Time: {:.2f}\\nAcurácia do Isolation Forest: {:.3f}\\t {} Outliers, {} Inliers\\n\".format(epoch, test_loss, end-start, (sum(predicts)/len(predicts)), outliers, inliers))\n",
        "\n",
        "    return test_loss, (sum(predicts)/len(predicts))"
      ],
      "metadata": {
        "id": "991BeROg8xf3"
      },
      "execution_count": 121,
      "outputs": []
    },
    {
      "cell_type": "markdown",
      "source": [
        "## Rodando Validação e Treino\n"
      ],
      "metadata": {
        "id": "6eTPY7xYolud"
      }
    },
    {
      "cell_type": "code",
      "source": [
        "train_losses, val_losses = [], []\n",
        "val_predicts = []\n",
        "\n",
        "i = 1\n",
        "for epoch in range(args['epoch']):\n",
        "  #Train\n",
        "  train_loss = train(train_loader, model, epoch, 'train')\n",
        "  train_losses.append(train_loss)\n",
        "\n",
        "  val_loss, predicts = validate(test_loader, model, epoch, 'test')\n",
        "  val_losses.append(val_loss)\n",
        "  val_predicts.append(predicts)"
      ],
      "metadata": {
        "id": "X16XessjolJa",
        "colab": {
          "base_uri": "https://localhost:8080/"
        },
        "outputId": "45579f01-2c7a-498e-f477-7d0d63b29231"
      },
      "execution_count": 122,
      "outputs": [
        {
          "output_type": "stream",
          "name": "stdout",
          "text": [
            "########## Train ##########\n",
            "Epoca: 0\t Train Loss: 0.032010, Time: 5.87\n",
            "\n",
            "########## Validate ##########\n",
            "Epoca: 0\t Val Loss: 0.013467, Time: 4.81\n",
            "Acurácia do Isolation Forest: 1.000\t 1000 Outliers, 0 Inliers\n",
            "\n",
            "########## Train ##########\n",
            "Epoca: 1\t Train Loss: 0.006389, Time: 4.84\n",
            "\n",
            "########## Validate ##########\n",
            "Epoca: 1\t Val Loss: 0.004298, Time: 4.85\n",
            "Acurácia do Isolation Forest: 1.000\t 1000 Outliers, 0 Inliers\n",
            "\n",
            "########## Train ##########\n",
            "Epoca: 2\t Train Loss: 0.004316, Time: 4.86\n",
            "\n",
            "########## Validate ##########\n",
            "Epoca: 2\t Val Loss: 0.003793, Time: 4.77\n",
            "Acurácia do Isolation Forest: 1.000\t 1000 Outliers, 0 Inliers\n",
            "\n",
            "########## Train ##########\n",
            "Epoca: 3\t Train Loss: 0.003678, Time: 4.91\n",
            "\n",
            "########## Validate ##########\n",
            "Epoca: 3\t Val Loss: 0.003257, Time: 4.78\n",
            "Acurácia do Isolation Forest: 1.000\t 1000 Outliers, 0 Inliers\n",
            "\n",
            "########## Train ##########\n",
            "Epoca: 4\t Train Loss: 0.003186, Time: 4.89\n",
            "\n",
            "########## Validate ##########\n",
            "Epoca: 4\t Val Loss: 0.002923, Time: 4.82\n",
            "Acurácia do Isolation Forest: 1.000\t 1000 Outliers, 0 Inliers\n",
            "\n",
            "########## Train ##########\n",
            "Epoca: 5\t Train Loss: 0.002909, Time: 5.92\n",
            "\n",
            "########## Validate ##########\n",
            "Epoca: 5\t Val Loss: 0.002699, Time: 4.84\n",
            "Acurácia do Isolation Forest: 1.000\t 1000 Outliers, 0 Inliers\n",
            "\n",
            "########## Train ##########\n",
            "Epoca: 6\t Train Loss: 0.002723, Time: 4.81\n",
            "\n",
            "########## Validate ##########\n",
            "Epoca: 6\t Val Loss: 0.002547, Time: 4.84\n",
            "Acurácia do Isolation Forest: 1.000\t 1000 Outliers, 0 Inliers\n",
            "\n",
            "########## Train ##########\n",
            "Epoca: 7\t Train Loss: 0.002588, Time: 4.82\n",
            "\n",
            "########## Validate ##########\n",
            "Epoca: 7\t Val Loss: 0.002423, Time: 4.81\n",
            "Acurácia do Isolation Forest: 1.000\t 1000 Outliers, 0 Inliers\n",
            "\n",
            "########## Train ##########\n",
            "Epoca: 8\t Train Loss: 0.002481, Time: 4.81\n",
            "\n",
            "########## Validate ##########\n",
            "Epoca: 8\t Val Loss: 0.002333, Time: 4.73\n",
            "Acurácia do Isolation Forest: 1.000\t 1000 Outliers, 0 Inliers\n",
            "\n",
            "########## Train ##########\n",
            "Epoca: 9\t Train Loss: 0.002391, Time: 4.86\n",
            "\n",
            "########## Validate ##########\n",
            "Epoca: 9\t Val Loss: 0.002249, Time: 4.71\n",
            "Acurácia do Isolation Forest: 1.000\t 1000 Outliers, 0 Inliers\n",
            "\n",
            "########## Train ##########\n",
            "Epoca: 10\t Train Loss: 0.002305, Time: 5.94\n",
            "\n",
            "########## Validate ##########\n",
            "Epoca: 10\t Val Loss: 0.002175, Time: 4.76\n",
            "Acurácia do Isolation Forest: 1.000\t 1000 Outliers, 0 Inliers\n",
            "\n",
            "########## Train ##########\n",
            "Epoca: 11\t Train Loss: 0.002221, Time: 4.86\n",
            "\n",
            "########## Validate ##########\n",
            "Epoca: 11\t Val Loss: 0.002099, Time: 4.75\n",
            "Acurácia do Isolation Forest: 1.000\t 1000 Outliers, 0 Inliers\n",
            "\n",
            "########## Train ##########\n",
            "Epoca: 12\t Train Loss: 0.002141, Time: 4.86\n",
            "\n",
            "########## Validate ##########\n",
            "Epoca: 12\t Val Loss: 0.002036, Time: 4.72\n",
            "Acurácia do Isolation Forest: 0.986\t 986 Outliers, 14 Inliers\n",
            "\n",
            "########## Train ##########\n",
            "Epoca: 13\t Train Loss: 0.002064, Time: 4.82\n",
            "\n",
            "########## Validate ##########\n",
            "Epoca: 13\t Val Loss: 0.001972, Time: 4.73\n",
            "Acurácia do Isolation Forest: 0.987\t 987 Outliers, 13 Inliers\n",
            "\n",
            "########## Train ##########\n",
            "Epoca: 14\t Train Loss: 0.001992, Time: 4.82\n",
            "\n",
            "########## Validate ##########\n",
            "Epoca: 14\t Val Loss: 0.001914, Time: 4.75\n",
            "Acurácia do Isolation Forest: 0.930\t 930 Outliers, 70 Inliers\n",
            "\n",
            "########## Train ##########\n",
            "Epoca: 15\t Train Loss: 0.001929, Time: 5.93\n",
            "\n",
            "########## Validate ##########\n",
            "Epoca: 15\t Val Loss: 0.001863, Time: 4.78\n",
            "Acurácia do Isolation Forest: 0.920\t 920 Outliers, 80 Inliers\n",
            "\n",
            "########## Train ##########\n",
            "Epoca: 16\t Train Loss: 0.001872, Time: 4.82\n",
            "\n",
            "########## Validate ##########\n",
            "Epoca: 16\t Val Loss: 0.001815, Time: 4.76\n",
            "Acurácia do Isolation Forest: 0.912\t 912 Outliers, 88 Inliers\n",
            "\n",
            "########## Train ##########\n",
            "Epoca: 17\t Train Loss: 0.001822, Time: 4.82\n",
            "\n",
            "########## Validate ##########\n",
            "Epoca: 17\t Val Loss: 0.001776, Time: 4.75\n",
            "Acurácia do Isolation Forest: 0.935\t 935 Outliers, 65 Inliers\n",
            "\n",
            "########## Train ##########\n",
            "Epoca: 18\t Train Loss: 0.001777, Time: 4.85\n",
            "\n",
            "########## Validate ##########\n",
            "Epoca: 18\t Val Loss: 0.001734, Time: 4.75\n",
            "Acurácia do Isolation Forest: 0.919\t 919 Outliers, 81 Inliers\n",
            "\n",
            "########## Train ##########\n",
            "Epoca: 19\t Train Loss: 0.001736, Time: 4.82\n",
            "\n",
            "########## Validate ##########\n",
            "Epoca: 19\t Val Loss: 0.001699, Time: 4.74\n",
            "Acurácia do Isolation Forest: 0.924\t 924 Outliers, 76 Inliers\n",
            "\n",
            "########## Train ##########\n",
            "Epoca: 20\t Train Loss: 0.001698, Time: 5.94\n",
            "\n",
            "########## Validate ##########\n",
            "Epoca: 20\t Val Loss: 0.001667, Time: 4.77\n",
            "Acurácia do Isolation Forest: 0.906\t 906 Outliers, 94 Inliers\n",
            "\n",
            "########## Train ##########\n",
            "Epoca: 21\t Train Loss: 0.001664, Time: 4.84\n",
            "\n",
            "########## Validate ##########\n",
            "Epoca: 21\t Val Loss: 0.001636, Time: 4.78\n",
            "Acurácia do Isolation Forest: 0.910\t 910 Outliers, 90 Inliers\n",
            "\n",
            "########## Train ##########\n",
            "Epoca: 22\t Train Loss: 0.001631, Time: 4.82\n",
            "\n",
            "########## Validate ##########\n",
            "Epoca: 22\t Val Loss: 0.001611, Time: 4.75\n",
            "Acurácia do Isolation Forest: 0.926\t 926 Outliers, 74 Inliers\n",
            "\n",
            "########## Train ##########\n",
            "Epoca: 23\t Train Loss: 0.001600, Time: 4.85\n",
            "\n",
            "########## Validate ##########\n",
            "Epoca: 23\t Val Loss: 0.001584, Time: 4.76\n",
            "Acurácia do Isolation Forest: 0.911\t 911 Outliers, 89 Inliers\n",
            "\n",
            "########## Train ##########\n",
            "Epoca: 24\t Train Loss: 0.001571, Time: 4.84\n",
            "\n",
            "########## Validate ##########\n",
            "Epoca: 24\t Val Loss: 0.001556, Time: 4.76\n",
            "Acurácia do Isolation Forest: 0.929\t 929 Outliers, 71 Inliers\n",
            "\n",
            "########## Train ##########\n",
            "Epoca: 25\t Train Loss: 0.001542, Time: 5.94\n",
            "\n",
            "########## Validate ##########\n",
            "Epoca: 25\t Val Loss: 0.001534, Time: 4.77\n",
            "Acurácia do Isolation Forest: 0.937\t 937 Outliers, 63 Inliers\n",
            "\n",
            "########## Train ##########\n",
            "Epoca: 26\t Train Loss: 0.001514, Time: 4.82\n",
            "\n",
            "########## Validate ##########\n",
            "Epoca: 26\t Val Loss: 0.001507, Time: 4.81\n",
            "Acurácia do Isolation Forest: 0.906\t 906 Outliers, 94 Inliers\n",
            "\n",
            "########## Train ##########\n",
            "Epoca: 27\t Train Loss: 0.001486, Time: 4.85\n",
            "\n",
            "########## Validate ##########\n",
            "Epoca: 27\t Val Loss: 0.001485, Time: 4.74\n",
            "Acurácia do Isolation Forest: 0.857\t 857 Outliers, 143 Inliers\n",
            "\n",
            "########## Train ##########\n",
            "Epoca: 28\t Train Loss: 0.001462, Time: 4.83\n",
            "\n",
            "########## Validate ##########\n",
            "Epoca: 28\t Val Loss: 0.001463, Time: 4.71\n",
            "Acurácia do Isolation Forest: 0.795\t 795 Outliers, 205 Inliers\n",
            "\n",
            "########## Train ##########\n",
            "Epoca: 29\t Train Loss: 0.001437, Time: 4.81\n",
            "\n",
            "########## Validate ##########\n",
            "Epoca: 29\t Val Loss: 0.001443, Time: 4.74\n",
            "Acurácia do Isolation Forest: 0.700\t 700 Outliers, 300 Inliers\n",
            "\n",
            "########## Train ##########\n",
            "Epoca: 30\t Train Loss: 0.001414, Time: 5.95\n",
            "\n",
            "########## Validate ##########\n",
            "Epoca: 30\t Val Loss: 0.001424, Time: 4.79\n",
            "Acurácia do Isolation Forest: 0.765\t 765 Outliers, 235 Inliers\n",
            "\n",
            "########## Train ##########\n",
            "Epoca: 31\t Train Loss: 0.001392, Time: 4.83\n",
            "\n",
            "########## Validate ##########\n",
            "Epoca: 31\t Val Loss: 0.001407, Time: 4.71\n",
            "Acurácia do Isolation Forest: 0.712\t 712 Outliers, 288 Inliers\n",
            "\n",
            "########## Train ##########\n",
            "Epoca: 32\t Train Loss: 0.001371, Time: 4.82\n",
            "\n",
            "########## Validate ##########\n",
            "Epoca: 32\t Val Loss: 0.001388, Time: 4.73\n",
            "Acurácia do Isolation Forest: 0.707\t 707 Outliers, 293 Inliers\n",
            "\n",
            "########## Train ##########\n",
            "Epoca: 33\t Train Loss: 0.001351, Time: 4.83\n",
            "\n",
            "########## Validate ##########\n",
            "Epoca: 33\t Val Loss: 0.001370, Time: 4.75\n",
            "Acurácia do Isolation Forest: 0.706\t 706 Outliers, 294 Inliers\n",
            "\n",
            "########## Train ##########\n",
            "Epoca: 34\t Train Loss: 0.001332, Time: 4.84\n",
            "\n",
            "########## Validate ##########\n",
            "Epoca: 34\t Val Loss: 0.001355, Time: 4.75\n",
            "Acurácia do Isolation Forest: 0.737\t 737 Outliers, 263 Inliers\n",
            "\n",
            "########## Train ##########\n",
            "Epoca: 35\t Train Loss: 0.001314, Time: 5.92\n",
            "\n",
            "########## Validate ##########\n",
            "Epoca: 35\t Val Loss: 0.001341, Time: 4.74\n",
            "Acurácia do Isolation Forest: 0.787\t 787 Outliers, 213 Inliers\n",
            "\n",
            "########## Train ##########\n",
            "Epoca: 36\t Train Loss: 0.001296, Time: 4.81\n",
            "\n",
            "########## Validate ##########\n",
            "Epoca: 36\t Val Loss: 0.001325, Time: 4.77\n",
            "Acurácia do Isolation Forest: 0.800\t 800 Outliers, 200 Inliers\n",
            "\n",
            "########## Train ##########\n",
            "Epoca: 37\t Train Loss: 0.001279, Time: 4.85\n",
            "\n",
            "########## Validate ##########\n",
            "Epoca: 37\t Val Loss: 0.001311, Time: 4.70\n",
            "Acurácia do Isolation Forest: 0.822\t 822 Outliers, 178 Inliers\n",
            "\n",
            "########## Train ##########\n",
            "Epoca: 38\t Train Loss: 0.001263, Time: 4.85\n",
            "\n",
            "########## Validate ##########\n",
            "Epoca: 38\t Val Loss: 0.001299, Time: 4.73\n",
            "Acurácia do Isolation Forest: 0.847\t 847 Outliers, 153 Inliers\n",
            "\n",
            "########## Train ##########\n",
            "Epoca: 39\t Train Loss: 0.001249, Time: 4.82\n",
            "\n",
            "########## Validate ##########\n",
            "Epoca: 39\t Val Loss: 0.001287, Time: 4.73\n",
            "Acurácia do Isolation Forest: 0.891\t 891 Outliers, 109 Inliers\n",
            "\n",
            "########## Train ##########\n",
            "Epoca: 40\t Train Loss: 0.001234, Time: 5.95\n",
            "\n",
            "########## Validate ##########\n",
            "Epoca: 40\t Val Loss: 0.001278, Time: 4.76\n",
            "Acurácia do Isolation Forest: 0.862\t 862 Outliers, 138 Inliers\n",
            "\n",
            "########## Train ##########\n",
            "Epoca: 41\t Train Loss: 0.001220, Time: 4.85\n",
            "\n",
            "########## Validate ##########\n",
            "Epoca: 41\t Val Loss: 0.001261, Time: 4.75\n",
            "Acurácia do Isolation Forest: 0.846\t 846 Outliers, 154 Inliers\n",
            "\n",
            "########## Train ##########\n",
            "Epoca: 42\t Train Loss: 0.001206, Time: 4.81\n",
            "\n",
            "########## Validate ##########\n",
            "Epoca: 42\t Val Loss: 0.001251, Time: 4.72\n",
            "Acurácia do Isolation Forest: 0.869\t 869 Outliers, 131 Inliers\n",
            "\n",
            "########## Train ##########\n",
            "Epoca: 43\t Train Loss: 0.001194, Time: 4.82\n",
            "\n",
            "########## Validate ##########\n",
            "Epoca: 43\t Val Loss: 0.001239, Time: 4.72\n",
            "Acurácia do Isolation Forest: 0.856\t 856 Outliers, 144 Inliers\n",
            "\n",
            "########## Train ##########\n",
            "Epoca: 44\t Train Loss: 0.001182, Time: 4.85\n",
            "\n",
            "########## Validate ##########\n",
            "Epoca: 44\t Val Loss: 0.001228, Time: 4.72\n",
            "Acurácia do Isolation Forest: 0.758\t 758 Outliers, 242 Inliers\n",
            "\n",
            "########## Train ##########\n",
            "Epoca: 45\t Train Loss: 0.001170, Time: 5.95\n",
            "\n",
            "########## Validate ##########\n",
            "Epoca: 45\t Val Loss: 0.001222, Time: 4.74\n",
            "Acurácia do Isolation Forest: 0.808\t 808 Outliers, 192 Inliers\n",
            "\n",
            "########## Train ##########\n",
            "Epoca: 46\t Train Loss: 0.001160, Time: 4.81\n",
            "\n",
            "########## Validate ##########\n",
            "Epoca: 46\t Val Loss: 0.001210, Time: 4.82\n",
            "Acurácia do Isolation Forest: 0.730\t 730 Outliers, 270 Inliers\n",
            "\n",
            "########## Train ##########\n",
            "Epoca: 47\t Train Loss: 0.001149, Time: 4.84\n",
            "\n",
            "########## Validate ##########\n",
            "Epoca: 47\t Val Loss: 0.001200, Time: 5.02\n",
            "Acurácia do Isolation Forest: 0.696\t 696 Outliers, 304 Inliers\n",
            "\n",
            "########## Train ##########\n",
            "Epoca: 48\t Train Loss: 0.001139, Time: 4.87\n",
            "\n",
            "########## Validate ##########\n",
            "Epoca: 48\t Val Loss: 0.001201, Time: 4.71\n",
            "Acurácia do Isolation Forest: 0.781\t 781 Outliers, 219 Inliers\n",
            "\n",
            "########## Train ##########\n",
            "Epoca: 49\t Train Loss: 0.001129, Time: 4.83\n",
            "\n",
            "########## Validate ##########\n",
            "Epoca: 49\t Val Loss: 0.001184, Time: 4.75\n",
            "Acurácia do Isolation Forest: 0.660\t 660 Outliers, 340 Inliers\n",
            "\n",
            "########## Train ##########\n",
            "Epoca: 50\t Train Loss: 0.001120, Time: 5.97\n",
            "\n",
            "########## Validate ##########\n",
            "Epoca: 50\t Val Loss: 0.001180, Time: 4.79\n",
            "Acurácia do Isolation Forest: 0.606\t 606 Outliers, 394 Inliers\n",
            "\n",
            "########## Train ##########\n",
            "Epoca: 51\t Train Loss: 0.001111, Time: 4.83\n",
            "\n",
            "########## Validate ##########\n",
            "Epoca: 51\t Val Loss: 0.001173, Time: 4.78\n",
            "Acurácia do Isolation Forest: 0.619\t 619 Outliers, 381 Inliers\n",
            "\n",
            "########## Train ##########\n",
            "Epoca: 52\t Train Loss: 0.001102, Time: 4.83\n",
            "\n",
            "########## Validate ##########\n",
            "Epoca: 52\t Val Loss: 0.001164, Time: 4.69\n",
            "Acurácia do Isolation Forest: 0.569\t 569 Outliers, 431 Inliers\n",
            "\n",
            "########## Train ##########\n",
            "Epoca: 53\t Train Loss: 0.001095, Time: 4.88\n",
            "\n",
            "########## Validate ##########\n",
            "Epoca: 53\t Val Loss: 0.001155, Time: 4.69\n",
            "Acurácia do Isolation Forest: 0.508\t 508 Outliers, 492 Inliers\n",
            "\n",
            "########## Train ##########\n",
            "Epoca: 54\t Train Loss: 0.001086, Time: 4.86\n",
            "\n",
            "########## Validate ##########\n",
            "Epoca: 54\t Val Loss: 0.001149, Time: 4.74\n",
            "Acurácia do Isolation Forest: 0.513\t 513 Outliers, 487 Inliers\n",
            "\n",
            "########## Train ##########\n",
            "Epoca: 55\t Train Loss: 0.001079, Time: 5.92\n",
            "\n",
            "########## Validate ##########\n",
            "Epoca: 55\t Val Loss: 0.001143, Time: 4.77\n",
            "Acurácia do Isolation Forest: 0.496\t 496 Outliers, 504 Inliers\n",
            "\n",
            "########## Train ##########\n",
            "Epoca: 56\t Train Loss: 0.001071, Time: 4.85\n",
            "\n",
            "########## Validate ##########\n",
            "Epoca: 56\t Val Loss: 0.001136, Time: 4.69\n",
            "Acurácia do Isolation Forest: 0.480\t 480 Outliers, 520 Inliers\n",
            "\n",
            "########## Train ##########\n",
            "Epoca: 57\t Train Loss: 0.001063, Time: 4.84\n",
            "\n",
            "########## Validate ##########\n",
            "Epoca: 57\t Val Loss: 0.001132, Time: 4.72\n",
            "Acurácia do Isolation Forest: 0.494\t 494 Outliers, 506 Inliers\n",
            "\n",
            "########## Train ##########\n",
            "Epoca: 58\t Train Loss: 0.001056, Time: 4.84\n",
            "\n",
            "########## Validate ##########\n",
            "Epoca: 58\t Val Loss: 0.001126, Time: 4.71\n",
            "Acurácia do Isolation Forest: 0.526\t 526 Outliers, 474 Inliers\n",
            "\n",
            "########## Train ##########\n",
            "Epoca: 59\t Train Loss: 0.001050, Time: 4.85\n",
            "\n",
            "########## Validate ##########\n",
            "Epoca: 59\t Val Loss: 0.001119, Time: 4.82\n",
            "Acurácia do Isolation Forest: 0.501\t 501 Outliers, 499 Inliers\n",
            "\n",
            "########## Train ##########\n",
            "Epoca: 60\t Train Loss: 0.001044, Time: 5.95\n",
            "\n",
            "########## Validate ##########\n",
            "Epoca: 60\t Val Loss: 0.001119, Time: 4.77\n",
            "Acurácia do Isolation Forest: 0.446\t 446 Outliers, 554 Inliers\n",
            "\n",
            "########## Train ##########\n",
            "Epoca: 61\t Train Loss: 0.001036, Time: 4.84\n",
            "\n",
            "########## Validate ##########\n",
            "Epoca: 61\t Val Loss: 0.001109, Time: 4.75\n",
            "Acurácia do Isolation Forest: 0.533\t 533 Outliers, 467 Inliers\n",
            "\n",
            "########## Train ##########\n",
            "Epoca: 62\t Train Loss: 0.001031, Time: 4.83\n",
            "\n",
            "########## Validate ##########\n",
            "Epoca: 62\t Val Loss: 0.001103, Time: 4.76\n",
            "Acurácia do Isolation Forest: 0.449\t 449 Outliers, 551 Inliers\n",
            "\n",
            "########## Train ##########\n",
            "Epoca: 63\t Train Loss: 0.001024, Time: 4.84\n",
            "\n",
            "########## Validate ##########\n",
            "Epoca: 63\t Val Loss: 0.001097, Time: 4.71\n",
            "Acurácia do Isolation Forest: 0.462\t 462 Outliers, 538 Inliers\n",
            "\n",
            "########## Train ##########\n",
            "Epoca: 64\t Train Loss: 0.001019, Time: 4.86\n",
            "\n",
            "########## Validate ##########\n",
            "Epoca: 64\t Val Loss: 0.001092, Time: 4.68\n",
            "Acurácia do Isolation Forest: 0.446\t 446 Outliers, 554 Inliers\n",
            "\n",
            "########## Train ##########\n",
            "Epoca: 65\t Train Loss: 0.001013, Time: 5.93\n",
            "\n",
            "########## Validate ##########\n",
            "Epoca: 65\t Val Loss: 0.001088, Time: 4.75\n",
            "Acurácia do Isolation Forest: 0.463\t 463 Outliers, 537 Inliers\n",
            "\n",
            "########## Train ##########\n",
            "Epoca: 66\t Train Loss: 0.001008, Time: 4.82\n",
            "\n",
            "########## Validate ##########\n",
            "Epoca: 66\t Val Loss: 0.001083, Time: 4.73\n",
            "Acurácia do Isolation Forest: 0.387\t 387 Outliers, 613 Inliers\n",
            "\n",
            "########## Train ##########\n",
            "Epoca: 67\t Train Loss: 0.001003, Time: 4.82\n",
            "\n",
            "########## Validate ##########\n",
            "Epoca: 67\t Val Loss: 0.001081, Time: 4.71\n",
            "Acurácia do Isolation Forest: 0.517\t 517 Outliers, 483 Inliers\n",
            "\n",
            "########## Train ##########\n",
            "Epoca: 68\t Train Loss: 0.000997, Time: 4.81\n",
            "\n",
            "########## Validate ##########\n",
            "Epoca: 68\t Val Loss: 0.001074, Time: 4.73\n",
            "Acurácia do Isolation Forest: 0.449\t 449 Outliers, 551 Inliers\n",
            "\n",
            "########## Train ##########\n",
            "Epoca: 69\t Train Loss: 0.000992, Time: 4.86\n",
            "\n",
            "########## Validate ##########\n",
            "Epoca: 69\t Val Loss: 0.001069, Time: 4.69\n",
            "Acurácia do Isolation Forest: 0.418\t 418 Outliers, 582 Inliers\n",
            "\n",
            "########## Train ##########\n",
            "Epoca: 70\t Train Loss: 0.000987, Time: 5.95\n",
            "\n",
            "########## Validate ##########\n",
            "Epoca: 70\t Val Loss: 0.001066, Time: 4.76\n",
            "Acurácia do Isolation Forest: 0.425\t 425 Outliers, 575 Inliers\n",
            "\n",
            "########## Train ##########\n",
            "Epoca: 71\t Train Loss: 0.000982, Time: 4.84\n",
            "\n",
            "########## Validate ##########\n",
            "Epoca: 71\t Val Loss: 0.001063, Time: 4.72\n",
            "Acurácia do Isolation Forest: 0.450\t 450 Outliers, 550 Inliers\n",
            "\n",
            "########## Train ##########\n",
            "Epoca: 72\t Train Loss: 0.000978, Time: 4.86\n",
            "\n",
            "########## Validate ##########\n",
            "Epoca: 72\t Val Loss: 0.001057, Time: 4.80\n",
            "Acurácia do Isolation Forest: 0.413\t 413 Outliers, 587 Inliers\n",
            "\n",
            "########## Train ##########\n",
            "Epoca: 73\t Train Loss: 0.000973, Time: 4.85\n",
            "\n",
            "########## Validate ##########\n",
            "Epoca: 73\t Val Loss: 0.001056, Time: 4.69\n",
            "Acurácia do Isolation Forest: 0.390\t 390 Outliers, 610 Inliers\n",
            "\n",
            "########## Train ##########\n",
            "Epoca: 74\t Train Loss: 0.000968, Time: 4.85\n",
            "\n",
            "########## Validate ##########\n",
            "Epoca: 74\t Val Loss: 0.001049, Time: 4.68\n",
            "Acurácia do Isolation Forest: 0.432\t 432 Outliers, 568 Inliers\n",
            "\n"
          ]
        }
      ]
    },
    {
      "cell_type": "markdown",
      "source": [
        "## Teste"
      ],
      "metadata": {
        "id": "xSLDlucDFZ5M"
      }
    },
    {
      "cell_type": "code",
      "source": [
        "#isolation_train =  np.load('isolation_train_dataset.npy', allow_pickle = True)/255.0\n",
        "#isolation_test = np.load('isolation_test_dataset.npy', allow_pickle = True)/255.0\n",
        "\n",
        "train_label = np.zeros(train_set.shape[0])\n",
        "test_label = np.ones(test_set.shape[0])\n",
        "\n",
        "labels = np.concatenate((train_label, test_label))\n",
        "dataset = np.concatenate((train_set, test_set))\n",
        "\n",
        "labels = torch.from_numpy(labels)\n",
        "dataset = torch.from_numpy(dataset)"
      ],
      "metadata": {
        "id": "kvt5EhM4FfDF"
      },
      "execution_count": 123,
      "outputs": []
    },
    {
      "cell_type": "code",
      "source": [
        "dataloader = DataLoader([ [dataset[i], labels[i]] for i in range(len(dataset))],\n",
        "                        shuffle=True,\n",
        "                        batch_size=args['batch_size'],\n",
        "                        num_workers=args['num_workers'])"
      ],
      "metadata": {
        "id": "NAvla2_1IrYQ"
      },
      "execution_count": 124,
      "outputs": []
    },
    {
      "cell_type": "code",
      "source": [
        "model.eval()\n",
        "\n",
        "tns = []\n",
        "predicts = []\n",
        "outliers, inliers = 0, 0\n",
        "\n",
        "start = time.time()\n",
        "\n",
        "test_loss = 0.0\n",
        "with torch.no_grad():\n",
        "  for data in dataloader:\n",
        "    imagem, label = data\n",
        "    imagem = imagem.unsqueeze(1).float()\n",
        "    imagem = imagem.to(args['device'])\n",
        "\n",
        "    # forward pass\n",
        "    output = model(imagem)\n",
        "\n",
        "    y = isolation_forest.predict(torch.flatten(output,start_dim=1).cpu().data)\n",
        "    outliers += list(y).count(-1)\n",
        "    inliers += list(y).count(1)\n",
        "    predicts.append(accuracy_score(label, y))\n",
        "\n",
        "    # calculando loss\n",
        "    loss = criterio(output, imagem)\n",
        "\n",
        "    # update running test loss\n",
        "    test_loss += loss.item()\n",
        "\n",
        "\n",
        "  test_loss = test_loss/len(test_loader)\n",
        "  end = time.time()\n",
        "\n",
        "  if epoch % 5 == 0:\n",
        "    save_decod_img(imagem.cpu().data, output.cpu().data, epoch, name)\n",
        "  print('########## Test ##########')\n",
        "\n",
        "  \n",
        "  print(\"Epoca: {}\\t Test Loss: {:.6f}, Time: {:.2f}\\nAcurácia do Isolation Forest: {:.3f}\\t {} Outliers, {} Inliers\\n\".format(epoch, test_loss, end-start, (sum(predicts)/len(predicts)), outliers, inliers))\n"
      ],
      "metadata": {
        "colab": {
          "base_uri": "https://localhost:8080/"
        },
        "id": "3CAobTgLFe3e",
        "outputId": "147a5769-dc72-4559-a251-0b8db2096d3c"
      },
      "execution_count": 125,
      "outputs": [
        {
          "output_type": "stream",
          "name": "stdout",
          "text": [
            "########## Test ##########\n",
            "Epoca: 74\t Test Loss: 0.004911, Time: 22.91\n",
            "Acurácia do Isolation Forest: 0.114\t 2497 Outliers, 2503 Inliers\n",
            "\n"
          ]
        }
      ]
    },
    {
      "cell_type": "markdown",
      "source": [
        "## Plot Treino x Teste"
      ],
      "metadata": {
        "id": "0rXPlSNFijQU"
      }
    },
    {
      "cell_type": "code",
      "source": [
        " plt.plot(train_losses, label='Train')\n",
        " plt.plot(val_losses, label='Test')\n",
        " plt.legend(loc=\"upper right\")\n",
        " plt.ylabel('Loss')\n",
        " plt.xlabel('Epochs')"
      ],
      "metadata": {
        "id": "nUMrkYR5iiqC",
        "colab": {
          "base_uri": "https://localhost:8080/",
          "height": 296
        },
        "outputId": "f6bfef98-27fa-4d2b-adad-0a010a1afc25"
      },
      "execution_count": 126,
      "outputs": [
        {
          "output_type": "execute_result",
          "data": {
            "text/plain": [
              "Text(0.5, 0, 'Epochs')"
            ]
          },
          "metadata": {},
          "execution_count": 126
        },
        {
          "output_type": "display_data",
          "data": {
            "text/plain": [
              "<Figure size 432x288 with 1 Axes>"
            ],
            "image/png": "[encoded data removed]"
          },
          "metadata": {
            "needs_background": "light"
          }
        }
      ]
    },
    {
      "cell_type": "code",
      "source": [
        " plt.plot(val_predicts, label='Test Dataset Accuracy')\n",
        " plt.legend(loc=\"upper right\")\n",
        " plt.ylabel('Average')\n",
        " plt.xlabel('Epochs')"
      ],
      "metadata": {
        "colab": {
          "base_uri": "https://localhost:8080/",
          "height": 296
        },
        "id": "HtWFdXgOA1N6",
        "outputId": "2c97c894-f627-4704-8bf3-ea1528f00be5"
      },
      "execution_count": 127,
      "outputs": [
        {
          "output_type": "execute_result",
          "data": {
            "text/plain": [
              "Text(0.5, 0, 'Epochs')"
            ]
          },
          "metadata": {},
          "execution_count": 127
        },
        {
          "output_type": "display_data",
          "data": {
            "text/plain": [
              "<Figure size 432x288 with 1 Axes>"
            ],
            "image/png": "[encoded data removed]"
          },
          "metadata": {
            "needs_background": "light"
          }
        }
      ]
    },
    {
      "cell_type": "markdown",
      "source": [
        "## Plot da Imagem Original(normalizada) x Imagem Reconstruída via AutoEncoder Convolucional"
      ],
      "metadata": {
        "id": "AHoIUvBmirI9"
      }
    },
    {
      "cell_type": "code",
      "source": [
        "n_# obtain one batch of test images\n",
        "dataiter = iter(train_loader)\n",
        "images = dataiter.next()\n",
        "\n",
        "imagem = images.unsqueeze(1).float()\n",
        "imagem /= 255.0\n",
        "imagem = imagem.to(args['device'])\n",
        "\n",
        "# get sample outputs\n",
        "output = model(imagem)\n",
        "# prep images for display\n",
        "images = images.numpy()\n",
        "\n",
        "\n",
        "\n",
        "# output is resized into a batch of iages\n",
        "output = output.view(args['batch_size'], 1, 120, 120)\n",
        "# use detach when it's an output that requires_grad\n",
        "output = output.detach()#.numpy()\n",
        "\n",
        "\n",
        "\n",
        "# plot the first ten input images and then reconstructed images\n",
        "fig, axes = plt.subplots(nrows=2, ncols=10, sharex=True, sharey=True, figsize=(24,4))\n",
        "for idx in np.arange(20):\n",
        "    ax = fig.add_subplot(2, 20/2, idx+1, xticks=[], yticks=[])\n",
        "    loss = criterio(output[idx], imagem[idx])\n",
        "    label = 'Loss value: {:.3f}'\n",
        "    ax.set_xlabel(label.format(loss) )\n",
        "    ax.set_title(\"Reconstructed Image\")\n",
        "    plt.imshow(output[idx].squeeze().cpu(), cmap='gray')\n",
        "    \n",
        "# plot the first ten input images and then reconstructed images\n",
        "fig, axes = plt.subplots(nrows=2, ncols=10, sharex=True, sharey=True, figsize=(24,4))\n",
        "for idx in np.arange(20):\n",
        "    ax = fig.add_subplot(2, 20/2, idx+1, xticks=[], yticks=[])\n",
        "    loss = criterio(output[idx], imagem[idx])\n",
        "    label = 'Loss value: {:.3f}'\n",
        "    ax.set_xlabel(label.format(loss) )\n",
        "    ax.set_title(\"Original Image\")\n",
        "    plt.imshow(images[idx].squeeze(), cmap='gray')\n"
      ],
      "metadata": {
        "id": "CNOb9zHIiohP",
        "colab": {
          "base_uri": "https://localhost:8080/",
          "height": 235
        },
        "outputId": "fd35712e-a423-4fef-d5f9-cb8348fb1170"
      },
      "execution_count": 128,
      "outputs": [
        {
          "output_type": "error",
          "ename": "RuntimeError",
          "evalue": "ignored",
          "traceback": [
            "\u001b[0;31m---------------------------------------------------------------------------\u001b[0m",
            "\u001b[0;31mRuntimeError\u001b[0m                              Traceback (most recent call last)",
            "\u001b[0;32m<ipython-input-128-76f0cd9469b7>\u001b[0m in \u001b[0;36m<module>\u001b[0;34m()\u001b[0m\n\u001b[1;32m     15\u001b[0m \u001b[0;34m\u001b[0m\u001b[0m\n\u001b[1;32m     16\u001b[0m \u001b[0;31m# output is resized into a batch of iages\u001b[0m\u001b[0;34m\u001b[0m\u001b[0;34m\u001b[0m\u001b[0;34m\u001b[0m\u001b[0m\n\u001b[0;32m---> 17\u001b[0;31m \u001b[0moutput\u001b[0m \u001b[0;34m=\u001b[0m \u001b[0moutput\u001b[0m\u001b[0;34m.\u001b[0m\u001b[0mview\u001b[0m\u001b[0;34m(\u001b[0m\u001b[0margs\u001b[0m\u001b[0;34m[\u001b[0m\u001b[0;34m'batch_size'\u001b[0m\u001b[0;34m]\u001b[0m\u001b[0;34m,\u001b[0m \u001b[0;36m1\u001b[0m\u001b[0;34m,\u001b[0m \u001b[0;36m120\u001b[0m\u001b[0;34m,\u001b[0m \u001b[0;36m120\u001b[0m\u001b[0;34m)\u001b[0m\u001b[0;34m\u001b[0m\u001b[0;34m\u001b[0m\u001b[0m\n\u001b[0m\u001b[1;32m     18\u001b[0m \u001b[0;31m# use detach when it's an output that requires_grad\u001b[0m\u001b[0;34m\u001b[0m\u001b[0;34m\u001b[0m\u001b[0;34m\u001b[0m\u001b[0m\n\u001b[1;32m     19\u001b[0m \u001b[0moutput\u001b[0m \u001b[0;34m=\u001b[0m \u001b[0moutput\u001b[0m\u001b[0;34m.\u001b[0m\u001b[0mdetach\u001b[0m\u001b[0;34m(\u001b[0m\u001b[0;34m)\u001b[0m\u001b[0;31m#.numpy()\u001b[0m\u001b[0;34m\u001b[0m\u001b[0;34m\u001b[0m\u001b[0m\n",
            "\u001b[0;31mRuntimeError\u001b[0m: shape '[50, 1, 120, 120]' is invalid for input of size 1280000"
          ]
        }
      ]
    },
    {
      "cell_type": "code",
      "metadata": {
        "id": "ogQCkTYUE9cY"
      },
      "source": [
        "# obtain one batch of test images\n",
        "dataiter = iter(test_loader)\n",
        "images = dataiter.next()\n",
        "\n",
        "imagem = images.unsqueeze(1).float()\n",
        "imagem /= 255.0\n",
        "imagem = imagem.to(args['device'])\n",
        "\n",
        "# get sample outputs\n",
        "output = model(imagem)\n",
        "# prep images for display\n",
        "images = images.numpy()\n",
        "\n",
        "\n",
        "\n",
        "# output is resized into a batch of iages\n",
        "output = output.view(args['batch_size'], 1, 120, 120)\n",
        "# use detach when it's an output that requires_grad\n",
        "output = output.detach()#.numpy()\n",
        "\n",
        "\n",
        "\n",
        "# plot the first ten input images and then reconstructed images\n",
        "fig, axes = plt.subplots(nrows=2, ncols=10, sharex=True, sharey=True, figsize=(24,4))\n",
        "for idx in np.arange(20):\n",
        "    ax = fig.add_subplot(2, 20/2, idx+1, xticks=[], yticks=[])\n",
        "    loss = criterio(output[idx], imagem[idx])\n",
        "    label = 'Loss value: {:.3f}'\n",
        "    ax.set_xlabel(label.format(loss) )\n",
        "    ax.set_title(\"Reconstructed Image\")\n",
        "    plt.imshow(output[idx].squeeze().cpu(), cmap='gray')\n",
        "    \n",
        "# plot the first ten input images and then reconstructed images\n",
        "fig, axes = plt.subplots(nrows=2, ncols=10, sharex=True, sharey=True, figsize=(24,4))\n",
        "for idx in np.arange(20):\n",
        "    ax = fig.add_subplot(2, 20/2, idx+1, xticks=[], yticks=[])\n",
        "    loss = criterio(output[idx], imagem[idx])\n",
        "    label = 'Loss value: {:.3f}'\n",
        "    ax.set_xlabel(label.format(loss) )\n",
        "    ax.set_title(\"Original Image\")\n",
        "    plt.imshow(images[idx].squeeze(), cmap='gray')\n"
      ],
      "execution_count": null,
      "outputs": []
    },
    {
      "cell_type": "code",
      "source": [
        ""
      ],
      "metadata": {
        "id": "6Nezw53Hj-JA"
      },
      "execution_count": null,
      "outputs": []
    }
  ]
}